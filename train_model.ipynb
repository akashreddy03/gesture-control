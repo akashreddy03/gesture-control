{
 "cells": [
  {
   "cell_type": "code",
   "execution_count": 18,
   "metadata": {},
   "outputs": [],
   "source": [
    "import os\n",
    "import tensorflow as tf\n",
    "from mediapipe_model_maker import gesture_recognizer"
   ]
  },
  {
   "cell_type": "code",
   "execution_count": 19,
   "metadata": {},
   "outputs": [],
   "source": [
    "dataset_path = \"dataset\""
   ]
  },
  {
   "cell_type": "code",
   "execution_count": 21,
   "metadata": {},
   "outputs": [
    {
     "name": "stdout",
     "output_type": "stream",
     "text": [
      "dataset\n",
      "['CLOSED_FIST', 'THUMB_DOWN', 'OPEN_PALM', 'none', 'THUMB_UP']\n"
     ]
    }
   ],
   "source": [
    "print(dataset_path)\n",
    "labels = []\n",
    "for i in os.listdir(dataset_path):\n",
    "  if os.path.isdir(os.path.join(dataset_path, i)):\n",
    "    labels.append(i)\n",
    "print(labels)"
   ]
  },
  {
   "cell_type": "code",
   "execution_count": 38,
   "metadata": {},
   "outputs": [
    {
     "name": "stdout",
     "output_type": "stream",
     "text": [
      "Using existing files at /tmp/model_maker/gesture_recognizer/palm_detection_full.tflite\n",
      "Using existing files at /tmp/model_maker/gesture_recognizer/hand_landmark_full.tflite\n",
      "INFO:tensorflow:Loading image /home/akash/Desktop/workspace/gesture-control/dataset/THUMB_UP/IMG_74.jpg\n"
     ]
    },
    {
     "name": "stderr",
     "output_type": "stream",
     "text": [
      "I0000 00:00:1715268499.946746  112838 gl_context_egl.cc:85] Successfully initialized EGL. Major : 1 Minor: 5\n",
      "I0000 00:00:1715268499.947750  137076 gl_context.cc:357] GL version: 3.2 (OpenGL ES 3.2 Mesa 24.0.6-arch1.2), renderer: Mesa Intel(R) Xe Graphics (TGL GT2)\n",
      "INFO:tensorflow:Loading image /home/akash/Desktop/workspace/gesture-control/dataset/THUMB_UP/IMG_74.jpg\n"
     ]
    },
    {
     "name": "stdout",
     "output_type": "stream",
     "text": [
      "INFO:tensorflow:Loading image /home/akash/Desktop/workspace/gesture-control/dataset/THUMB_UP/IMG_62.jpg\n"
     ]
    },
    {
     "name": "stderr",
     "output_type": "stream",
     "text": [
      "INFO:tensorflow:Loading image /home/akash/Desktop/workspace/gesture-control/dataset/THUMB_UP/IMG_62.jpg\n"
     ]
    },
    {
     "name": "stdout",
     "output_type": "stream",
     "text": [
      "INFO:tensorflow:Loading image /home/akash/Desktop/workspace/gesture-control/dataset/none/IMG_1715159061.655683.jpg\n"
     ]
    },
    {
     "name": "stderr",
     "output_type": "stream",
     "text": [
      "INFO:tensorflow:Loading image /home/akash/Desktop/workspace/gesture-control/dataset/none/IMG_1715159061.655683.jpg\n"
     ]
    },
    {
     "name": "stdout",
     "output_type": "stream",
     "text": [
      "INFO:tensorflow:Loading image /home/akash/Desktop/workspace/gesture-control/dataset/CLOSED_FIST/938.jpg\n"
     ]
    },
    {
     "name": "stderr",
     "output_type": "stream",
     "text": [
      "INFO:tensorflow:Loading image /home/akash/Desktop/workspace/gesture-control/dataset/CLOSED_FIST/938.jpg\n"
     ]
    },
    {
     "name": "stdout",
     "output_type": "stream",
     "text": [
      "INFO:tensorflow:Loading image /home/akash/Desktop/workspace/gesture-control/dataset/THUMB_DOWN/IMG_73.jpg\n"
     ]
    },
    {
     "name": "stderr",
     "output_type": "stream",
     "text": [
      "INFO:tensorflow:Loading image /home/akash/Desktop/workspace/gesture-control/dataset/THUMB_DOWN/IMG_73.jpg\n"
     ]
    },
    {
     "name": "stdout",
     "output_type": "stream",
     "text": [
      "INFO:tensorflow:Loading image /home/akash/Desktop/workspace/gesture-control/dataset/CLOSED_FIST/449.jpg\n"
     ]
    },
    {
     "name": "stderr",
     "output_type": "stream",
     "text": [
      "INFO:tensorflow:Loading image /home/akash/Desktop/workspace/gesture-control/dataset/CLOSED_FIST/449.jpg\n"
     ]
    },
    {
     "name": "stdout",
     "output_type": "stream",
     "text": [
      "INFO:tensorflow:Loading image /home/akash/Desktop/workspace/gesture-control/dataset/none/1633.jpg\n"
     ]
    },
    {
     "name": "stderr",
     "output_type": "stream",
     "text": [
      "INFO:tensorflow:Loading image /home/akash/Desktop/workspace/gesture-control/dataset/none/1633.jpg\n"
     ]
    },
    {
     "name": "stdout",
     "output_type": "stream",
     "text": [
      "INFO:tensorflow:Loading image /home/akash/Desktop/workspace/gesture-control/dataset/none/255.jpg\n"
     ]
    },
    {
     "name": "stderr",
     "output_type": "stream",
     "text": [
      "INFO:tensorflow:Loading image /home/akash/Desktop/workspace/gesture-control/dataset/none/255.jpg\n"
     ]
    },
    {
     "name": "stdout",
     "output_type": "stream",
     "text": [
      "INFO:tensorflow:Loading image /home/akash/Desktop/workspace/gesture-control/dataset/none/1101.jpg\n"
     ]
    },
    {
     "name": "stderr",
     "output_type": "stream",
     "text": [
      "INFO:tensorflow:Loading image /home/akash/Desktop/workspace/gesture-control/dataset/none/1101.jpg\n"
     ]
    },
    {
     "name": "stdout",
     "output_type": "stream",
     "text": [
      "INFO:tensorflow:Loading image /home/akash/Desktop/workspace/gesture-control/dataset/none/1067.jpg\n"
     ]
    },
    {
     "name": "stderr",
     "output_type": "stream",
     "text": [
      "INFO:tensorflow:Loading image /home/akash/Desktop/workspace/gesture-control/dataset/none/1067.jpg\n"
     ]
    },
    {
     "name": "stdout",
     "output_type": "stream",
     "text": [
      "INFO:tensorflow:Loading image /home/akash/Desktop/workspace/gesture-control/dataset/OPEN_PALM/IMG_53.jpg\n"
     ]
    },
    {
     "name": "stderr",
     "output_type": "stream",
     "text": [
      "INFO:tensorflow:Loading image /home/akash/Desktop/workspace/gesture-control/dataset/OPEN_PALM/IMG_53.jpg\n"
     ]
    },
    {
     "name": "stdout",
     "output_type": "stream",
     "text": [
      "INFO:tensorflow:Loading image /home/akash/Desktop/workspace/gesture-control/dataset/THUMB_UP/IMG_89.jpg\n"
     ]
    },
    {
     "name": "stderr",
     "output_type": "stream",
     "text": [
      "INFO:tensorflow:Loading image /home/akash/Desktop/workspace/gesture-control/dataset/THUMB_UP/IMG_89.jpg\n"
     ]
    },
    {
     "name": "stdout",
     "output_type": "stream",
     "text": [
      "INFO:tensorflow:Loading image /home/akash/Desktop/workspace/gesture-control/dataset/OPEN_PALM/IMG_70.jpg\n"
     ]
    },
    {
     "name": "stderr",
     "output_type": "stream",
     "text": [
      "INFO:tensorflow:Loading image /home/akash/Desktop/workspace/gesture-control/dataset/OPEN_PALM/IMG_70.jpg\n"
     ]
    },
    {
     "name": "stdout",
     "output_type": "stream",
     "text": [
      "INFO:tensorflow:Loading image /home/akash/Desktop/workspace/gesture-control/dataset/CLOSED_FIST/621.jpg\n"
     ]
    },
    {
     "name": "stderr",
     "output_type": "stream",
     "text": [
      "INFO:tensorflow:Loading image /home/akash/Desktop/workspace/gesture-control/dataset/CLOSED_FIST/621.jpg\n"
     ]
    },
    {
     "name": "stdout",
     "output_type": "stream",
     "text": [
      "INFO:tensorflow:Loading image /home/akash/Desktop/workspace/gesture-control/dataset/none/729.jpg\n"
     ]
    },
    {
     "name": "stderr",
     "output_type": "stream",
     "text": [
      "INFO:tensorflow:Loading image /home/akash/Desktop/workspace/gesture-control/dataset/none/729.jpg\n"
     ]
    },
    {
     "name": "stdout",
     "output_type": "stream",
     "text": [
      "INFO:tensorflow:Loading image /home/akash/Desktop/workspace/gesture-control/dataset/none/1416.jpg\n"
     ]
    },
    {
     "name": "stderr",
     "output_type": "stream",
     "text": [
      "INFO:tensorflow:Loading image /home/akash/Desktop/workspace/gesture-control/dataset/none/1416.jpg\n"
     ]
    },
    {
     "name": "stdout",
     "output_type": "stream",
     "text": [
      "INFO:tensorflow:Loading image /home/akash/Desktop/workspace/gesture-control/dataset/CLOSED_FIST/614.jpg\n"
     ]
    },
    {
     "name": "stderr",
     "output_type": "stream",
     "text": [
      "INFO:tensorflow:Loading image /home/akash/Desktop/workspace/gesture-control/dataset/CLOSED_FIST/614.jpg\n"
     ]
    },
    {
     "name": "stdout",
     "output_type": "stream",
     "text": [
      "INFO:tensorflow:Loading image /home/akash/Desktop/workspace/gesture-control/dataset/CLOSED_FIST/182.jpg\n"
     ]
    },
    {
     "name": "stderr",
     "output_type": "stream",
     "text": [
      "INFO:tensorflow:Loading image /home/akash/Desktop/workspace/gesture-control/dataset/CLOSED_FIST/182.jpg\n"
     ]
    },
    {
     "name": "stdout",
     "output_type": "stream",
     "text": [
      "INFO:tensorflow:Loading image /home/akash/Desktop/workspace/gesture-control/dataset/OPEN_PALM/IMG_100.jpg\n"
     ]
    },
    {
     "name": "stderr",
     "output_type": "stream",
     "text": [
      "INFO:tensorflow:Loading image /home/akash/Desktop/workspace/gesture-control/dataset/OPEN_PALM/IMG_100.jpg\n"
     ]
    },
    {
     "name": "stdout",
     "output_type": "stream",
     "text": [
      "INFO:tensorflow:Loading image /home/akash/Desktop/workspace/gesture-control/dataset/CLOSED_FIST/IMG_1715191771.9172459.jpg\n"
     ]
    },
    {
     "name": "stderr",
     "output_type": "stream",
     "text": [
      "INFO:tensorflow:Loading image /home/akash/Desktop/workspace/gesture-control/dataset/CLOSED_FIST/IMG_1715191771.9172459.jpg\n"
     ]
    },
    {
     "name": "stdout",
     "output_type": "stream",
     "text": [
      "INFO:tensorflow:Loading image /home/akash/Desktop/workspace/gesture-control/dataset/none/IMG_1715268309.8539035.jpg\n"
     ]
    },
    {
     "name": "stderr",
     "output_type": "stream",
     "text": [
      "INFO:tensorflow:Loading image /home/akash/Desktop/workspace/gesture-control/dataset/none/IMG_1715268309.8539035.jpg\n"
     ]
    },
    {
     "name": "stdout",
     "output_type": "stream",
     "text": [
      "INFO:tensorflow:Loading image /home/akash/Desktop/workspace/gesture-control/dataset/none/1627.jpg\n"
     ]
    },
    {
     "name": "stderr",
     "output_type": "stream",
     "text": [
      "INFO:tensorflow:Loading image /home/akash/Desktop/workspace/gesture-control/dataset/none/1627.jpg\n"
     ]
    },
    {
     "name": "stdout",
     "output_type": "stream",
     "text": [
      "INFO:tensorflow:Loading image /home/akash/Desktop/workspace/gesture-control/dataset/THUMB_DOWN/IMG_20.jpg\n"
     ]
    },
    {
     "name": "stderr",
     "output_type": "stream",
     "text": [
      "INFO:tensorflow:Loading image /home/akash/Desktop/workspace/gesture-control/dataset/THUMB_DOWN/IMG_20.jpg\n"
     ]
    },
    {
     "name": "stdout",
     "output_type": "stream",
     "text": [
      "INFO:tensorflow:Loading image /home/akash/Desktop/workspace/gesture-control/dataset/none/71.jpg\n"
     ]
    },
    {
     "name": "stderr",
     "output_type": "stream",
     "text": [
      "INFO:tensorflow:Loading image /home/akash/Desktop/workspace/gesture-control/dataset/none/71.jpg\n"
     ]
    },
    {
     "name": "stdout",
     "output_type": "stream",
     "text": [
      "INFO:tensorflow:Loading image /home/akash/Desktop/workspace/gesture-control/dataset/OPEN_PALM/IMG_6.jpg\n"
     ]
    },
    {
     "name": "stderr",
     "output_type": "stream",
     "text": [
      "INFO:tensorflow:Loading image /home/akash/Desktop/workspace/gesture-control/dataset/OPEN_PALM/IMG_6.jpg\n"
     ]
    },
    {
     "name": "stdout",
     "output_type": "stream",
     "text": [
      "INFO:tensorflow:Loading image /home/akash/Desktop/workspace/gesture-control/dataset/none/239.jpg\n"
     ]
    },
    {
     "name": "stderr",
     "output_type": "stream",
     "text": [
      "INFO:tensorflow:Loading image /home/akash/Desktop/workspace/gesture-control/dataset/none/239.jpg\n"
     ]
    },
    {
     "name": "stdout",
     "output_type": "stream",
     "text": [
      "INFO:tensorflow:Loading image /home/akash/Desktop/workspace/gesture-control/dataset/THUMB_DOWN/IMG_29.jpg\n"
     ]
    },
    {
     "name": "stderr",
     "output_type": "stream",
     "text": [
      "INFO:tensorflow:Loading image /home/akash/Desktop/workspace/gesture-control/dataset/THUMB_DOWN/IMG_29.jpg\n"
     ]
    },
    {
     "name": "stdout",
     "output_type": "stream",
     "text": [
      "INFO:tensorflow:Loading image /home/akash/Desktop/workspace/gesture-control/dataset/THUMB_UP/IMG_18.jpg\n"
     ]
    },
    {
     "name": "stderr",
     "output_type": "stream",
     "text": [
      "INFO:tensorflow:Loading image /home/akash/Desktop/workspace/gesture-control/dataset/THUMB_UP/IMG_18.jpg\n"
     ]
    },
    {
     "name": "stdout",
     "output_type": "stream",
     "text": [
      "INFO:tensorflow:Loading image /home/akash/Desktop/workspace/gesture-control/dataset/CLOSED_FIST/772.jpg\n"
     ]
    },
    {
     "name": "stderr",
     "output_type": "stream",
     "text": [
      "INFO:tensorflow:Loading image /home/akash/Desktop/workspace/gesture-control/dataset/CLOSED_FIST/772.jpg\n"
     ]
    },
    {
     "name": "stdout",
     "output_type": "stream",
     "text": [
      "INFO:tensorflow:Loading image /home/akash/Desktop/workspace/gesture-control/dataset/THUMB_DOWN/IMG_82.jpg\n"
     ]
    },
    {
     "name": "stderr",
     "output_type": "stream",
     "text": [
      "INFO:tensorflow:Loading image /home/akash/Desktop/workspace/gesture-control/dataset/THUMB_DOWN/IMG_82.jpg\n"
     ]
    },
    {
     "name": "stdout",
     "output_type": "stream",
     "text": [
      "INFO:tensorflow:Loading image /home/akash/Desktop/workspace/gesture-control/dataset/OPEN_PALM/IMG_12.jpg\n"
     ]
    },
    {
     "name": "stderr",
     "output_type": "stream",
     "text": [
      "INFO:tensorflow:Loading image /home/akash/Desktop/workspace/gesture-control/dataset/OPEN_PALM/IMG_12.jpg\n"
     ]
    },
    {
     "name": "stdout",
     "output_type": "stream",
     "text": [
      "INFO:tensorflow:Loading image /home/akash/Desktop/workspace/gesture-control/dataset/CLOSED_FIST/427.jpg\n"
     ]
    },
    {
     "name": "stderr",
     "output_type": "stream",
     "text": [
      "INFO:tensorflow:Loading image /home/akash/Desktop/workspace/gesture-control/dataset/CLOSED_FIST/427.jpg\n"
     ]
    },
    {
     "name": "stdout",
     "output_type": "stream",
     "text": [
      "INFO:tensorflow:Loading image /home/akash/Desktop/workspace/gesture-control/dataset/none/433.jpg\n"
     ]
    },
    {
     "name": "stderr",
     "output_type": "stream",
     "text": [
      "INFO:tensorflow:Loading image /home/akash/Desktop/workspace/gesture-control/dataset/none/433.jpg\n"
     ]
    },
    {
     "name": "stdout",
     "output_type": "stream",
     "text": [
      "INFO:tensorflow:Loading image /home/akash/Desktop/workspace/gesture-control/dataset/OPEN_PALM/IMG_93.jpg\n"
     ]
    },
    {
     "name": "stderr",
     "output_type": "stream",
     "text": [
      "INFO:tensorflow:Loading image /home/akash/Desktop/workspace/gesture-control/dataset/OPEN_PALM/IMG_93.jpg\n"
     ]
    },
    {
     "name": "stdout",
     "output_type": "stream",
     "text": [
      "INFO:tensorflow:Loading image /home/akash/Desktop/workspace/gesture-control/dataset/none/950.jpg\n"
     ]
    },
    {
     "name": "stderr",
     "output_type": "stream",
     "text": [
      "INFO:tensorflow:Loading image /home/akash/Desktop/workspace/gesture-control/dataset/none/950.jpg\n"
     ]
    },
    {
     "name": "stdout",
     "output_type": "stream",
     "text": [
      "INFO:tensorflow:Loading image /home/akash/Desktop/workspace/gesture-control/dataset/THUMB_UP/IMG_32.jpg\n"
     ]
    },
    {
     "name": "stderr",
     "output_type": "stream",
     "text": [
      "INFO:tensorflow:Loading image /home/akash/Desktop/workspace/gesture-control/dataset/THUMB_UP/IMG_32.jpg\n"
     ]
    },
    {
     "name": "stdout",
     "output_type": "stream",
     "text": [
      "INFO:tensorflow:Loading image /home/akash/Desktop/workspace/gesture-control/dataset/none/252.jpg\n"
     ]
    },
    {
     "name": "stderr",
     "output_type": "stream",
     "text": [
      "INFO:tensorflow:Loading image /home/akash/Desktop/workspace/gesture-control/dataset/none/252.jpg\n"
     ]
    },
    {
     "name": "stdout",
     "output_type": "stream",
     "text": [
      "INFO:tensorflow:Loading image /home/akash/Desktop/workspace/gesture-control/dataset/THUMB_UP/IMG_34.jpg\n"
     ]
    },
    {
     "name": "stderr",
     "output_type": "stream",
     "text": [
      "INFO:tensorflow:Loading image /home/akash/Desktop/workspace/gesture-control/dataset/THUMB_UP/IMG_34.jpg\n"
     ]
    },
    {
     "name": "stdout",
     "output_type": "stream",
     "text": [
      "INFO:tensorflow:Loading image /home/akash/Desktop/workspace/gesture-control/dataset/none/IMG_1715267376.6618507.jpg\n"
     ]
    },
    {
     "name": "stderr",
     "output_type": "stream",
     "text": [
      "INFO:tensorflow:Loading image /home/akash/Desktop/workspace/gesture-control/dataset/none/IMG_1715267376.6618507.jpg\n"
     ]
    },
    {
     "name": "stdout",
     "output_type": "stream",
     "text": [
      "INFO:tensorflow:Loading image /home/akash/Desktop/workspace/gesture-control/dataset/THUMB_UP/IMG_26.jpg\n"
     ]
    },
    {
     "name": "stderr",
     "output_type": "stream",
     "text": [
      "INFO:tensorflow:Loading image /home/akash/Desktop/workspace/gesture-control/dataset/THUMB_UP/IMG_26.jpg\n"
     ]
    },
    {
     "name": "stdout",
     "output_type": "stream",
     "text": [
      "INFO:tensorflow:Loading image /home/akash/Desktop/workspace/gesture-control/dataset/OPEN_PALM/IMG_7.jpg\n"
     ]
    },
    {
     "name": "stderr",
     "output_type": "stream",
     "text": [
      "INFO:tensorflow:Loading image /home/akash/Desktop/workspace/gesture-control/dataset/OPEN_PALM/IMG_7.jpg\n"
     ]
    },
    {
     "name": "stdout",
     "output_type": "stream",
     "text": [
      "INFO:tensorflow:Loading image /home/akash/Desktop/workspace/gesture-control/dataset/THUMB_DOWN/IMG_9.jpg\n"
     ]
    },
    {
     "name": "stderr",
     "output_type": "stream",
     "text": [
      "INFO:tensorflow:Loading image /home/akash/Desktop/workspace/gesture-control/dataset/THUMB_DOWN/IMG_9.jpg\n"
     ]
    },
    {
     "name": "stdout",
     "output_type": "stream",
     "text": [
      "INFO:tensorflow:Loading image /home/akash/Desktop/workspace/gesture-control/dataset/THUMB_DOWN/IMG_18.jpg\n"
     ]
    },
    {
     "name": "stderr",
     "output_type": "stream",
     "text": [
      "INFO:tensorflow:Loading image /home/akash/Desktop/workspace/gesture-control/dataset/THUMB_DOWN/IMG_18.jpg\n"
     ]
    },
    {
     "name": "stdout",
     "output_type": "stream",
     "text": [
      "INFO:tensorflow:Loading image /home/akash/Desktop/workspace/gesture-control/dataset/CLOSED_FIST/IMG_1715191729.8089948.jpg\n"
     ]
    },
    {
     "name": "stderr",
     "output_type": "stream",
     "text": [
      "INFO:tensorflow:Loading image /home/akash/Desktop/workspace/gesture-control/dataset/CLOSED_FIST/IMG_1715191729.8089948.jpg\n"
     ]
    },
    {
     "name": "stdout",
     "output_type": "stream",
     "text": [
      "INFO:tensorflow:Loading image /home/akash/Desktop/workspace/gesture-control/dataset/OPEN_PALM/IMG_39.jpg\n"
     ]
    },
    {
     "name": "stderr",
     "output_type": "stream",
     "text": [
      "INFO:tensorflow:Loading image /home/akash/Desktop/workspace/gesture-control/dataset/OPEN_PALM/IMG_39.jpg\n"
     ]
    },
    {
     "name": "stdout",
     "output_type": "stream",
     "text": [
      "INFO:tensorflow:Loading image /home/akash/Desktop/workspace/gesture-control/dataset/none/9.jpg\n"
     ]
    },
    {
     "name": "stderr",
     "output_type": "stream",
     "text": [
      "INFO:tensorflow:Loading image /home/akash/Desktop/workspace/gesture-control/dataset/none/9.jpg\n"
     ]
    },
    {
     "name": "stdout",
     "output_type": "stream",
     "text": [
      "INFO:tensorflow:Loading image /home/akash/Desktop/workspace/gesture-control/dataset/THUMB_UP/IMG_64.jpg\n"
     ]
    },
    {
     "name": "stderr",
     "output_type": "stream",
     "text": [
      "INFO:tensorflow:Loading image /home/akash/Desktop/workspace/gesture-control/dataset/THUMB_UP/IMG_64.jpg\n"
     ]
    },
    {
     "name": "stdout",
     "output_type": "stream",
     "text": [
      "INFO:tensorflow:Loading image /home/akash/Desktop/workspace/gesture-control/dataset/none/1712.jpg\n"
     ]
    },
    {
     "name": "stderr",
     "output_type": "stream",
     "text": [
      "INFO:tensorflow:Loading image /home/akash/Desktop/workspace/gesture-control/dataset/none/1712.jpg\n"
     ]
    },
    {
     "name": "stdout",
     "output_type": "stream",
     "text": [
      "INFO:tensorflow:Loading image /home/akash/Desktop/workspace/gesture-control/dataset/none/1308.jpg\n"
     ]
    },
    {
     "name": "stderr",
     "output_type": "stream",
     "text": [
      "INFO:tensorflow:Loading image /home/akash/Desktop/workspace/gesture-control/dataset/none/1308.jpg\n"
     ]
    },
    {
     "name": "stdout",
     "output_type": "stream",
     "text": [
      "INFO:tensorflow:Loading image /home/akash/Desktop/workspace/gesture-control/dataset/THUMB_DOWN/IMG_24.jpg\n"
     ]
    },
    {
     "name": "stderr",
     "output_type": "stream",
     "text": [
      "INFO:tensorflow:Loading image /home/akash/Desktop/workspace/gesture-control/dataset/THUMB_DOWN/IMG_24.jpg\n"
     ]
    },
    {
     "name": "stdout",
     "output_type": "stream",
     "text": [
      "INFO:tensorflow:Loading image /home/akash/Desktop/workspace/gesture-control/dataset/CLOSED_FIST/529.jpg\n"
     ]
    },
    {
     "name": "stderr",
     "output_type": "stream",
     "text": [
      "INFO:tensorflow:Loading image /home/akash/Desktop/workspace/gesture-control/dataset/CLOSED_FIST/529.jpg\n"
     ]
    },
    {
     "name": "stdout",
     "output_type": "stream",
     "text": [
      "INFO:tensorflow:Loading image /home/akash/Desktop/workspace/gesture-control/dataset/none/IMG_1715267644.9996376.jpg\n"
     ]
    },
    {
     "name": "stderr",
     "output_type": "stream",
     "text": [
      "INFO:tensorflow:Loading image /home/akash/Desktop/workspace/gesture-control/dataset/none/IMG_1715267644.9996376.jpg\n"
     ]
    },
    {
     "name": "stdout",
     "output_type": "stream",
     "text": [
      "INFO:tensorflow:Loading image /home/akash/Desktop/workspace/gesture-control/dataset/CLOSED_FIST/901.jpg\n"
     ]
    },
    {
     "name": "stderr",
     "output_type": "stream",
     "text": [
      "INFO:tensorflow:Loading image /home/akash/Desktop/workspace/gesture-control/dataset/CLOSED_FIST/901.jpg\n"
     ]
    },
    {
     "name": "stdout",
     "output_type": "stream",
     "text": [
      "INFO:tensorflow:Loading image /home/akash/Desktop/workspace/gesture-control/dataset/none/IMG_1715189204.5085413.jpg\n"
     ]
    },
    {
     "name": "stderr",
     "output_type": "stream",
     "text": [
      "INFO:tensorflow:Loading image /home/akash/Desktop/workspace/gesture-control/dataset/none/IMG_1715189204.5085413.jpg\n"
     ]
    },
    {
     "name": "stdout",
     "output_type": "stream",
     "text": [
      "INFO:tensorflow:Loading image /home/akash/Desktop/workspace/gesture-control/dataset/THUMB_DOWN/IMG_63.jpg\n"
     ]
    },
    {
     "name": "stderr",
     "output_type": "stream",
     "text": [
      "INFO:tensorflow:Loading image /home/akash/Desktop/workspace/gesture-control/dataset/THUMB_DOWN/IMG_63.jpg\n"
     ]
    },
    {
     "name": "stdout",
     "output_type": "stream",
     "text": [
      "INFO:tensorflow:Loading image /home/akash/Desktop/workspace/gesture-control/dataset/THUMB_UP/IMG_90.jpg\n"
     ]
    },
    {
     "name": "stderr",
     "output_type": "stream",
     "text": [
      "INFO:tensorflow:Loading image /home/akash/Desktop/workspace/gesture-control/dataset/THUMB_UP/IMG_90.jpg\n"
     ]
    },
    {
     "name": "stdout",
     "output_type": "stream",
     "text": [
      "INFO:tensorflow:Loading image /home/akash/Desktop/workspace/gesture-control/dataset/THUMB_UP/IMG_63.jpg\n"
     ]
    },
    {
     "name": "stderr",
     "output_type": "stream",
     "text": [
      "INFO:tensorflow:Loading image /home/akash/Desktop/workspace/gesture-control/dataset/THUMB_UP/IMG_63.jpg\n"
     ]
    },
    {
     "name": "stdout",
     "output_type": "stream",
     "text": [
      "INFO:tensorflow:Loading image /home/akash/Desktop/workspace/gesture-control/dataset/THUMB_DOWN/IMG_42.jpg\n"
     ]
    },
    {
     "name": "stderr",
     "output_type": "stream",
     "text": [
      "INFO:tensorflow:Loading image /home/akash/Desktop/workspace/gesture-control/dataset/THUMB_DOWN/IMG_42.jpg\n"
     ]
    },
    {
     "name": "stdout",
     "output_type": "stream",
     "text": [
      "INFO:tensorflow:Loading image /home/akash/Desktop/workspace/gesture-control/dataset/THUMB_UP/IMG_5.jpg\n"
     ]
    },
    {
     "name": "stderr",
     "output_type": "stream",
     "text": [
      "INFO:tensorflow:Loading image /home/akash/Desktop/workspace/gesture-control/dataset/THUMB_UP/IMG_5.jpg\n"
     ]
    },
    {
     "name": "stdout",
     "output_type": "stream",
     "text": [
      "INFO:tensorflow:Loading image /home/akash/Desktop/workspace/gesture-control/dataset/OPEN_PALM/IMG_63.jpg\n"
     ]
    },
    {
     "name": "stderr",
     "output_type": "stream",
     "text": [
      "INFO:tensorflow:Loading image /home/akash/Desktop/workspace/gesture-control/dataset/OPEN_PALM/IMG_63.jpg\n"
     ]
    },
    {
     "name": "stdout",
     "output_type": "stream",
     "text": [
      "INFO:tensorflow:Loading image /home/akash/Desktop/workspace/gesture-control/dataset/THUMB_UP/IMG_39.jpg\n"
     ]
    },
    {
     "name": "stderr",
     "output_type": "stream",
     "text": [
      "INFO:tensorflow:Loading image /home/akash/Desktop/workspace/gesture-control/dataset/THUMB_UP/IMG_39.jpg\n"
     ]
    },
    {
     "name": "stdout",
     "output_type": "stream",
     "text": [
      "INFO:tensorflow:Loading image /home/akash/Desktop/workspace/gesture-control/dataset/THUMB_UP/IMG_99.jpg\n"
     ]
    },
    {
     "name": "stderr",
     "output_type": "stream",
     "text": [
      "INFO:tensorflow:Loading image /home/akash/Desktop/workspace/gesture-control/dataset/THUMB_UP/IMG_99.jpg\n"
     ]
    },
    {
     "name": "stdout",
     "output_type": "stream",
     "text": [
      "INFO:tensorflow:Loading image /home/akash/Desktop/workspace/gesture-control/dataset/CLOSED_FIST/593.jpg\n"
     ]
    },
    {
     "name": "stderr",
     "output_type": "stream",
     "text": [
      "INFO:tensorflow:Loading image /home/akash/Desktop/workspace/gesture-control/dataset/CLOSED_FIST/593.jpg\n"
     ]
    },
    {
     "name": "stdout",
     "output_type": "stream",
     "text": [
      "INFO:tensorflow:Loading image /home/akash/Desktop/workspace/gesture-control/dataset/THUMB_DOWN/IMG_21.jpg\n"
     ]
    },
    {
     "name": "stderr",
     "output_type": "stream",
     "text": [
      "INFO:tensorflow:Loading image /home/akash/Desktop/workspace/gesture-control/dataset/THUMB_DOWN/IMG_21.jpg\n"
     ]
    },
    {
     "name": "stdout",
     "output_type": "stream",
     "text": [
      "INFO:tensorflow:Loading image /home/akash/Desktop/workspace/gesture-control/dataset/OPEN_PALM/IMG_79.jpg\n"
     ]
    },
    {
     "name": "stderr",
     "output_type": "stream",
     "text": [
      "INFO:tensorflow:Loading image /home/akash/Desktop/workspace/gesture-control/dataset/OPEN_PALM/IMG_79.jpg\n"
     ]
    },
    {
     "name": "stdout",
     "output_type": "stream",
     "text": [
      "INFO:tensorflow:Loading image /home/akash/Desktop/workspace/gesture-control/dataset/none/1534.jpg\n"
     ]
    },
    {
     "name": "stderr",
     "output_type": "stream",
     "text": [
      "INFO:tensorflow:Loading image /home/akash/Desktop/workspace/gesture-control/dataset/none/1534.jpg\n"
     ]
    },
    {
     "name": "stdout",
     "output_type": "stream",
     "text": [
      "INFO:tensorflow:Loading image /home/akash/Desktop/workspace/gesture-control/dataset/none/1657.jpg\n"
     ]
    },
    {
     "name": "stderr",
     "output_type": "stream",
     "text": [
      "INFO:tensorflow:Loading image /home/akash/Desktop/workspace/gesture-control/dataset/none/1657.jpg\n"
     ]
    },
    {
     "name": "stdout",
     "output_type": "stream",
     "text": [
      "INFO:tensorflow:Loading image /home/akash/Desktop/workspace/gesture-control/dataset/none/IMG_1715268329.7016716.jpg\n"
     ]
    },
    {
     "name": "stderr",
     "output_type": "stream",
     "text": [
      "INFO:tensorflow:Loading image /home/akash/Desktop/workspace/gesture-control/dataset/none/IMG_1715268329.7016716.jpg\n"
     ]
    },
    {
     "name": "stdout",
     "output_type": "stream",
     "text": [
      "INFO:tensorflow:Loading image /home/akash/Desktop/workspace/gesture-control/dataset/THUMB_UP/IMG_94.jpg\n"
     ]
    },
    {
     "name": "stderr",
     "output_type": "stream",
     "text": [
      "INFO:tensorflow:Loading image /home/akash/Desktop/workspace/gesture-control/dataset/THUMB_UP/IMG_94.jpg\n"
     ]
    },
    {
     "name": "stdout",
     "output_type": "stream",
     "text": [
      "INFO:tensorflow:Loading image /home/akash/Desktop/workspace/gesture-control/dataset/THUMB_UP/IMG_60.jpg\n"
     ]
    },
    {
     "name": "stderr",
     "output_type": "stream",
     "text": [
      "INFO:tensorflow:Loading image /home/akash/Desktop/workspace/gesture-control/dataset/THUMB_UP/IMG_60.jpg\n"
     ]
    },
    {
     "name": "stdout",
     "output_type": "stream",
     "text": [
      "INFO:tensorflow:Loading image /home/akash/Desktop/workspace/gesture-control/dataset/THUMB_DOWN/IMG_71.jpg\n"
     ]
    },
    {
     "name": "stderr",
     "output_type": "stream",
     "text": [
      "INFO:tensorflow:Loading image /home/akash/Desktop/workspace/gesture-control/dataset/THUMB_DOWN/IMG_71.jpg\n"
     ]
    },
    {
     "name": "stdout",
     "output_type": "stream",
     "text": [
      "INFO:tensorflow:Loading image /home/akash/Desktop/workspace/gesture-control/dataset/CLOSED_FIST/244.jpg\n"
     ]
    },
    {
     "name": "stderr",
     "output_type": "stream",
     "text": [
      "INFO:tensorflow:Loading image /home/akash/Desktop/workspace/gesture-control/dataset/CLOSED_FIST/244.jpg\n"
     ]
    },
    {
     "name": "stdout",
     "output_type": "stream",
     "text": [
      "INFO:tensorflow:Loading image /home/akash/Desktop/workspace/gesture-control/dataset/CLOSED_FIST/348.jpg\n"
     ]
    },
    {
     "name": "stderr",
     "output_type": "stream",
     "text": [
      "INFO:tensorflow:Loading image /home/akash/Desktop/workspace/gesture-control/dataset/CLOSED_FIST/348.jpg\n"
     ]
    },
    {
     "name": "stdout",
     "output_type": "stream",
     "text": [
      "INFO:tensorflow:Loading image /home/akash/Desktop/workspace/gesture-control/dataset/CLOSED_FIST/834.jpg\n"
     ]
    },
    {
     "name": "stderr",
     "output_type": "stream",
     "text": [
      "INFO:tensorflow:Loading image /home/akash/Desktop/workspace/gesture-control/dataset/CLOSED_FIST/834.jpg\n"
     ]
    },
    {
     "name": "stdout",
     "output_type": "stream",
     "text": [
      "INFO:tensorflow:Loading image /home/akash/Desktop/workspace/gesture-control/dataset/THUMB_UP/IMG_84.jpg\n"
     ]
    },
    {
     "name": "stderr",
     "output_type": "stream",
     "text": [
      "INFO:tensorflow:Loading image /home/akash/Desktop/workspace/gesture-control/dataset/THUMB_UP/IMG_84.jpg\n"
     ]
    },
    {
     "name": "stdout",
     "output_type": "stream",
     "text": [
      "INFO:tensorflow:Loading image /home/akash/Desktop/workspace/gesture-control/dataset/THUMB_DOWN/IMG_95.jpg\n"
     ]
    },
    {
     "name": "stderr",
     "output_type": "stream",
     "text": [
      "INFO:tensorflow:Loading image /home/akash/Desktop/workspace/gesture-control/dataset/THUMB_DOWN/IMG_95.jpg\n"
     ]
    },
    {
     "name": "stdout",
     "output_type": "stream",
     "text": [
      "INFO:tensorflow:Loading image /home/akash/Desktop/workspace/gesture-control/dataset/CLOSED_FIST/687.jpg\n"
     ]
    },
    {
     "name": "stderr",
     "output_type": "stream",
     "text": [
      "INFO:tensorflow:Loading image /home/akash/Desktop/workspace/gesture-control/dataset/CLOSED_FIST/687.jpg\n"
     ]
    },
    {
     "name": "stdout",
     "output_type": "stream",
     "text": [
      "INFO:tensorflow:Loading image /home/akash/Desktop/workspace/gesture-control/dataset/OPEN_PALM/IMG_73.jpg\n"
     ]
    },
    {
     "name": "stderr",
     "output_type": "stream",
     "text": [
      "INFO:tensorflow:Loading image /home/akash/Desktop/workspace/gesture-control/dataset/OPEN_PALM/IMG_73.jpg\n"
     ]
    },
    {
     "name": "stdout",
     "output_type": "stream",
     "text": [
      "INFO:tensorflow:Loading image /home/akash/Desktop/workspace/gesture-control/dataset/THUMB_UP/IMG_56.jpg\n"
     ]
    },
    {
     "name": "stderr",
     "output_type": "stream",
     "text": [
      "INFO:tensorflow:Loading image /home/akash/Desktop/workspace/gesture-control/dataset/THUMB_UP/IMG_56.jpg\n"
     ]
    },
    {
     "name": "stdout",
     "output_type": "stream",
     "text": [
      "INFO:tensorflow:Loading image /home/akash/Desktop/workspace/gesture-control/dataset/CLOSED_FIST/392.jpg\n"
     ]
    },
    {
     "name": "stderr",
     "output_type": "stream",
     "text": [
      "INFO:tensorflow:Loading image /home/akash/Desktop/workspace/gesture-control/dataset/CLOSED_FIST/392.jpg\n"
     ]
    },
    {
     "name": "stdout",
     "output_type": "stream",
     "text": [
      "INFO:tensorflow:Loading image /home/akash/Desktop/workspace/gesture-control/dataset/THUMB_DOWN/IMG_13.jpg\n"
     ]
    },
    {
     "name": "stderr",
     "output_type": "stream",
     "text": [
      "INFO:tensorflow:Loading image /home/akash/Desktop/workspace/gesture-control/dataset/THUMB_DOWN/IMG_13.jpg\n"
     ]
    },
    {
     "name": "stdout",
     "output_type": "stream",
     "text": [
      "INFO:tensorflow:Loading image /home/akash/Desktop/workspace/gesture-control/dataset/THUMB_UP/IMG_79.jpg\n"
     ]
    },
    {
     "name": "stderr",
     "output_type": "stream",
     "text": [
      "INFO:tensorflow:Loading image /home/akash/Desktop/workspace/gesture-control/dataset/THUMB_UP/IMG_79.jpg\n"
     ]
    },
    {
     "name": "stdout",
     "output_type": "stream",
     "text": [
      "INFO:tensorflow:Loading image /home/akash/Desktop/workspace/gesture-control/dataset/none/IMG_1715267383.276646.jpg\n"
     ]
    },
    {
     "name": "stderr",
     "output_type": "stream",
     "text": [
      "INFO:tensorflow:Loading image /home/akash/Desktop/workspace/gesture-control/dataset/none/IMG_1715267383.276646.jpg\n"
     ]
    },
    {
     "name": "stdout",
     "output_type": "stream",
     "text": [
      "INFO:tensorflow:Loading image /home/akash/Desktop/workspace/gesture-control/dataset/THUMB_UP/IMG_37.jpg\n"
     ]
    },
    {
     "name": "stderr",
     "output_type": "stream",
     "text": [
      "INFO:tensorflow:Loading image /home/akash/Desktop/workspace/gesture-control/dataset/THUMB_UP/IMG_37.jpg\n"
     ]
    },
    {
     "name": "stdout",
     "output_type": "stream",
     "text": [
      "INFO:tensorflow:Loading image /home/akash/Desktop/workspace/gesture-control/dataset/THUMB_DOWN/IMG_53.jpg\n"
     ]
    },
    {
     "name": "stderr",
     "output_type": "stream",
     "text": [
      "INFO:tensorflow:Loading image /home/akash/Desktop/workspace/gesture-control/dataset/THUMB_DOWN/IMG_53.jpg\n"
     ]
    },
    {
     "name": "stdout",
     "output_type": "stream",
     "text": [
      "INFO:tensorflow:Loading image /home/akash/Desktop/workspace/gesture-control/dataset/CLOSED_FIST/776.jpg\n"
     ]
    },
    {
     "name": "stderr",
     "output_type": "stream",
     "text": [
      "INFO:tensorflow:Loading image /home/akash/Desktop/workspace/gesture-control/dataset/CLOSED_FIST/776.jpg\n"
     ]
    },
    {
     "name": "stdout",
     "output_type": "stream",
     "text": [
      "INFO:tensorflow:Loading image /home/akash/Desktop/workspace/gesture-control/dataset/none/794.jpg\n"
     ]
    },
    {
     "name": "stderr",
     "output_type": "stream",
     "text": [
      "INFO:tensorflow:Loading image /home/akash/Desktop/workspace/gesture-control/dataset/none/794.jpg\n"
     ]
    },
    {
     "name": "stdout",
     "output_type": "stream",
     "text": [
      "INFO:tensorflow:Loading image /home/akash/Desktop/workspace/gesture-control/dataset/OPEN_PALM/IMG_51.jpg\n"
     ]
    },
    {
     "name": "stderr",
     "output_type": "stream",
     "text": [
      "INFO:tensorflow:Loading image /home/akash/Desktop/workspace/gesture-control/dataset/OPEN_PALM/IMG_51.jpg\n"
     ]
    },
    {
     "name": "stdout",
     "output_type": "stream",
     "text": [
      "INFO:tensorflow:Loading image /home/akash/Desktop/workspace/gesture-control/dataset/THUMB_UP/IMG_23.jpg\n"
     ]
    },
    {
     "name": "stderr",
     "output_type": "stream",
     "text": [
      "INFO:tensorflow:Loading image /home/akash/Desktop/workspace/gesture-control/dataset/THUMB_UP/IMG_23.jpg\n"
     ]
    },
    {
     "name": "stdout",
     "output_type": "stream",
     "text": [
      "INFO:tensorflow:Loading image /home/akash/Desktop/workspace/gesture-control/dataset/none/IMG_1715268329.220655.jpg\n"
     ]
    },
    {
     "name": "stderr",
     "output_type": "stream",
     "text": [
      "INFO:tensorflow:Loading image /home/akash/Desktop/workspace/gesture-control/dataset/none/IMG_1715268329.220655.jpg\n"
     ]
    },
    {
     "name": "stdout",
     "output_type": "stream",
     "text": [
      "INFO:tensorflow:Loading image /home/akash/Desktop/workspace/gesture-control/dataset/OPEN_PALM/IMG_69.jpg\n"
     ]
    },
    {
     "name": "stderr",
     "output_type": "stream",
     "text": [
      "INFO:tensorflow:Loading image /home/akash/Desktop/workspace/gesture-control/dataset/OPEN_PALM/IMG_69.jpg\n"
     ]
    },
    {
     "name": "stdout",
     "output_type": "stream",
     "text": [
      "INFO:tensorflow:Loading image /home/akash/Desktop/workspace/gesture-control/dataset/none/76.jpg\n"
     ]
    },
    {
     "name": "stderr",
     "output_type": "stream",
     "text": [
      "INFO:tensorflow:Loading image /home/akash/Desktop/workspace/gesture-control/dataset/none/76.jpg\n"
     ]
    },
    {
     "name": "stdout",
     "output_type": "stream",
     "text": [
      "INFO:tensorflow:Loading image /home/akash/Desktop/workspace/gesture-control/dataset/none/1119.jpg\n"
     ]
    },
    {
     "name": "stderr",
     "output_type": "stream",
     "text": [
      "INFO:tensorflow:Loading image /home/akash/Desktop/workspace/gesture-control/dataset/none/1119.jpg\n"
     ]
    },
    {
     "name": "stdout",
     "output_type": "stream",
     "text": [
      "INFO:tensorflow:Loading image /home/akash/Desktop/workspace/gesture-control/dataset/THUMB_UP/IMG_80.jpg\n"
     ]
    },
    {
     "name": "stderr",
     "output_type": "stream",
     "text": [
      "INFO:tensorflow:Loading image /home/akash/Desktop/workspace/gesture-control/dataset/THUMB_UP/IMG_80.jpg\n"
     ]
    },
    {
     "name": "stdout",
     "output_type": "stream",
     "text": [
      "INFO:tensorflow:Loading image /home/akash/Desktop/workspace/gesture-control/dataset/CLOSED_FIST/290.jpg\n"
     ]
    },
    {
     "name": "stderr",
     "output_type": "stream",
     "text": [
      "INFO:tensorflow:Loading image /home/akash/Desktop/workspace/gesture-control/dataset/CLOSED_FIST/290.jpg\n"
     ]
    },
    {
     "name": "stdout",
     "output_type": "stream",
     "text": [
      "INFO:tensorflow:Loading image /home/akash/Desktop/workspace/gesture-control/dataset/CLOSED_FIST/796.jpg\n"
     ]
    },
    {
     "name": "stderr",
     "output_type": "stream",
     "text": [
      "INFO:tensorflow:Loading image /home/akash/Desktop/workspace/gesture-control/dataset/CLOSED_FIST/796.jpg\n"
     ]
    },
    {
     "name": "stdout",
     "output_type": "stream",
     "text": [
      "INFO:tensorflow:Loading image /home/akash/Desktop/workspace/gesture-control/dataset/none/1340.jpg\n"
     ]
    },
    {
     "name": "stderr",
     "output_type": "stream",
     "text": [
      "INFO:tensorflow:Loading image /home/akash/Desktop/workspace/gesture-control/dataset/none/1340.jpg\n"
     ]
    },
    {
     "name": "stdout",
     "output_type": "stream",
     "text": [
      "INFO:tensorflow:Loading image /home/akash/Desktop/workspace/gesture-control/dataset/none/IMG_1715159042.5286582.jpg\n"
     ]
    },
    {
     "name": "stderr",
     "output_type": "stream",
     "text": [
      "INFO:tensorflow:Loading image /home/akash/Desktop/workspace/gesture-control/dataset/none/IMG_1715159042.5286582.jpg\n"
     ]
    },
    {
     "name": "stdout",
     "output_type": "stream",
     "text": [
      "INFO:tensorflow:Loading image /home/akash/Desktop/workspace/gesture-control/dataset/none/1072.jpg\n"
     ]
    },
    {
     "name": "stderr",
     "output_type": "stream",
     "text": [
      "INFO:tensorflow:Loading image /home/akash/Desktop/workspace/gesture-control/dataset/none/1072.jpg\n"
     ]
    },
    {
     "name": "stdout",
     "output_type": "stream",
     "text": [
      "INFO:tensorflow:Loading image /home/akash/Desktop/workspace/gesture-control/dataset/THUMB_UP/IMG_77.jpg\n"
     ]
    },
    {
     "name": "stderr",
     "output_type": "stream",
     "text": [
      "INFO:tensorflow:Loading image /home/akash/Desktop/workspace/gesture-control/dataset/THUMB_UP/IMG_77.jpg\n"
     ]
    },
    {
     "name": "stdout",
     "output_type": "stream",
     "text": [
      "INFO:tensorflow:Loading image /home/akash/Desktop/workspace/gesture-control/dataset/none/657.jpg\n"
     ]
    },
    {
     "name": "stderr",
     "output_type": "stream",
     "text": [
      "INFO:tensorflow:Loading image /home/akash/Desktop/workspace/gesture-control/dataset/none/657.jpg\n"
     ]
    },
    {
     "name": "stdout",
     "output_type": "stream",
     "text": [
      "INFO:tensorflow:Loading image /home/akash/Desktop/workspace/gesture-control/dataset/none/IMG_1715159198.5403178.jpg\n"
     ]
    },
    {
     "name": "stderr",
     "output_type": "stream",
     "text": [
      "INFO:tensorflow:Loading image /home/akash/Desktop/workspace/gesture-control/dataset/none/IMG_1715159198.5403178.jpg\n"
     ]
    },
    {
     "name": "stdout",
     "output_type": "stream",
     "text": [
      "INFO:tensorflow:Loading image /home/akash/Desktop/workspace/gesture-control/dataset/none/394.jpg\n"
     ]
    },
    {
     "name": "stderr",
     "output_type": "stream",
     "text": [
      "INFO:tensorflow:Loading image /home/akash/Desktop/workspace/gesture-control/dataset/none/394.jpg\n"
     ]
    },
    {
     "name": "stdout",
     "output_type": "stream",
     "text": [
      "INFO:tensorflow:Loading image /home/akash/Desktop/workspace/gesture-control/dataset/THUMB_DOWN/IMG_25.jpg\n"
     ]
    },
    {
     "name": "stderr",
     "output_type": "stream",
     "text": [
      "INFO:tensorflow:Loading image /home/akash/Desktop/workspace/gesture-control/dataset/THUMB_DOWN/IMG_25.jpg\n"
     ]
    },
    {
     "name": "stdout",
     "output_type": "stream",
     "text": [
      "INFO:tensorflow:Loading image /home/akash/Desktop/workspace/gesture-control/dataset/THUMB_UP/IMG_24.jpg\n"
     ]
    },
    {
     "name": "stderr",
     "output_type": "stream",
     "text": [
      "INFO:tensorflow:Loading image /home/akash/Desktop/workspace/gesture-control/dataset/THUMB_UP/IMG_24.jpg\n"
     ]
    },
    {
     "name": "stdout",
     "output_type": "stream",
     "text": [
      "INFO:tensorflow:Loading image /home/akash/Desktop/workspace/gesture-control/dataset/THUMB_UP/IMG_36.jpg\n"
     ]
    },
    {
     "name": "stderr",
     "output_type": "stream",
     "text": [
      "INFO:tensorflow:Loading image /home/akash/Desktop/workspace/gesture-control/dataset/THUMB_UP/IMG_36.jpg\n"
     ]
    },
    {
     "name": "stdout",
     "output_type": "stream",
     "text": [
      "INFO:tensorflow:Loading image /home/akash/Desktop/workspace/gesture-control/dataset/THUMB_DOWN/IMG_86.jpg\n"
     ]
    },
    {
     "name": "stderr",
     "output_type": "stream",
     "text": [
      "INFO:tensorflow:Loading image /home/akash/Desktop/workspace/gesture-control/dataset/THUMB_DOWN/IMG_86.jpg\n"
     ]
    },
    {
     "name": "stdout",
     "output_type": "stream",
     "text": [
      "INFO:tensorflow:Loading image /home/akash/Desktop/workspace/gesture-control/dataset/THUMB_DOWN/IMG_28.jpg\n"
     ]
    },
    {
     "name": "stderr",
     "output_type": "stream",
     "text": [
      "INFO:tensorflow:Loading image /home/akash/Desktop/workspace/gesture-control/dataset/THUMB_DOWN/IMG_28.jpg\n"
     ]
    },
    {
     "name": "stdout",
     "output_type": "stream",
     "text": [
      "INFO:tensorflow:Loading image /home/akash/Desktop/workspace/gesture-control/dataset/THUMB_UP/IMG_33.jpg\n"
     ]
    },
    {
     "name": "stderr",
     "output_type": "stream",
     "text": [
      "INFO:tensorflow:Loading image /home/akash/Desktop/workspace/gesture-control/dataset/THUMB_UP/IMG_33.jpg\n"
     ]
    },
    {
     "name": "stdout",
     "output_type": "stream",
     "text": [
      "INFO:tensorflow:Loading image /home/akash/Desktop/workspace/gesture-control/dataset/none/1876.jpg\n"
     ]
    },
    {
     "name": "stderr",
     "output_type": "stream",
     "text": [
      "INFO:tensorflow:Loading image /home/akash/Desktop/workspace/gesture-control/dataset/none/1876.jpg\n"
     ]
    },
    {
     "name": "stdout",
     "output_type": "stream",
     "text": [
      "INFO:tensorflow:Loading image /home/akash/Desktop/workspace/gesture-control/dataset/THUMB_UP/IMG_48.jpg\n"
     ]
    },
    {
     "name": "stderr",
     "output_type": "stream",
     "text": [
      "INFO:tensorflow:Loading image /home/akash/Desktop/workspace/gesture-control/dataset/THUMB_UP/IMG_48.jpg\n"
     ]
    },
    {
     "name": "stdout",
     "output_type": "stream",
     "text": [
      "INFO:tensorflow:Loading image /home/akash/Desktop/workspace/gesture-control/dataset/none/1799.jpg\n"
     ]
    },
    {
     "name": "stderr",
     "output_type": "stream",
     "text": [
      "INFO:tensorflow:Loading image /home/akash/Desktop/workspace/gesture-control/dataset/none/1799.jpg\n"
     ]
    },
    {
     "name": "stdout",
     "output_type": "stream",
     "text": [
      "INFO:tensorflow:Loading image /home/akash/Desktop/workspace/gesture-control/dataset/none/1883.jpg\n"
     ]
    },
    {
     "name": "stderr",
     "output_type": "stream",
     "text": [
      "INFO:tensorflow:Loading image /home/akash/Desktop/workspace/gesture-control/dataset/none/1883.jpg\n"
     ]
    },
    {
     "name": "stdout",
     "output_type": "stream",
     "text": [
      "INFO:tensorflow:Loading image /home/akash/Desktop/workspace/gesture-control/dataset/CLOSED_FIST/356.jpg\n"
     ]
    },
    {
     "name": "stderr",
     "output_type": "stream",
     "text": [
      "INFO:tensorflow:Loading image /home/akash/Desktop/workspace/gesture-control/dataset/CLOSED_FIST/356.jpg\n"
     ]
    },
    {
     "name": "stdout",
     "output_type": "stream",
     "text": [
      "INFO:tensorflow:Loading image /home/akash/Desktop/workspace/gesture-control/dataset/CLOSED_FIST/595.jpg\n"
     ]
    },
    {
     "name": "stderr",
     "output_type": "stream",
     "text": [
      "INFO:tensorflow:Loading image /home/akash/Desktop/workspace/gesture-control/dataset/CLOSED_FIST/595.jpg\n"
     ]
    },
    {
     "name": "stdout",
     "output_type": "stream",
     "text": [
      "INFO:tensorflow:Loading image /home/akash/Desktop/workspace/gesture-control/dataset/THUMB_DOWN/IMG_50.jpg\n"
     ]
    },
    {
     "name": "stderr",
     "output_type": "stream",
     "text": [
      "INFO:tensorflow:Loading image /home/akash/Desktop/workspace/gesture-control/dataset/THUMB_DOWN/IMG_50.jpg\n"
     ]
    },
    {
     "name": "stdout",
     "output_type": "stream",
     "text": [
      "INFO:tensorflow:Loading image /home/akash/Desktop/workspace/gesture-control/dataset/THUMB_UP/IMG_6.jpg\n"
     ]
    },
    {
     "name": "stderr",
     "output_type": "stream",
     "text": [
      "INFO:tensorflow:Loading image /home/akash/Desktop/workspace/gesture-control/dataset/THUMB_UP/IMG_6.jpg\n"
     ]
    },
    {
     "name": "stdout",
     "output_type": "stream",
     "text": [
      "INFO:tensorflow:Loading image /home/akash/Desktop/workspace/gesture-control/dataset/THUMB_UP/IMG_61.jpg\n"
     ]
    },
    {
     "name": "stderr",
     "output_type": "stream",
     "text": [
      "INFO:tensorflow:Loading image /home/akash/Desktop/workspace/gesture-control/dataset/THUMB_UP/IMG_61.jpg\n"
     ]
    },
    {
     "name": "stdout",
     "output_type": "stream",
     "text": [
      "INFO:tensorflow:Loading image /home/akash/Desktop/workspace/gesture-control/dataset/OPEN_PALM/IMG_89.jpg\n"
     ]
    },
    {
     "name": "stderr",
     "output_type": "stream",
     "text": [
      "INFO:tensorflow:Loading image /home/akash/Desktop/workspace/gesture-control/dataset/OPEN_PALM/IMG_89.jpg\n"
     ]
    },
    {
     "name": "stdout",
     "output_type": "stream",
     "text": [
      "INFO:tensorflow:Loading image /home/akash/Desktop/workspace/gesture-control/dataset/OPEN_PALM/IMG_65.jpg\n"
     ]
    },
    {
     "name": "stderr",
     "output_type": "stream",
     "text": [
      "INFO:tensorflow:Loading image /home/akash/Desktop/workspace/gesture-control/dataset/OPEN_PALM/IMG_65.jpg\n"
     ]
    },
    {
     "name": "stdout",
     "output_type": "stream",
     "text": [
      "INFO:tensorflow:Loading image /home/akash/Desktop/workspace/gesture-control/dataset/THUMB_UP/IMG_92.jpg\n"
     ]
    },
    {
     "name": "stderr",
     "output_type": "stream",
     "text": [
      "INFO:tensorflow:Loading image /home/akash/Desktop/workspace/gesture-control/dataset/THUMB_UP/IMG_92.jpg\n"
     ]
    },
    {
     "name": "stdout",
     "output_type": "stream",
     "text": [
      "INFO:tensorflow:Loading image /home/akash/Desktop/workspace/gesture-control/dataset/none/IMG_1715267638.3244002.jpg\n"
     ]
    },
    {
     "name": "stderr",
     "output_type": "stream",
     "text": [
      "INFO:tensorflow:Loading image /home/akash/Desktop/workspace/gesture-control/dataset/none/IMG_1715267638.3244002.jpg\n"
     ]
    },
    {
     "name": "stdout",
     "output_type": "stream",
     "text": [
      "INFO:tensorflow:Loading image /home/akash/Desktop/workspace/gesture-control/dataset/none/946.jpg\n"
     ]
    },
    {
     "name": "stderr",
     "output_type": "stream",
     "text": [
      "INFO:tensorflow:Loading image /home/akash/Desktop/workspace/gesture-control/dataset/none/946.jpg\n"
     ]
    },
    {
     "name": "stdout",
     "output_type": "stream",
     "text": [
      "INFO:tensorflow:Loading image /home/akash/Desktop/workspace/gesture-control/dataset/OPEN_PALM/IMG_61.jpg\n"
     ]
    },
    {
     "name": "stderr",
     "output_type": "stream",
     "text": [
      "INFO:tensorflow:Loading image /home/akash/Desktop/workspace/gesture-control/dataset/OPEN_PALM/IMG_61.jpg\n"
     ]
    },
    {
     "name": "stdout",
     "output_type": "stream",
     "text": [
      "INFO:tensorflow:Loading image /home/akash/Desktop/workspace/gesture-control/dataset/THUMB_UP/IMG_76.jpg\n"
     ]
    },
    {
     "name": "stderr",
     "output_type": "stream",
     "text": [
      "INFO:tensorflow:Loading image /home/akash/Desktop/workspace/gesture-control/dataset/THUMB_UP/IMG_76.jpg\n"
     ]
    },
    {
     "name": "stdout",
     "output_type": "stream",
     "text": [
      "INFO:tensorflow:Loading image /home/akash/Desktop/workspace/gesture-control/dataset/THUMB_DOWN/IMG_26.jpg\n"
     ]
    },
    {
     "name": "stderr",
     "output_type": "stream",
     "text": [
      "INFO:tensorflow:Loading image /home/akash/Desktop/workspace/gesture-control/dataset/THUMB_DOWN/IMG_26.jpg\n"
     ]
    },
    {
     "name": "stdout",
     "output_type": "stream",
     "text": [
      "INFO:tensorflow:Loading image /home/akash/Desktop/workspace/gesture-control/dataset/THUMB_DOWN/IMG_74.jpg\n"
     ]
    },
    {
     "name": "stderr",
     "output_type": "stream",
     "text": [
      "INFO:tensorflow:Loading image /home/akash/Desktop/workspace/gesture-control/dataset/THUMB_DOWN/IMG_74.jpg\n"
     ]
    },
    {
     "name": "stdout",
     "output_type": "stream",
     "text": [
      "INFO:tensorflow:Loading image /home/akash/Desktop/workspace/gesture-control/dataset/none/941.jpg\n"
     ]
    },
    {
     "name": "stderr",
     "output_type": "stream",
     "text": [
      "INFO:tensorflow:Loading image /home/akash/Desktop/workspace/gesture-control/dataset/none/941.jpg\n"
     ]
    },
    {
     "name": "stdout",
     "output_type": "stream",
     "text": [
      "INFO:tensorflow:Loading image /home/akash/Desktop/workspace/gesture-control/dataset/THUMB_DOWN/IMG_78.jpg\n"
     ]
    },
    {
     "name": "stderr",
     "output_type": "stream",
     "text": [
      "INFO:tensorflow:Loading image /home/akash/Desktop/workspace/gesture-control/dataset/THUMB_DOWN/IMG_78.jpg\n"
     ]
    },
    {
     "name": "stdout",
     "output_type": "stream",
     "text": [
      "INFO:tensorflow:Loading image /home/akash/Desktop/workspace/gesture-control/dataset/THUMB_UP/IMG_2.jpg\n"
     ]
    },
    {
     "name": "stderr",
     "output_type": "stream",
     "text": [
      "INFO:tensorflow:Loading image /home/akash/Desktop/workspace/gesture-control/dataset/THUMB_UP/IMG_2.jpg\n"
     ]
    },
    {
     "name": "stdout",
     "output_type": "stream",
     "text": [
      "INFO:tensorflow:Loading image /home/akash/Desktop/workspace/gesture-control/dataset/THUMB_DOWN/IMG_40.jpg\n"
     ]
    },
    {
     "name": "stderr",
     "output_type": "stream",
     "text": [
      "INFO:tensorflow:Loading image /home/akash/Desktop/workspace/gesture-control/dataset/THUMB_DOWN/IMG_40.jpg\n"
     ]
    },
    {
     "name": "stdout",
     "output_type": "stream",
     "text": [
      "INFO:tensorflow:Loading image /home/akash/Desktop/workspace/gesture-control/dataset/THUMB_DOWN/IMG_60.jpg\n"
     ]
    },
    {
     "name": "stderr",
     "output_type": "stream",
     "text": [
      "INFO:tensorflow:Loading image /home/akash/Desktop/workspace/gesture-control/dataset/THUMB_DOWN/IMG_60.jpg\n"
     ]
    },
    {
     "name": "stdout",
     "output_type": "stream",
     "text": [
      "INFO:tensorflow:Loading image /home/akash/Desktop/workspace/gesture-control/dataset/THUMB_DOWN/IMG_93.jpg\n"
     ]
    },
    {
     "name": "stderr",
     "output_type": "stream",
     "text": [
      "INFO:tensorflow:Loading image /home/akash/Desktop/workspace/gesture-control/dataset/THUMB_DOWN/IMG_93.jpg\n"
     ]
    },
    {
     "name": "stdout",
     "output_type": "stream",
     "text": [
      "INFO:tensorflow:Loading image /home/akash/Desktop/workspace/gesture-control/dataset/none/IMG_1715189191.3362129.jpg\n"
     ]
    },
    {
     "name": "stderr",
     "output_type": "stream",
     "text": [
      "INFO:tensorflow:Loading image /home/akash/Desktop/workspace/gesture-control/dataset/none/IMG_1715189191.3362129.jpg\n"
     ]
    },
    {
     "name": "stdout",
     "output_type": "stream",
     "text": [
      "INFO:tensorflow:Loading image /home/akash/Desktop/workspace/gesture-control/dataset/none/IMG_1715189195.90776.jpg\n"
     ]
    },
    {
     "name": "stderr",
     "output_type": "stream",
     "text": [
      "INFO:tensorflow:Loading image /home/akash/Desktop/workspace/gesture-control/dataset/none/IMG_1715189195.90776.jpg\n"
     ]
    },
    {
     "name": "stdout",
     "output_type": "stream",
     "text": [
      "INFO:tensorflow:Loading image /home/akash/Desktop/workspace/gesture-control/dataset/none/1906.jpg\n"
     ]
    },
    {
     "name": "stderr",
     "output_type": "stream",
     "text": [
      "INFO:tensorflow:Loading image /home/akash/Desktop/workspace/gesture-control/dataset/none/1906.jpg\n"
     ]
    },
    {
     "name": "stdout",
     "output_type": "stream",
     "text": [
      "INFO:tensorflow:Loading image /home/akash/Desktop/workspace/gesture-control/dataset/THUMB_UP/IMG_44.jpg\n"
     ]
    },
    {
     "name": "stderr",
     "output_type": "stream",
     "text": [
      "INFO:tensorflow:Loading image /home/akash/Desktop/workspace/gesture-control/dataset/THUMB_UP/IMG_44.jpg\n"
     ]
    },
    {
     "name": "stdout",
     "output_type": "stream",
     "text": [
      "INFO:tensorflow:Loading image /home/akash/Desktop/workspace/gesture-control/dataset/THUMB_DOWN/IMG_59.jpg\n"
     ]
    },
    {
     "name": "stderr",
     "output_type": "stream",
     "text": [
      "INFO:tensorflow:Loading image /home/akash/Desktop/workspace/gesture-control/dataset/THUMB_DOWN/IMG_59.jpg\n"
     ]
    },
    {
     "name": "stdout",
     "output_type": "stream",
     "text": [
      "INFO:tensorflow:Loading image /home/akash/Desktop/workspace/gesture-control/dataset/THUMB_UP/IMG_83.jpg\n"
     ]
    },
    {
     "name": "stderr",
     "output_type": "stream",
     "text": [
      "INFO:tensorflow:Loading image /home/akash/Desktop/workspace/gesture-control/dataset/THUMB_UP/IMG_83.jpg\n"
     ]
    },
    {
     "name": "stdout",
     "output_type": "stream",
     "text": [
      "INFO:tensorflow:Loading image /home/akash/Desktop/workspace/gesture-control/dataset/THUMB_UP/IMG_91.jpg\n"
     ]
    },
    {
     "name": "stderr",
     "output_type": "stream",
     "text": [
      "INFO:tensorflow:Loading image /home/akash/Desktop/workspace/gesture-control/dataset/THUMB_UP/IMG_91.jpg\n"
     ]
    },
    {
     "name": "stdout",
     "output_type": "stream",
     "text": [
      "INFO:tensorflow:Loading image /home/akash/Desktop/workspace/gesture-control/dataset/THUMB_DOWN/IMG_68.jpg\n"
     ]
    },
    {
     "name": "stderr",
     "output_type": "stream",
     "text": [
      "INFO:tensorflow:Loading image /home/akash/Desktop/workspace/gesture-control/dataset/THUMB_DOWN/IMG_68.jpg\n"
     ]
    },
    {
     "name": "stdout",
     "output_type": "stream",
     "text": [
      "INFO:tensorflow:Loading image /home/akash/Desktop/workspace/gesture-control/dataset/THUMB_UP/IMG_46.jpg\n"
     ]
    },
    {
     "name": "stderr",
     "output_type": "stream",
     "text": [
      "INFO:tensorflow:Loading image /home/akash/Desktop/workspace/gesture-control/dataset/THUMB_UP/IMG_46.jpg\n"
     ]
    },
    {
     "name": "stdout",
     "output_type": "stream",
     "text": [
      "INFO:tensorflow:Loading image /home/akash/Desktop/workspace/gesture-control/dataset/THUMB_UP/IMG_88.jpg\n"
     ]
    },
    {
     "name": "stderr",
     "output_type": "stream",
     "text": [
      "INFO:tensorflow:Loading image /home/akash/Desktop/workspace/gesture-control/dataset/THUMB_UP/IMG_88.jpg\n"
     ]
    },
    {
     "name": "stdout",
     "output_type": "stream",
     "text": [
      "INFO:tensorflow:Loading image /home/akash/Desktop/workspace/gesture-control/dataset/OPEN_PALM/IMG_50.jpg\n"
     ]
    },
    {
     "name": "stderr",
     "output_type": "stream",
     "text": [
      "INFO:tensorflow:Loading image /home/akash/Desktop/workspace/gesture-control/dataset/OPEN_PALM/IMG_50.jpg\n"
     ]
    },
    {
     "name": "stdout",
     "output_type": "stream",
     "text": [
      "INFO:tensorflow:Loading image /home/akash/Desktop/workspace/gesture-control/dataset/OPEN_PALM/IMG_75.jpg\n"
     ]
    },
    {
     "name": "stderr",
     "output_type": "stream",
     "text": [
      "INFO:tensorflow:Loading image /home/akash/Desktop/workspace/gesture-control/dataset/OPEN_PALM/IMG_75.jpg\n"
     ]
    },
    {
     "name": "stdout",
     "output_type": "stream",
     "text": [
      "INFO:tensorflow:Loading image /home/akash/Desktop/workspace/gesture-control/dataset/OPEN_PALM/IMG_49.jpg\n"
     ]
    },
    {
     "name": "stderr",
     "output_type": "stream",
     "text": [
      "INFO:tensorflow:Loading image /home/akash/Desktop/workspace/gesture-control/dataset/OPEN_PALM/IMG_49.jpg\n"
     ]
    },
    {
     "name": "stdout",
     "output_type": "stream",
     "text": [
      "INFO:tensorflow:Loading image /home/akash/Desktop/workspace/gesture-control/dataset/OPEN_PALM/IMG_81.jpg\n"
     ]
    },
    {
     "name": "stderr",
     "output_type": "stream",
     "text": [
      "INFO:tensorflow:Loading image /home/akash/Desktop/workspace/gesture-control/dataset/OPEN_PALM/IMG_81.jpg\n"
     ]
    },
    {
     "name": "stdout",
     "output_type": "stream",
     "text": [
      "INFO:tensorflow:Loading image /home/akash/Desktop/workspace/gesture-control/dataset/OPEN_PALM/IMG_71.jpg\n"
     ]
    },
    {
     "name": "stderr",
     "output_type": "stream",
     "text": [
      "INFO:tensorflow:Loading image /home/akash/Desktop/workspace/gesture-control/dataset/OPEN_PALM/IMG_71.jpg\n"
     ]
    },
    {
     "name": "stdout",
     "output_type": "stream",
     "text": [
      "INFO:tensorflow:Loading image /home/akash/Desktop/workspace/gesture-control/dataset/THUMB_DOWN/IMG_22.jpg\n"
     ]
    },
    {
     "name": "stderr",
     "output_type": "stream",
     "text": [
      "INFO:tensorflow:Loading image /home/akash/Desktop/workspace/gesture-control/dataset/THUMB_DOWN/IMG_22.jpg\n"
     ]
    },
    {
     "name": "stdout",
     "output_type": "stream",
     "text": [
      "INFO:tensorflow:Loading image /home/akash/Desktop/workspace/gesture-control/dataset/THUMB_DOWN/IMG_27.jpg\n"
     ]
    },
    {
     "name": "stderr",
     "output_type": "stream",
     "text": [
      "INFO:tensorflow:Loading image /home/akash/Desktop/workspace/gesture-control/dataset/THUMB_DOWN/IMG_27.jpg\n"
     ]
    },
    {
     "name": "stdout",
     "output_type": "stream",
     "text": [
      "INFO:tensorflow:Loading image /home/akash/Desktop/workspace/gesture-control/dataset/CLOSED_FIST/88.jpg\n"
     ]
    },
    {
     "name": "stderr",
     "output_type": "stream",
     "text": [
      "INFO:tensorflow:Loading image /home/akash/Desktop/workspace/gesture-control/dataset/CLOSED_FIST/88.jpg\n"
     ]
    },
    {
     "name": "stdout",
     "output_type": "stream",
     "text": [
      "INFO:tensorflow:Loading image /home/akash/Desktop/workspace/gesture-control/dataset/none/1521.jpg\n"
     ]
    },
    {
     "name": "stderr",
     "output_type": "stream",
     "text": [
      "INFO:tensorflow:Loading image /home/akash/Desktop/workspace/gesture-control/dataset/none/1521.jpg\n"
     ]
    },
    {
     "name": "stdout",
     "output_type": "stream",
     "text": [
      "INFO:tensorflow:Loading image /home/akash/Desktop/workspace/gesture-control/dataset/OPEN_PALM/IMG_5.jpg\n"
     ]
    },
    {
     "name": "stderr",
     "output_type": "stream",
     "text": [
      "INFO:tensorflow:Loading image /home/akash/Desktop/workspace/gesture-control/dataset/OPEN_PALM/IMG_5.jpg\n"
     ]
    },
    {
     "name": "stdout",
     "output_type": "stream",
     "text": [
      "INFO:tensorflow:Loading image /home/akash/Desktop/workspace/gesture-control/dataset/THUMB_DOWN/IMG_84.jpg\n"
     ]
    },
    {
     "name": "stderr",
     "output_type": "stream",
     "text": [
      "INFO:tensorflow:Loading image /home/akash/Desktop/workspace/gesture-control/dataset/THUMB_DOWN/IMG_84.jpg\n"
     ]
    },
    {
     "name": "stdout",
     "output_type": "stream",
     "text": [
      "INFO:tensorflow:Loading image /home/akash/Desktop/workspace/gesture-control/dataset/CLOSED_FIST/206.jpg\n"
     ]
    },
    {
     "name": "stderr",
     "output_type": "stream",
     "text": [
      "INFO:tensorflow:Loading image /home/akash/Desktop/workspace/gesture-control/dataset/CLOSED_FIST/206.jpg\n"
     ]
    },
    {
     "name": "stdout",
     "output_type": "stream",
     "text": [
      "INFO:tensorflow:Loading image /home/akash/Desktop/workspace/gesture-control/dataset/CLOSED_FIST/426.jpg\n"
     ]
    },
    {
     "name": "stderr",
     "output_type": "stream",
     "text": [
      "INFO:tensorflow:Loading image /home/akash/Desktop/workspace/gesture-control/dataset/CLOSED_FIST/426.jpg\n"
     ]
    },
    {
     "name": "stdout",
     "output_type": "stream",
     "text": [
      "INFO:tensorflow:Loading image /home/akash/Desktop/workspace/gesture-control/dataset/none/IMG_1715189189.4733963.jpg\n"
     ]
    },
    {
     "name": "stderr",
     "output_type": "stream",
     "text": [
      "INFO:tensorflow:Loading image /home/akash/Desktop/workspace/gesture-control/dataset/none/IMG_1715189189.4733963.jpg\n"
     ]
    },
    {
     "name": "stdout",
     "output_type": "stream",
     "text": [
      "INFO:tensorflow:Loading image /home/akash/Desktop/workspace/gesture-control/dataset/CLOSED_FIST/IMG_1715191758.8041556.jpg\n"
     ]
    },
    {
     "name": "stderr",
     "output_type": "stream",
     "text": [
      "INFO:tensorflow:Loading image /home/akash/Desktop/workspace/gesture-control/dataset/CLOSED_FIST/IMG_1715191758.8041556.jpg\n"
     ]
    },
    {
     "name": "stdout",
     "output_type": "stream",
     "text": [
      "INFO:tensorflow:Loading image /home/akash/Desktop/workspace/gesture-control/dataset/none/1812.jpg\n"
     ]
    },
    {
     "name": "stderr",
     "output_type": "stream",
     "text": [
      "INFO:tensorflow:Loading image /home/akash/Desktop/workspace/gesture-control/dataset/none/1812.jpg\n"
     ]
    },
    {
     "name": "stdout",
     "output_type": "stream",
     "text": [
      "INFO:tensorflow:Loading image /home/akash/Desktop/workspace/gesture-control/dataset/THUMB_DOWN/IMG_100.jpg\n"
     ]
    },
    {
     "name": "stderr",
     "output_type": "stream",
     "text": [
      "INFO:tensorflow:Loading image /home/akash/Desktop/workspace/gesture-control/dataset/THUMB_DOWN/IMG_100.jpg\n"
     ]
    },
    {
     "name": "stdout",
     "output_type": "stream",
     "text": [
      "INFO:tensorflow:Loading image /home/akash/Desktop/workspace/gesture-control/dataset/CLOSED_FIST/431.jpg\n"
     ]
    },
    {
     "name": "stderr",
     "output_type": "stream",
     "text": [
      "INFO:tensorflow:Loading image /home/akash/Desktop/workspace/gesture-control/dataset/CLOSED_FIST/431.jpg\n"
     ]
    },
    {
     "name": "stdout",
     "output_type": "stream",
     "text": [
      "INFO:tensorflow:Loading image /home/akash/Desktop/workspace/gesture-control/dataset/none/IMG_1715268328.3851058.jpg\n"
     ]
    },
    {
     "name": "stderr",
     "output_type": "stream",
     "text": [
      "INFO:tensorflow:Loading image /home/akash/Desktop/workspace/gesture-control/dataset/none/IMG_1715268328.3851058.jpg\n"
     ]
    },
    {
     "name": "stdout",
     "output_type": "stream",
     "text": [
      "INFO:tensorflow:Loading image /home/akash/Desktop/workspace/gesture-control/dataset/CLOSED_FIST/360.jpg\n"
     ]
    },
    {
     "name": "stderr",
     "output_type": "stream",
     "text": [
      "INFO:tensorflow:Loading image /home/akash/Desktop/workspace/gesture-control/dataset/CLOSED_FIST/360.jpg\n"
     ]
    },
    {
     "name": "stdout",
     "output_type": "stream",
     "text": [
      "INFO:tensorflow:Loading image /home/akash/Desktop/workspace/gesture-control/dataset/OPEN_PALM/IMG_58.jpg\n"
     ]
    },
    {
     "name": "stderr",
     "output_type": "stream",
     "text": [
      "INFO:tensorflow:Loading image /home/akash/Desktop/workspace/gesture-control/dataset/OPEN_PALM/IMG_58.jpg\n"
     ]
    },
    {
     "name": "stdout",
     "output_type": "stream",
     "text": [
      "INFO:tensorflow:Loading image /home/akash/Desktop/workspace/gesture-control/dataset/none/511.jpg\n"
     ]
    },
    {
     "name": "stderr",
     "output_type": "stream",
     "text": [
      "INFO:tensorflow:Loading image /home/akash/Desktop/workspace/gesture-control/dataset/none/511.jpg\n"
     ]
    },
    {
     "name": "stdout",
     "output_type": "stream",
     "text": [
      "INFO:tensorflow:Loading image /home/akash/Desktop/workspace/gesture-control/dataset/none/1802.jpg\n"
     ]
    },
    {
     "name": "stderr",
     "output_type": "stream",
     "text": [
      "INFO:tensorflow:Loading image /home/akash/Desktop/workspace/gesture-control/dataset/none/1802.jpg\n"
     ]
    },
    {
     "name": "stdout",
     "output_type": "stream",
     "text": [
      "INFO:tensorflow:Loading image /home/akash/Desktop/workspace/gesture-control/dataset/THUMB_DOWN/IMG_72.jpg\n"
     ]
    },
    {
     "name": "stderr",
     "output_type": "stream",
     "text": [
      "INFO:tensorflow:Loading image /home/akash/Desktop/workspace/gesture-control/dataset/THUMB_DOWN/IMG_72.jpg\n"
     ]
    },
    {
     "name": "stdout",
     "output_type": "stream",
     "text": [
      "INFO:tensorflow:Loading image /home/akash/Desktop/workspace/gesture-control/dataset/OPEN_PALM/IMG_47.jpg\n"
     ]
    },
    {
     "name": "stderr",
     "output_type": "stream",
     "text": [
      "INFO:tensorflow:Loading image /home/akash/Desktop/workspace/gesture-control/dataset/OPEN_PALM/IMG_47.jpg\n"
     ]
    },
    {
     "name": "stdout",
     "output_type": "stream",
     "text": [
      "INFO:tensorflow:Loading image /home/akash/Desktop/workspace/gesture-control/dataset/none/1244.jpg\n"
     ]
    },
    {
     "name": "stderr",
     "output_type": "stream",
     "text": [
      "INFO:tensorflow:Loading image /home/akash/Desktop/workspace/gesture-control/dataset/none/1244.jpg\n"
     ]
    },
    {
     "name": "stdout",
     "output_type": "stream",
     "text": [
      "INFO:tensorflow:Loading image /home/akash/Desktop/workspace/gesture-control/dataset/none/IMG_1715268328.7409337.jpg\n"
     ]
    },
    {
     "name": "stderr",
     "output_type": "stream",
     "text": [
      "INFO:tensorflow:Loading image /home/akash/Desktop/workspace/gesture-control/dataset/none/IMG_1715268328.7409337.jpg\n"
     ]
    },
    {
     "name": "stdout",
     "output_type": "stream",
     "text": [
      "INFO:tensorflow:Loading image /home/akash/Desktop/workspace/gesture-control/dataset/none/1299.jpg\n"
     ]
    },
    {
     "name": "stderr",
     "output_type": "stream",
     "text": [
      "INFO:tensorflow:Loading image /home/akash/Desktop/workspace/gesture-control/dataset/none/1299.jpg\n"
     ]
    },
    {
     "name": "stdout",
     "output_type": "stream",
     "text": [
      "INFO:tensorflow:Loading image /home/akash/Desktop/workspace/gesture-control/dataset/THUMB_UP/IMG_49.jpg\n"
     ]
    },
    {
     "name": "stderr",
     "output_type": "stream",
     "text": [
      "INFO:tensorflow:Loading image /home/akash/Desktop/workspace/gesture-control/dataset/THUMB_UP/IMG_49.jpg\n"
     ]
    },
    {
     "name": "stdout",
     "output_type": "stream",
     "text": [
      "INFO:tensorflow:Loading image /home/akash/Desktop/workspace/gesture-control/dataset/CLOSED_FIST/906.jpg\n"
     ]
    },
    {
     "name": "stderr",
     "output_type": "stream",
     "text": [
      "INFO:tensorflow:Loading image /home/akash/Desktop/workspace/gesture-control/dataset/CLOSED_FIST/906.jpg\n"
     ]
    },
    {
     "name": "stdout",
     "output_type": "stream",
     "text": [
      "INFO:tensorflow:Loading image /home/akash/Desktop/workspace/gesture-control/dataset/THUMB_UP/IMG_45.jpg\n"
     ]
    },
    {
     "name": "stderr",
     "output_type": "stream",
     "text": [
      "INFO:tensorflow:Loading image /home/akash/Desktop/workspace/gesture-control/dataset/THUMB_UP/IMG_45.jpg\n"
     ]
    },
    {
     "name": "stdout",
     "output_type": "stream",
     "text": [
      "INFO:tensorflow:Loading image /home/akash/Desktop/workspace/gesture-control/dataset/THUMB_DOWN/IMG_49.jpg\n"
     ]
    },
    {
     "name": "stderr",
     "output_type": "stream",
     "text": [
      "INFO:tensorflow:Loading image /home/akash/Desktop/workspace/gesture-control/dataset/THUMB_DOWN/IMG_49.jpg\n"
     ]
    },
    {
     "name": "stdout",
     "output_type": "stream",
     "text": [
      "INFO:tensorflow:Loading image /home/akash/Desktop/workspace/gesture-control/dataset/none/590.jpg\n"
     ]
    },
    {
     "name": "stderr",
     "output_type": "stream",
     "text": [
      "INFO:tensorflow:Loading image /home/akash/Desktop/workspace/gesture-control/dataset/none/590.jpg\n"
     ]
    },
    {
     "name": "stdout",
     "output_type": "stream",
     "text": [
      "INFO:tensorflow:Loading image /home/akash/Desktop/workspace/gesture-control/dataset/THUMB_DOWN/IMG_89.jpg\n"
     ]
    },
    {
     "name": "stderr",
     "output_type": "stream",
     "text": [
      "INFO:tensorflow:Loading image /home/akash/Desktop/workspace/gesture-control/dataset/THUMB_DOWN/IMG_89.jpg\n"
     ]
    },
    {
     "name": "stdout",
     "output_type": "stream",
     "text": [
      "INFO:tensorflow:Loading image /home/akash/Desktop/workspace/gesture-control/dataset/CLOSED_FIST/398.jpg\n"
     ]
    },
    {
     "name": "stderr",
     "output_type": "stream",
     "text": [
      "INFO:tensorflow:Loading image /home/akash/Desktop/workspace/gesture-control/dataset/CLOSED_FIST/398.jpg\n"
     ]
    },
    {
     "name": "stdout",
     "output_type": "stream",
     "text": [
      "INFO:tensorflow:Loading image /home/akash/Desktop/workspace/gesture-control/dataset/none/236.jpg\n"
     ]
    },
    {
     "name": "stderr",
     "output_type": "stream",
     "text": [
      "INFO:tensorflow:Loading image /home/akash/Desktop/workspace/gesture-control/dataset/none/236.jpg\n"
     ]
    },
    {
     "name": "stdout",
     "output_type": "stream",
     "text": [
      "INFO:tensorflow:Loading image /home/akash/Desktop/workspace/gesture-control/dataset/OPEN_PALM/IMG_91.jpg\n"
     ]
    },
    {
     "name": "stderr",
     "output_type": "stream",
     "text": [
      "INFO:tensorflow:Loading image /home/akash/Desktop/workspace/gesture-control/dataset/OPEN_PALM/IMG_91.jpg\n"
     ]
    },
    {
     "name": "stdout",
     "output_type": "stream",
     "text": [
      "INFO:tensorflow:Loading image /home/akash/Desktop/workspace/gesture-control/dataset/CLOSED_FIST/513.jpg\n"
     ]
    },
    {
     "name": "stderr",
     "output_type": "stream",
     "text": [
      "INFO:tensorflow:Loading image /home/akash/Desktop/workspace/gesture-control/dataset/CLOSED_FIST/513.jpg\n"
     ]
    },
    {
     "name": "stdout",
     "output_type": "stream",
     "text": [
      "INFO:tensorflow:Loading image /home/akash/Desktop/workspace/gesture-control/dataset/none/802.jpg\n"
     ]
    },
    {
     "name": "stderr",
     "output_type": "stream",
     "text": [
      "INFO:tensorflow:Loading image /home/akash/Desktop/workspace/gesture-control/dataset/none/802.jpg\n"
     ]
    },
    {
     "name": "stdout",
     "output_type": "stream",
     "text": [
      "INFO:tensorflow:Loading image /home/akash/Desktop/workspace/gesture-control/dataset/none/1376.jpg\n"
     ]
    },
    {
     "name": "stderr",
     "output_type": "stream",
     "text": [
      "INFO:tensorflow:Loading image /home/akash/Desktop/workspace/gesture-control/dataset/none/1376.jpg\n"
     ]
    },
    {
     "name": "stdout",
     "output_type": "stream",
     "text": [
      "INFO:tensorflow:Loading image /home/akash/Desktop/workspace/gesture-control/dataset/THUMB_UP/IMG_28.jpg\n"
     ]
    },
    {
     "name": "stderr",
     "output_type": "stream",
     "text": [
      "INFO:tensorflow:Loading image /home/akash/Desktop/workspace/gesture-control/dataset/THUMB_UP/IMG_28.jpg\n"
     ]
    },
    {
     "name": "stdout",
     "output_type": "stream",
     "text": [
      "INFO:tensorflow:Loading image /home/akash/Desktop/workspace/gesture-control/dataset/THUMB_DOWN/IMG_55.jpg\n"
     ]
    },
    {
     "name": "stderr",
     "output_type": "stream",
     "text": [
      "INFO:tensorflow:Loading image /home/akash/Desktop/workspace/gesture-control/dataset/THUMB_DOWN/IMG_55.jpg\n"
     ]
    },
    {
     "name": "stdout",
     "output_type": "stream",
     "text": [
      "INFO:tensorflow:Loading image /home/akash/Desktop/workspace/gesture-control/dataset/none/IMG_1715267374.5528657.jpg\n"
     ]
    },
    {
     "name": "stderr",
     "output_type": "stream",
     "text": [
      "INFO:tensorflow:Loading image /home/akash/Desktop/workspace/gesture-control/dataset/none/IMG_1715267374.5528657.jpg\n"
     ]
    },
    {
     "name": "stdout",
     "output_type": "stream",
     "text": [
      "INFO:tensorflow:Loading image /home/akash/Desktop/workspace/gesture-control/dataset/THUMB_DOWN/IMG_62.jpg\n"
     ]
    },
    {
     "name": "stderr",
     "output_type": "stream",
     "text": [
      "INFO:tensorflow:Loading image /home/akash/Desktop/workspace/gesture-control/dataset/THUMB_DOWN/IMG_62.jpg\n"
     ]
    },
    {
     "name": "stdout",
     "output_type": "stream",
     "text": [
      "INFO:tensorflow:Loading image /home/akash/Desktop/workspace/gesture-control/dataset/CLOSED_FIST/541.jpg\n"
     ]
    },
    {
     "name": "stderr",
     "output_type": "stream",
     "text": [
      "INFO:tensorflow:Loading image /home/akash/Desktop/workspace/gesture-control/dataset/CLOSED_FIST/541.jpg\n"
     ]
    },
    {
     "name": "stdout",
     "output_type": "stream",
     "text": [
      "INFO:tensorflow:Loading image /home/akash/Desktop/workspace/gesture-control/dataset/THUMB_UP/IMG_98.jpg\n"
     ]
    },
    {
     "name": "stderr",
     "output_type": "stream",
     "text": [
      "INFO:tensorflow:Loading image /home/akash/Desktop/workspace/gesture-control/dataset/THUMB_UP/IMG_98.jpg\n"
     ]
    },
    {
     "name": "stdout",
     "output_type": "stream",
     "text": [
      "INFO:tensorflow:Loading image /home/akash/Desktop/workspace/gesture-control/dataset/OPEN_PALM/IMG_42.jpg\n"
     ]
    },
    {
     "name": "stderr",
     "output_type": "stream",
     "text": [
      "INFO:tensorflow:Loading image /home/akash/Desktop/workspace/gesture-control/dataset/OPEN_PALM/IMG_42.jpg\n"
     ]
    },
    {
     "name": "stdout",
     "output_type": "stream",
     "text": [
      "INFO:tensorflow:Loading image /home/akash/Desktop/workspace/gesture-control/dataset/OPEN_PALM/IMG_66.jpg\n"
     ]
    },
    {
     "name": "stderr",
     "output_type": "stream",
     "text": [
      "INFO:tensorflow:Loading image /home/akash/Desktop/workspace/gesture-control/dataset/OPEN_PALM/IMG_66.jpg\n"
     ]
    },
    {
     "name": "stdout",
     "output_type": "stream",
     "text": [
      "INFO:tensorflow:Loading image /home/akash/Desktop/workspace/gesture-control/dataset/OPEN_PALM/IMG_31.jpg\n"
     ]
    },
    {
     "name": "stderr",
     "output_type": "stream",
     "text": [
      "INFO:tensorflow:Loading image /home/akash/Desktop/workspace/gesture-control/dataset/OPEN_PALM/IMG_31.jpg\n"
     ]
    },
    {
     "name": "stdout",
     "output_type": "stream",
     "text": [
      "INFO:tensorflow:Loading image /home/akash/Desktop/workspace/gesture-control/dataset/none/IMG_1715268303.177665.jpg\n"
     ]
    },
    {
     "name": "stderr",
     "output_type": "stream",
     "text": [
      "INFO:tensorflow:Loading image /home/akash/Desktop/workspace/gesture-control/dataset/none/IMG_1715268303.177665.jpg\n"
     ]
    },
    {
     "name": "stdout",
     "output_type": "stream",
     "text": [
      "INFO:tensorflow:Loading image /home/akash/Desktop/workspace/gesture-control/dataset/OPEN_PALM/IMG_60.jpg\n"
     ]
    },
    {
     "name": "stderr",
     "output_type": "stream",
     "text": [
      "INFO:tensorflow:Loading image /home/akash/Desktop/workspace/gesture-control/dataset/OPEN_PALM/IMG_60.jpg\n"
     ]
    },
    {
     "name": "stdout",
     "output_type": "stream",
     "text": [
      "INFO:tensorflow:Loading image /home/akash/Desktop/workspace/gesture-control/dataset/CLOSED_FIST/728.jpg\n"
     ]
    },
    {
     "name": "stderr",
     "output_type": "stream",
     "text": [
      "INFO:tensorflow:Loading image /home/akash/Desktop/workspace/gesture-control/dataset/CLOSED_FIST/728.jpg\n"
     ]
    },
    {
     "name": "stdout",
     "output_type": "stream",
     "text": [
      "INFO:tensorflow:Loading image /home/akash/Desktop/workspace/gesture-control/dataset/none/1446.jpg\n"
     ]
    },
    {
     "name": "stderr",
     "output_type": "stream",
     "text": [
      "INFO:tensorflow:Loading image /home/akash/Desktop/workspace/gesture-control/dataset/none/1446.jpg\n"
     ]
    },
    {
     "name": "stdout",
     "output_type": "stream",
     "text": [
      "INFO:tensorflow:Loading image /home/akash/Desktop/workspace/gesture-control/dataset/OPEN_PALM/IMG_11.jpg\n"
     ]
    },
    {
     "name": "stderr",
     "output_type": "stream",
     "text": [
      "INFO:tensorflow:Loading image /home/akash/Desktop/workspace/gesture-control/dataset/OPEN_PALM/IMG_11.jpg\n"
     ]
    },
    {
     "name": "stdout",
     "output_type": "stream",
     "text": [
      "INFO:tensorflow:Loading image /home/akash/Desktop/workspace/gesture-control/dataset/THUMB_UP/IMG_3.jpg\n"
     ]
    },
    {
     "name": "stderr",
     "output_type": "stream",
     "text": [
      "INFO:tensorflow:Loading image /home/akash/Desktop/workspace/gesture-control/dataset/THUMB_UP/IMG_3.jpg\n"
     ]
    },
    {
     "name": "stdout",
     "output_type": "stream",
     "text": [
      "INFO:tensorflow:Loading image /home/akash/Desktop/workspace/gesture-control/dataset/none/1747.jpg\n"
     ]
    },
    {
     "name": "stderr",
     "output_type": "stream",
     "text": [
      "INFO:tensorflow:Loading image /home/akash/Desktop/workspace/gesture-control/dataset/none/1747.jpg\n"
     ]
    },
    {
     "name": "stdout",
     "output_type": "stream",
     "text": [
      "INFO:tensorflow:Loading image /home/akash/Desktop/workspace/gesture-control/dataset/THUMB_UP/IMG_96.jpg\n"
     ]
    },
    {
     "name": "stderr",
     "output_type": "stream",
     "text": [
      "INFO:tensorflow:Loading image /home/akash/Desktop/workspace/gesture-control/dataset/THUMB_UP/IMG_96.jpg\n"
     ]
    },
    {
     "name": "stdout",
     "output_type": "stream",
     "text": [
      "INFO:tensorflow:Loading image /home/akash/Desktop/workspace/gesture-control/dataset/OPEN_PALM/IMG_99.jpg\n"
     ]
    },
    {
     "name": "stderr",
     "output_type": "stream",
     "text": [
      "INFO:tensorflow:Loading image /home/akash/Desktop/workspace/gesture-control/dataset/OPEN_PALM/IMG_99.jpg\n"
     ]
    },
    {
     "name": "stdout",
     "output_type": "stream",
     "text": [
      "INFO:tensorflow:Loading image /home/akash/Desktop/workspace/gesture-control/dataset/none/1412.jpg\n"
     ]
    },
    {
     "name": "stderr",
     "output_type": "stream",
     "text": [
      "INFO:tensorflow:Loading image /home/akash/Desktop/workspace/gesture-control/dataset/none/1412.jpg\n"
     ]
    },
    {
     "name": "stdout",
     "output_type": "stream",
     "text": [
      "INFO:tensorflow:Loading image /home/akash/Desktop/workspace/gesture-control/dataset/THUMB_UP/IMG_4.jpg\n"
     ]
    },
    {
     "name": "stderr",
     "output_type": "stream",
     "text": [
      "INFO:tensorflow:Loading image /home/akash/Desktop/workspace/gesture-control/dataset/THUMB_UP/IMG_4.jpg\n"
     ]
    },
    {
     "name": "stdout",
     "output_type": "stream",
     "text": [
      "INFO:tensorflow:Loading image /home/akash/Desktop/workspace/gesture-control/dataset/OPEN_PALM/IMG_54.jpg\n"
     ]
    },
    {
     "name": "stderr",
     "output_type": "stream",
     "text": [
      "INFO:tensorflow:Loading image /home/akash/Desktop/workspace/gesture-control/dataset/OPEN_PALM/IMG_54.jpg\n"
     ]
    },
    {
     "name": "stdout",
     "output_type": "stream",
     "text": [
      "INFO:tensorflow:Loading image /home/akash/Desktop/workspace/gesture-control/dataset/none/229.jpg\n"
     ]
    },
    {
     "name": "stderr",
     "output_type": "stream",
     "text": [
      "INFO:tensorflow:Loading image /home/akash/Desktop/workspace/gesture-control/dataset/none/229.jpg\n"
     ]
    },
    {
     "name": "stdout",
     "output_type": "stream",
     "text": [
      "INFO:tensorflow:Loading image /home/akash/Desktop/workspace/gesture-control/dataset/THUMB_UP/IMG_68.jpg\n"
     ]
    },
    {
     "name": "stderr",
     "output_type": "stream",
     "text": [
      "INFO:tensorflow:Loading image /home/akash/Desktop/workspace/gesture-control/dataset/THUMB_UP/IMG_68.jpg\n"
     ]
    },
    {
     "name": "stdout",
     "output_type": "stream",
     "text": [
      "INFO:tensorflow:Loading image /home/akash/Desktop/workspace/gesture-control/dataset/CLOSED_FIST/428.jpg\n"
     ]
    },
    {
     "name": "stderr",
     "output_type": "stream",
     "text": [
      "INFO:tensorflow:Loading image /home/akash/Desktop/workspace/gesture-control/dataset/CLOSED_FIST/428.jpg\n"
     ]
    },
    {
     "name": "stdout",
     "output_type": "stream",
     "text": [
      "INFO:tensorflow:Loading image /home/akash/Desktop/workspace/gesture-control/dataset/none/1198.jpg\n"
     ]
    },
    {
     "name": "stderr",
     "output_type": "stream",
     "text": [
      "INFO:tensorflow:Loading image /home/akash/Desktop/workspace/gesture-control/dataset/none/1198.jpg\n"
     ]
    },
    {
     "name": "stdout",
     "output_type": "stream",
     "text": [
      "INFO:tensorflow:Loading image /home/akash/Desktop/workspace/gesture-control/dataset/none/IMG_1715267100.5759494.jpg\n"
     ]
    },
    {
     "name": "stderr",
     "output_type": "stream",
     "text": [
      "INFO:tensorflow:Loading image /home/akash/Desktop/workspace/gesture-control/dataset/none/IMG_1715267100.5759494.jpg\n"
     ]
    },
    {
     "name": "stdout",
     "output_type": "stream",
     "text": [
      "INFO:tensorflow:Loading image /home/akash/Desktop/workspace/gesture-control/dataset/none/1843.jpg\n"
     ]
    },
    {
     "name": "stderr",
     "output_type": "stream",
     "text": [
      "INFO:tensorflow:Loading image /home/akash/Desktop/workspace/gesture-control/dataset/none/1843.jpg\n"
     ]
    },
    {
     "name": "stdout",
     "output_type": "stream",
     "text": [
      "INFO:tensorflow:Loading image /home/akash/Desktop/workspace/gesture-control/dataset/none/1552.jpg\n"
     ]
    },
    {
     "name": "stderr",
     "output_type": "stream",
     "text": [
      "INFO:tensorflow:Loading image /home/akash/Desktop/workspace/gesture-control/dataset/none/1552.jpg\n"
     ]
    },
    {
     "name": "stdout",
     "output_type": "stream",
     "text": [
      "INFO:tensorflow:Loading image /home/akash/Desktop/workspace/gesture-control/dataset/CLOSED_FIST/523.jpg\n"
     ]
    },
    {
     "name": "stderr",
     "output_type": "stream",
     "text": [
      "INFO:tensorflow:Loading image /home/akash/Desktop/workspace/gesture-control/dataset/CLOSED_FIST/523.jpg\n"
     ]
    },
    {
     "name": "stdout",
     "output_type": "stream",
     "text": [
      "INFO:tensorflow:Loading image /home/akash/Desktop/workspace/gesture-control/dataset/THUMB_DOWN/IMG_14.jpg\n"
     ]
    },
    {
     "name": "stderr",
     "output_type": "stream",
     "text": [
      "INFO:tensorflow:Loading image /home/akash/Desktop/workspace/gesture-control/dataset/THUMB_DOWN/IMG_14.jpg\n"
     ]
    },
    {
     "name": "stdout",
     "output_type": "stream",
     "text": [
      "INFO:tensorflow:Loading image /home/akash/Desktop/workspace/gesture-control/dataset/OPEN_PALM/IMG_9.jpg\n"
     ]
    },
    {
     "name": "stderr",
     "output_type": "stream",
     "text": [
      "INFO:tensorflow:Loading image /home/akash/Desktop/workspace/gesture-control/dataset/OPEN_PALM/IMG_9.jpg\n"
     ]
    },
    {
     "name": "stdout",
     "output_type": "stream",
     "text": [
      "INFO:tensorflow:Loading image /home/akash/Desktop/workspace/gesture-control/dataset/CLOSED_FIST/894.jpg\n"
     ]
    },
    {
     "name": "stderr",
     "output_type": "stream",
     "text": [
      "INFO:tensorflow:Loading image /home/akash/Desktop/workspace/gesture-control/dataset/CLOSED_FIST/894.jpg\n"
     ]
    },
    {
     "name": "stdout",
     "output_type": "stream",
     "text": [
      "INFO:tensorflow:Loading image /home/akash/Desktop/workspace/gesture-control/dataset/none/IMG_1715189181.4127793.jpg\n"
     ]
    },
    {
     "name": "stderr",
     "output_type": "stream",
     "text": [
      "INFO:tensorflow:Loading image /home/akash/Desktop/workspace/gesture-control/dataset/none/IMG_1715189181.4127793.jpg\n"
     ]
    },
    {
     "name": "stdout",
     "output_type": "stream",
     "text": [
      "INFO:tensorflow:Loading image /home/akash/Desktop/workspace/gesture-control/dataset/CLOSED_FIST/147.jpg\n"
     ]
    },
    {
     "name": "stderr",
     "output_type": "stream",
     "text": [
      "INFO:tensorflow:Loading image /home/akash/Desktop/workspace/gesture-control/dataset/CLOSED_FIST/147.jpg\n"
     ]
    },
    {
     "name": "stdout",
     "output_type": "stream",
     "text": [
      "INFO:tensorflow:Loading image /home/akash/Desktop/workspace/gesture-control/dataset/none/IMG_1715268303.901771.jpg\n"
     ]
    },
    {
     "name": "stderr",
     "output_type": "stream",
     "text": [
      "INFO:tensorflow:Loading image /home/akash/Desktop/workspace/gesture-control/dataset/none/IMG_1715268303.901771.jpg\n"
     ]
    },
    {
     "name": "stdout",
     "output_type": "stream",
     "text": [
      "INFO:tensorflow:Loading image /home/akash/Desktop/workspace/gesture-control/dataset/CLOSED_FIST/546.jpg\n"
     ]
    },
    {
     "name": "stderr",
     "output_type": "stream",
     "text": [
      "INFO:tensorflow:Loading image /home/akash/Desktop/workspace/gesture-control/dataset/CLOSED_FIST/546.jpg\n"
     ]
    },
    {
     "name": "stdout",
     "output_type": "stream",
     "text": [
      "INFO:tensorflow:Loading image /home/akash/Desktop/workspace/gesture-control/dataset/OPEN_PALM/IMG_64.jpg\n"
     ]
    },
    {
     "name": "stderr",
     "output_type": "stream",
     "text": [
      "INFO:tensorflow:Loading image /home/akash/Desktop/workspace/gesture-control/dataset/OPEN_PALM/IMG_64.jpg\n"
     ]
    },
    {
     "name": "stdout",
     "output_type": "stream",
     "text": [
      "INFO:tensorflow:Loading image /home/akash/Desktop/workspace/gesture-control/dataset/OPEN_PALM/IMG_77.jpg\n"
     ]
    },
    {
     "name": "stderr",
     "output_type": "stream",
     "text": [
      "INFO:tensorflow:Loading image /home/akash/Desktop/workspace/gesture-control/dataset/OPEN_PALM/IMG_77.jpg\n"
     ]
    },
    {
     "name": "stdout",
     "output_type": "stream",
     "text": [
      "INFO:tensorflow:Loading image /home/akash/Desktop/workspace/gesture-control/dataset/CLOSED_FIST/IMG_1715191749.2385752.jpg\n"
     ]
    },
    {
     "name": "stderr",
     "output_type": "stream",
     "text": [
      "INFO:tensorflow:Loading image /home/akash/Desktop/workspace/gesture-control/dataset/CLOSED_FIST/IMG_1715191749.2385752.jpg\n"
     ]
    },
    {
     "name": "stdout",
     "output_type": "stream",
     "text": [
      "INFO:tensorflow:Loading image /home/akash/Desktop/workspace/gesture-control/dataset/CLOSED_FIST/168.jpg\n"
     ]
    },
    {
     "name": "stderr",
     "output_type": "stream",
     "text": [
      "INFO:tensorflow:Loading image /home/akash/Desktop/workspace/gesture-control/dataset/CLOSED_FIST/168.jpg\n"
     ]
    },
    {
     "name": "stdout",
     "output_type": "stream",
     "text": [
      "INFO:tensorflow:Loading image /home/akash/Desktop/workspace/gesture-control/dataset/CLOSED_FIST/967.jpg\n"
     ]
    },
    {
     "name": "stderr",
     "output_type": "stream",
     "text": [
      "INFO:tensorflow:Loading image /home/akash/Desktop/workspace/gesture-control/dataset/CLOSED_FIST/967.jpg\n"
     ]
    },
    {
     "name": "stdout",
     "output_type": "stream",
     "text": [
      "INFO:tensorflow:Loading image /home/akash/Desktop/workspace/gesture-control/dataset/none/1488.jpg\n"
     ]
    },
    {
     "name": "stderr",
     "output_type": "stream",
     "text": [
      "INFO:tensorflow:Loading image /home/akash/Desktop/workspace/gesture-control/dataset/none/1488.jpg\n"
     ]
    },
    {
     "name": "stdout",
     "output_type": "stream",
     "text": [
      "INFO:tensorflow:Loading image /home/akash/Desktop/workspace/gesture-control/dataset/THUMB_DOWN/IMG_58.jpg\n"
     ]
    },
    {
     "name": "stderr",
     "output_type": "stream",
     "text": [
      "INFO:tensorflow:Loading image /home/akash/Desktop/workspace/gesture-control/dataset/THUMB_DOWN/IMG_58.jpg\n"
     ]
    },
    {
     "name": "stdout",
     "output_type": "stream",
     "text": [
      "INFO:tensorflow:Loading image /home/akash/Desktop/workspace/gesture-control/dataset/THUMB_DOWN/IMG_51.jpg\n"
     ]
    },
    {
     "name": "stderr",
     "output_type": "stream",
     "text": [
      "INFO:tensorflow:Loading image /home/akash/Desktop/workspace/gesture-control/dataset/THUMB_DOWN/IMG_51.jpg\n"
     ]
    },
    {
     "name": "stdout",
     "output_type": "stream",
     "text": [
      "INFO:tensorflow:Loading image /home/akash/Desktop/workspace/gesture-control/dataset/OPEN_PALM/IMG_13.jpg\n"
     ]
    },
    {
     "name": "stderr",
     "output_type": "stream",
     "text": [
      "INFO:tensorflow:Loading image /home/akash/Desktop/workspace/gesture-control/dataset/OPEN_PALM/IMG_13.jpg\n"
     ]
    },
    {
     "name": "stdout",
     "output_type": "stream",
     "text": [
      "INFO:tensorflow:Loading image /home/akash/Desktop/workspace/gesture-control/dataset/THUMB_DOWN/IMG_46.jpg\n"
     ]
    },
    {
     "name": "stderr",
     "output_type": "stream",
     "text": [
      "INFO:tensorflow:Loading image /home/akash/Desktop/workspace/gesture-control/dataset/THUMB_DOWN/IMG_46.jpg\n"
     ]
    },
    {
     "name": "stdout",
     "output_type": "stream",
     "text": [
      "INFO:tensorflow:Loading image /home/akash/Desktop/workspace/gesture-control/dataset/OPEN_PALM/IMG_40.jpg\n"
     ]
    },
    {
     "name": "stderr",
     "output_type": "stream",
     "text": [
      "INFO:tensorflow:Loading image /home/akash/Desktop/workspace/gesture-control/dataset/OPEN_PALM/IMG_40.jpg\n"
     ]
    },
    {
     "name": "stdout",
     "output_type": "stream",
     "text": [
      "INFO:tensorflow:Loading image /home/akash/Desktop/workspace/gesture-control/dataset/OPEN_PALM/IMG_46.jpg\n"
     ]
    },
    {
     "name": "stderr",
     "output_type": "stream",
     "text": [
      "INFO:tensorflow:Loading image /home/akash/Desktop/workspace/gesture-control/dataset/OPEN_PALM/IMG_46.jpg\n"
     ]
    },
    {
     "name": "stdout",
     "output_type": "stream",
     "text": [
      "INFO:tensorflow:Loading image /home/akash/Desktop/workspace/gesture-control/dataset/CLOSED_FIST/IMG_1715191724.2125547.jpg\n"
     ]
    },
    {
     "name": "stderr",
     "output_type": "stream",
     "text": [
      "INFO:tensorflow:Loading image /home/akash/Desktop/workspace/gesture-control/dataset/CLOSED_FIST/IMG_1715191724.2125547.jpg\n"
     ]
    },
    {
     "name": "stdout",
     "output_type": "stream",
     "text": [
      "INFO:tensorflow:Loading image /home/akash/Desktop/workspace/gesture-control/dataset/CLOSED_FIST/854.jpg\n"
     ]
    },
    {
     "name": "stderr",
     "output_type": "stream",
     "text": [
      "INFO:tensorflow:Loading image /home/akash/Desktop/workspace/gesture-control/dataset/CLOSED_FIST/854.jpg\n"
     ]
    },
    {
     "name": "stdout",
     "output_type": "stream",
     "text": [
      "INFO:tensorflow:Loading image /home/akash/Desktop/workspace/gesture-control/dataset/CLOSED_FIST/675.jpg\n"
     ]
    },
    {
     "name": "stderr",
     "output_type": "stream",
     "text": [
      "INFO:tensorflow:Loading image /home/akash/Desktop/workspace/gesture-control/dataset/CLOSED_FIST/675.jpg\n"
     ]
    },
    {
     "name": "stdout",
     "output_type": "stream",
     "text": [
      "INFO:tensorflow:Loading image /home/akash/Desktop/workspace/gesture-control/dataset/THUMB_DOWN/IMG_38.jpg\n"
     ]
    },
    {
     "name": "stderr",
     "output_type": "stream",
     "text": [
      "INFO:tensorflow:Loading image /home/akash/Desktop/workspace/gesture-control/dataset/THUMB_DOWN/IMG_38.jpg\n"
     ]
    },
    {
     "name": "stdout",
     "output_type": "stream",
     "text": [
      "INFO:tensorflow:Loading image /home/akash/Desktop/workspace/gesture-control/dataset/THUMB_UP/IMG_69.jpg\n"
     ]
    },
    {
     "name": "stderr",
     "output_type": "stream",
     "text": [
      "INFO:tensorflow:Loading image /home/akash/Desktop/workspace/gesture-control/dataset/THUMB_UP/IMG_69.jpg\n"
     ]
    },
    {
     "name": "stdout",
     "output_type": "stream",
     "text": [
      "INFO:tensorflow:Loading image /home/akash/Desktop/workspace/gesture-control/dataset/OPEN_PALM/IMG_56.jpg\n"
     ]
    },
    {
     "name": "stderr",
     "output_type": "stream",
     "text": [
      "INFO:tensorflow:Loading image /home/akash/Desktop/workspace/gesture-control/dataset/OPEN_PALM/IMG_56.jpg\n"
     ]
    },
    {
     "name": "stdout",
     "output_type": "stream",
     "text": [
      "INFO:tensorflow:Loading image /home/akash/Desktop/workspace/gesture-control/dataset/CLOSED_FIST/133.jpg\n"
     ]
    },
    {
     "name": "stderr",
     "output_type": "stream",
     "text": [
      "INFO:tensorflow:Loading image /home/akash/Desktop/workspace/gesture-control/dataset/CLOSED_FIST/133.jpg\n"
     ]
    },
    {
     "name": "stdout",
     "output_type": "stream",
     "text": [
      "INFO:tensorflow:Loading image /home/akash/Desktop/workspace/gesture-control/dataset/THUMB_DOWN/IMG_43.jpg\n"
     ]
    },
    {
     "name": "stderr",
     "output_type": "stream",
     "text": [
      "INFO:tensorflow:Loading image /home/akash/Desktop/workspace/gesture-control/dataset/THUMB_DOWN/IMG_43.jpg\n"
     ]
    },
    {
     "name": "stdout",
     "output_type": "stream",
     "text": [
      "INFO:tensorflow:Loading image /home/akash/Desktop/workspace/gesture-control/dataset/none/334.jpg\n"
     ]
    },
    {
     "name": "stderr",
     "output_type": "stream",
     "text": [
      "INFO:tensorflow:Loading image /home/akash/Desktop/workspace/gesture-control/dataset/none/334.jpg\n"
     ]
    },
    {
     "name": "stdout",
     "output_type": "stream",
     "text": [
      "INFO:tensorflow:Loading image /home/akash/Desktop/workspace/gesture-control/dataset/none/1189.jpg\n"
     ]
    },
    {
     "name": "stderr",
     "output_type": "stream",
     "text": [
      "INFO:tensorflow:Loading image /home/akash/Desktop/workspace/gesture-control/dataset/none/1189.jpg\n"
     ]
    },
    {
     "name": "stdout",
     "output_type": "stream",
     "text": [
      "INFO:tensorflow:Loading image /home/akash/Desktop/workspace/gesture-control/dataset/CLOSED_FIST/435.jpg\n"
     ]
    },
    {
     "name": "stderr",
     "output_type": "stream",
     "text": [
      "INFO:tensorflow:Loading image /home/akash/Desktop/workspace/gesture-control/dataset/CLOSED_FIST/435.jpg\n"
     ]
    },
    {
     "name": "stdout",
     "output_type": "stream",
     "text": [
      "INFO:tensorflow:Loading image /home/akash/Desktop/workspace/gesture-control/dataset/none/IMG_1715267383.8764212.jpg\n"
     ]
    },
    {
     "name": "stderr",
     "output_type": "stream",
     "text": [
      "INFO:tensorflow:Loading image /home/akash/Desktop/workspace/gesture-control/dataset/none/IMG_1715267383.8764212.jpg\n"
     ]
    },
    {
     "name": "stdout",
     "output_type": "stream",
     "text": [
      "INFO:tensorflow:Loading image /home/akash/Desktop/workspace/gesture-control/dataset/CLOSED_FIST/507.jpg\n"
     ]
    },
    {
     "name": "stderr",
     "output_type": "stream",
     "text": [
      "INFO:tensorflow:Loading image /home/akash/Desktop/workspace/gesture-control/dataset/CLOSED_FIST/507.jpg\n"
     ]
    },
    {
     "name": "stdout",
     "output_type": "stream",
     "text": [
      "INFO:tensorflow:Loading image /home/akash/Desktop/workspace/gesture-control/dataset/OPEN_PALM/IMG_96.jpg\n"
     ]
    },
    {
     "name": "stderr",
     "output_type": "stream",
     "text": [
      "INFO:tensorflow:Loading image /home/akash/Desktop/workspace/gesture-control/dataset/OPEN_PALM/IMG_96.jpg\n"
     ]
    },
    {
     "name": "stdout",
     "output_type": "stream",
     "text": [
      "INFO:tensorflow:Loading image /home/akash/Desktop/workspace/gesture-control/dataset/CLOSED_FIST/942.jpg\n"
     ]
    },
    {
     "name": "stderr",
     "output_type": "stream",
     "text": [
      "INFO:tensorflow:Loading image /home/akash/Desktop/workspace/gesture-control/dataset/CLOSED_FIST/942.jpg\n"
     ]
    },
    {
     "name": "stdout",
     "output_type": "stream",
     "text": [
      "INFO:tensorflow:Loading image /home/akash/Desktop/workspace/gesture-control/dataset/OPEN_PALM/IMG_95.jpg\n"
     ]
    },
    {
     "name": "stderr",
     "output_type": "stream",
     "text": [
      "INFO:tensorflow:Loading image /home/akash/Desktop/workspace/gesture-control/dataset/OPEN_PALM/IMG_95.jpg\n"
     ]
    },
    {
     "name": "stdout",
     "output_type": "stream",
     "text": [
      "INFO:tensorflow:Loading image /home/akash/Desktop/workspace/gesture-control/dataset/none/704.jpg\n"
     ]
    },
    {
     "name": "stderr",
     "output_type": "stream",
     "text": [
      "INFO:tensorflow:Loading image /home/akash/Desktop/workspace/gesture-control/dataset/none/704.jpg\n"
     ]
    },
    {
     "name": "stdout",
     "output_type": "stream",
     "text": [
      "INFO:tensorflow:Loading image /home/akash/Desktop/workspace/gesture-control/dataset/THUMB_DOWN/IMG_65.jpg\n"
     ]
    },
    {
     "name": "stderr",
     "output_type": "stream",
     "text": [
      "INFO:tensorflow:Loading image /home/akash/Desktop/workspace/gesture-control/dataset/THUMB_DOWN/IMG_65.jpg\n"
     ]
    },
    {
     "name": "stdout",
     "output_type": "stream",
     "text": [
      "INFO:tensorflow:Loading image /home/akash/Desktop/workspace/gesture-control/dataset/THUMB_UP/IMG_100.jpg\n"
     ]
    },
    {
     "name": "stderr",
     "output_type": "stream",
     "text": [
      "INFO:tensorflow:Loading image /home/akash/Desktop/workspace/gesture-control/dataset/THUMB_UP/IMG_100.jpg\n"
     ]
    },
    {
     "name": "stdout",
     "output_type": "stream",
     "text": [
      "INFO:tensorflow:Loading image /home/akash/Desktop/workspace/gesture-control/dataset/OPEN_PALM/IMG_23.jpg\n"
     ]
    },
    {
     "name": "stderr",
     "output_type": "stream",
     "text": [
      "INFO:tensorflow:Loading image /home/akash/Desktop/workspace/gesture-control/dataset/OPEN_PALM/IMG_23.jpg\n"
     ]
    },
    {
     "name": "stdout",
     "output_type": "stream",
     "text": [
      "INFO:tensorflow:Loading image /home/akash/Desktop/workspace/gesture-control/dataset/none/249.jpg\n"
     ]
    },
    {
     "name": "stderr",
     "output_type": "stream",
     "text": [
      "INFO:tensorflow:Loading image /home/akash/Desktop/workspace/gesture-control/dataset/none/249.jpg\n"
     ]
    },
    {
     "name": "stdout",
     "output_type": "stream",
     "text": [
      "INFO:tensorflow:Loading image /home/akash/Desktop/workspace/gesture-control/dataset/none/IMG_1715189172.6335328.jpg\n"
     ]
    },
    {
     "name": "stderr",
     "output_type": "stream",
     "text": [
      "INFO:tensorflow:Loading image /home/akash/Desktop/workspace/gesture-control/dataset/none/IMG_1715189172.6335328.jpg\n"
     ]
    },
    {
     "name": "stdout",
     "output_type": "stream",
     "text": [
      "INFO:tensorflow:Loading image /home/akash/Desktop/workspace/gesture-control/dataset/THUMB_UP/IMG_67.jpg\n"
     ]
    },
    {
     "name": "stderr",
     "output_type": "stream",
     "text": [
      "INFO:tensorflow:Loading image /home/akash/Desktop/workspace/gesture-control/dataset/THUMB_UP/IMG_67.jpg\n"
     ]
    },
    {
     "name": "stdout",
     "output_type": "stream",
     "text": [
      "INFO:tensorflow:Loading image /home/akash/Desktop/workspace/gesture-control/dataset/CLOSED_FIST/302.jpg\n"
     ]
    },
    {
     "name": "stderr",
     "output_type": "stream",
     "text": [
      "INFO:tensorflow:Loading image /home/akash/Desktop/workspace/gesture-control/dataset/CLOSED_FIST/302.jpg\n"
     ]
    },
    {
     "name": "stdout",
     "output_type": "stream",
     "text": [
      "INFO:tensorflow:Loading image /home/akash/Desktop/workspace/gesture-control/dataset/none/193.jpg\n"
     ]
    },
    {
     "name": "stderr",
     "output_type": "stream",
     "text": [
      "INFO:tensorflow:Loading image /home/akash/Desktop/workspace/gesture-control/dataset/none/193.jpg\n"
     ]
    },
    {
     "name": "stdout",
     "output_type": "stream",
     "text": [
      "INFO:tensorflow:Loading image /home/akash/Desktop/workspace/gesture-control/dataset/THUMB_DOWN/IMG_56.jpg\n"
     ]
    },
    {
     "name": "stderr",
     "output_type": "stream",
     "text": [
      "INFO:tensorflow:Loading image /home/akash/Desktop/workspace/gesture-control/dataset/THUMB_DOWN/IMG_56.jpg\n"
     ]
    },
    {
     "name": "stdout",
     "output_type": "stream",
     "text": [
      "INFO:tensorflow:Loading image /home/akash/Desktop/workspace/gesture-control/dataset/CLOSED_FIST/56.jpg\n"
     ]
    },
    {
     "name": "stderr",
     "output_type": "stream",
     "text": [
      "INFO:tensorflow:Loading image /home/akash/Desktop/workspace/gesture-control/dataset/CLOSED_FIST/56.jpg\n"
     ]
    },
    {
     "name": "stdout",
     "output_type": "stream",
     "text": [
      "INFO:tensorflow:Loading image /home/akash/Desktop/workspace/gesture-control/dataset/OPEN_PALM/IMG_98.jpg\n"
     ]
    },
    {
     "name": "stderr",
     "output_type": "stream",
     "text": [
      "INFO:tensorflow:Loading image /home/akash/Desktop/workspace/gesture-control/dataset/OPEN_PALM/IMG_98.jpg\n"
     ]
    },
    {
     "name": "stdout",
     "output_type": "stream",
     "text": [
      "INFO:tensorflow:Loading image /home/akash/Desktop/workspace/gesture-control/dataset/CLOSED_FIST/47.jpg\n"
     ]
    },
    {
     "name": "stderr",
     "output_type": "stream",
     "text": [
      "INFO:tensorflow:Loading image /home/akash/Desktop/workspace/gesture-control/dataset/CLOSED_FIST/47.jpg\n"
     ]
    },
    {
     "name": "stdout",
     "output_type": "stream",
     "text": [
      "INFO:tensorflow:Loading image /home/akash/Desktop/workspace/gesture-control/dataset/OPEN_PALM/IMG_22.jpg\n"
     ]
    },
    {
     "name": "stderr",
     "output_type": "stream",
     "text": [
      "INFO:tensorflow:Loading image /home/akash/Desktop/workspace/gesture-control/dataset/OPEN_PALM/IMG_22.jpg\n"
     ]
    },
    {
     "name": "stdout",
     "output_type": "stream",
     "text": [
      "INFO:tensorflow:Loading image /home/akash/Desktop/workspace/gesture-control/dataset/none/IMG_1715159185.724642.jpg\n"
     ]
    },
    {
     "name": "stderr",
     "output_type": "stream",
     "text": [
      "INFO:tensorflow:Loading image /home/akash/Desktop/workspace/gesture-control/dataset/none/IMG_1715159185.724642.jpg\n"
     ]
    },
    {
     "name": "stdout",
     "output_type": "stream",
     "text": [
      "INFO:tensorflow:Loading image /home/akash/Desktop/workspace/gesture-control/dataset/CLOSED_FIST/617.jpg\n"
     ]
    },
    {
     "name": "stderr",
     "output_type": "stream",
     "text": [
      "INFO:tensorflow:Loading image /home/akash/Desktop/workspace/gesture-control/dataset/CLOSED_FIST/617.jpg\n"
     ]
    },
    {
     "name": "stdout",
     "output_type": "stream",
     "text": [
      "INFO:tensorflow:Loading image /home/akash/Desktop/workspace/gesture-control/dataset/THUMB_DOWN/IMG_17.jpg\n"
     ]
    },
    {
     "name": "stderr",
     "output_type": "stream",
     "text": [
      "INFO:tensorflow:Loading image /home/akash/Desktop/workspace/gesture-control/dataset/THUMB_DOWN/IMG_17.jpg\n"
     ]
    },
    {
     "name": "stdout",
     "output_type": "stream",
     "text": [
      "INFO:tensorflow:Loading image /home/akash/Desktop/workspace/gesture-control/dataset/THUMB_UP/IMG_35.jpg\n"
     ]
    },
    {
     "name": "stderr",
     "output_type": "stream",
     "text": [
      "INFO:tensorflow:Loading image /home/akash/Desktop/workspace/gesture-control/dataset/THUMB_UP/IMG_35.jpg\n"
     ]
    },
    {
     "name": "stdout",
     "output_type": "stream",
     "text": [
      "INFO:tensorflow:Loading image /home/akash/Desktop/workspace/gesture-control/dataset/CLOSED_FIST/709.jpg\n"
     ]
    },
    {
     "name": "stderr",
     "output_type": "stream",
     "text": [
      "INFO:tensorflow:Loading image /home/akash/Desktop/workspace/gesture-control/dataset/CLOSED_FIST/709.jpg\n"
     ]
    },
    {
     "name": "stdout",
     "output_type": "stream",
     "text": [
      "INFO:tensorflow:Loading image /home/akash/Desktop/workspace/gesture-control/dataset/OPEN_PALM/IMG_3.jpg\n"
     ]
    },
    {
     "name": "stderr",
     "output_type": "stream",
     "text": [
      "INFO:tensorflow:Loading image /home/akash/Desktop/workspace/gesture-control/dataset/OPEN_PALM/IMG_3.jpg\n"
     ]
    },
    {
     "name": "stdout",
     "output_type": "stream",
     "text": [
      "INFO:tensorflow:Loading image /home/akash/Desktop/workspace/gesture-control/dataset/THUMB_DOWN/IMG_69.jpg\n"
     ]
    },
    {
     "name": "stderr",
     "output_type": "stream",
     "text": [
      "INFO:tensorflow:Loading image /home/akash/Desktop/workspace/gesture-control/dataset/THUMB_DOWN/IMG_69.jpg\n"
     ]
    },
    {
     "name": "stdout",
     "output_type": "stream",
     "text": [
      "INFO:tensorflow:Loading image /home/akash/Desktop/workspace/gesture-control/dataset/none/1083.jpg\n"
     ]
    },
    {
     "name": "stderr",
     "output_type": "stream",
     "text": [
      "INFO:tensorflow:Loading image /home/akash/Desktop/workspace/gesture-control/dataset/none/1083.jpg\n"
     ]
    },
    {
     "name": "stdout",
     "output_type": "stream",
     "text": [
      "INFO:tensorflow:Loading image /home/akash/Desktop/workspace/gesture-control/dataset/CLOSED_FIST/363.jpg\n"
     ]
    },
    {
     "name": "stderr",
     "output_type": "stream",
     "text": [
      "INFO:tensorflow:Loading image /home/akash/Desktop/workspace/gesture-control/dataset/CLOSED_FIST/363.jpg\n"
     ]
    },
    {
     "name": "stdout",
     "output_type": "stream",
     "text": [
      "INFO:tensorflow:Loading image /home/akash/Desktop/workspace/gesture-control/dataset/none/270.jpg\n"
     ]
    },
    {
     "name": "stderr",
     "output_type": "stream",
     "text": [
      "INFO:tensorflow:Loading image /home/akash/Desktop/workspace/gesture-control/dataset/none/270.jpg\n"
     ]
    },
    {
     "name": "stdout",
     "output_type": "stream",
     "text": [
      "INFO:tensorflow:Loading image /home/akash/Desktop/workspace/gesture-control/dataset/CLOSED_FIST/IMG_1715191736.1866937.jpg\n"
     ]
    },
    {
     "name": "stderr",
     "output_type": "stream",
     "text": [
      "INFO:tensorflow:Loading image /home/akash/Desktop/workspace/gesture-control/dataset/CLOSED_FIST/IMG_1715191736.1866937.jpg\n"
     ]
    },
    {
     "name": "stdout",
     "output_type": "stream",
     "text": [
      "INFO:tensorflow:Loading image /home/akash/Desktop/workspace/gesture-control/dataset/CLOSED_FIST/152.jpg\n"
     ]
    },
    {
     "name": "stderr",
     "output_type": "stream",
     "text": [
      "INFO:tensorflow:Loading image /home/akash/Desktop/workspace/gesture-control/dataset/CLOSED_FIST/152.jpg\n"
     ]
    },
    {
     "name": "stdout",
     "output_type": "stream",
     "text": [
      "INFO:tensorflow:Loading image /home/akash/Desktop/workspace/gesture-control/dataset/THUMB_UP/IMG_58.jpg\n"
     ]
    },
    {
     "name": "stderr",
     "output_type": "stream",
     "text": [
      "INFO:tensorflow:Loading image /home/akash/Desktop/workspace/gesture-control/dataset/THUMB_UP/IMG_58.jpg\n"
     ]
    },
    {
     "name": "stdout",
     "output_type": "stream",
     "text": [
      "INFO:tensorflow:Loading image /home/akash/Desktop/workspace/gesture-control/dataset/CLOSED_FIST/32.jpg\n"
     ]
    },
    {
     "name": "stderr",
     "output_type": "stream",
     "text": [
      "INFO:tensorflow:Loading image /home/akash/Desktop/workspace/gesture-control/dataset/CLOSED_FIST/32.jpg\n"
     ]
    },
    {
     "name": "stdout",
     "output_type": "stream",
     "text": [
      "INFO:tensorflow:Loading image /home/akash/Desktop/workspace/gesture-control/dataset/CLOSED_FIST/861.jpg\n"
     ]
    },
    {
     "name": "stderr",
     "output_type": "stream",
     "text": [
      "INFO:tensorflow:Loading image /home/akash/Desktop/workspace/gesture-control/dataset/CLOSED_FIST/861.jpg\n"
     ]
    },
    {
     "name": "stdout",
     "output_type": "stream",
     "text": [
      "INFO:tensorflow:Loading image /home/akash/Desktop/workspace/gesture-control/dataset/OPEN_PALM/IMG_33.jpg\n"
     ]
    },
    {
     "name": "stderr",
     "output_type": "stream",
     "text": [
      "INFO:tensorflow:Loading image /home/akash/Desktop/workspace/gesture-control/dataset/OPEN_PALM/IMG_33.jpg\n"
     ]
    },
    {
     "name": "stdout",
     "output_type": "stream",
     "text": [
      "INFO:tensorflow:Loading image /home/akash/Desktop/workspace/gesture-control/dataset/CLOSED_FIST/896.jpg\n"
     ]
    },
    {
     "name": "stderr",
     "output_type": "stream",
     "text": [
      "INFO:tensorflow:Loading image /home/akash/Desktop/workspace/gesture-control/dataset/CLOSED_FIST/896.jpg\n"
     ]
    },
    {
     "name": "stdout",
     "output_type": "stream",
     "text": [
      "INFO:tensorflow:Loading image /home/akash/Desktop/workspace/gesture-control/dataset/none/IMG_1715268343.776807.jpg\n"
     ]
    },
    {
     "name": "stderr",
     "output_type": "stream",
     "text": [
      "INFO:tensorflow:Loading image /home/akash/Desktop/workspace/gesture-control/dataset/none/IMG_1715268343.776807.jpg\n"
     ]
    },
    {
     "name": "stdout",
     "output_type": "stream",
     "text": [
      "INFO:tensorflow:Loading image /home/akash/Desktop/workspace/gesture-control/dataset/OPEN_PALM/IMG_59.jpg\n"
     ]
    },
    {
     "name": "stderr",
     "output_type": "stream",
     "text": [
      "INFO:tensorflow:Loading image /home/akash/Desktop/workspace/gesture-control/dataset/OPEN_PALM/IMG_59.jpg\n"
     ]
    },
    {
     "name": "stdout",
     "output_type": "stream",
     "text": [
      "INFO:tensorflow:Loading image /home/akash/Desktop/workspace/gesture-control/dataset/CLOSED_FIST/300.jpg\n"
     ]
    },
    {
     "name": "stderr",
     "output_type": "stream",
     "text": [
      "INFO:tensorflow:Loading image /home/akash/Desktop/workspace/gesture-control/dataset/CLOSED_FIST/300.jpg\n"
     ]
    },
    {
     "name": "stdout",
     "output_type": "stream",
     "text": [
      "INFO:tensorflow:Loading image /home/akash/Desktop/workspace/gesture-control/dataset/CLOSED_FIST/223.jpg\n"
     ]
    },
    {
     "name": "stderr",
     "output_type": "stream",
     "text": [
      "INFO:tensorflow:Loading image /home/akash/Desktop/workspace/gesture-control/dataset/CLOSED_FIST/223.jpg\n"
     ]
    },
    {
     "name": "stdout",
     "output_type": "stream",
     "text": [
      "INFO:tensorflow:Loading image /home/akash/Desktop/workspace/gesture-control/dataset/THUMB_DOWN/IMG_23.jpg\n"
     ]
    },
    {
     "name": "stderr",
     "output_type": "stream",
     "text": [
      "INFO:tensorflow:Loading image /home/akash/Desktop/workspace/gesture-control/dataset/THUMB_DOWN/IMG_23.jpg\n"
     ]
    },
    {
     "name": "stdout",
     "output_type": "stream",
     "text": [
      "INFO:tensorflow:Loading image /home/akash/Desktop/workspace/gesture-control/dataset/none/1033.jpg\n"
     ]
    },
    {
     "name": "stderr",
     "output_type": "stream",
     "text": [
      "INFO:tensorflow:Loading image /home/akash/Desktop/workspace/gesture-control/dataset/none/1033.jpg\n"
     ]
    },
    {
     "name": "stdout",
     "output_type": "stream",
     "text": [
      "INFO:tensorflow:Loading image /home/akash/Desktop/workspace/gesture-control/dataset/OPEN_PALM/IMG_41.jpg\n"
     ]
    },
    {
     "name": "stderr",
     "output_type": "stream",
     "text": [
      "INFO:tensorflow:Loading image /home/akash/Desktop/workspace/gesture-control/dataset/OPEN_PALM/IMG_41.jpg\n"
     ]
    },
    {
     "name": "stdout",
     "output_type": "stream",
     "text": [
      "INFO:tensorflow:Loading image /home/akash/Desktop/workspace/gesture-control/dataset/none/1255.jpg\n"
     ]
    },
    {
     "name": "stderr",
     "output_type": "stream",
     "text": [
      "INFO:tensorflow:Loading image /home/akash/Desktop/workspace/gesture-control/dataset/none/1255.jpg\n"
     ]
    },
    {
     "name": "stdout",
     "output_type": "stream",
     "text": [
      "INFO:tensorflow:Loading image /home/akash/Desktop/workspace/gesture-control/dataset/CLOSED_FIST/372.jpg\n"
     ]
    },
    {
     "name": "stderr",
     "output_type": "stream",
     "text": [
      "INFO:tensorflow:Loading image /home/akash/Desktop/workspace/gesture-control/dataset/CLOSED_FIST/372.jpg\n"
     ]
    },
    {
     "name": "stdout",
     "output_type": "stream",
     "text": [
      "INFO:tensorflow:Loading image /home/akash/Desktop/workspace/gesture-control/dataset/OPEN_PALM/IMG_36.jpg\n"
     ]
    },
    {
     "name": "stderr",
     "output_type": "stream",
     "text": [
      "INFO:tensorflow:Loading image /home/akash/Desktop/workspace/gesture-control/dataset/OPEN_PALM/IMG_36.jpg\n"
     ]
    },
    {
     "name": "stdout",
     "output_type": "stream",
     "text": [
      "INFO:tensorflow:Loading image /home/akash/Desktop/workspace/gesture-control/dataset/none/IMG_1715267081.9295862.jpg\n"
     ]
    },
    {
     "name": "stderr",
     "output_type": "stream",
     "text": [
      "INFO:tensorflow:Loading image /home/akash/Desktop/workspace/gesture-control/dataset/none/IMG_1715267081.9295862.jpg\n"
     ]
    },
    {
     "name": "stdout",
     "output_type": "stream",
     "text": [
      "INFO:tensorflow:Loading image /home/akash/Desktop/workspace/gesture-control/dataset/OPEN_PALM/IMG_43.jpg\n"
     ]
    },
    {
     "name": "stderr",
     "output_type": "stream",
     "text": [
      "INFO:tensorflow:Loading image /home/akash/Desktop/workspace/gesture-control/dataset/OPEN_PALM/IMG_43.jpg\n"
     ]
    },
    {
     "name": "stdout",
     "output_type": "stream",
     "text": [
      "INFO:tensorflow:Loading image /home/akash/Desktop/workspace/gesture-control/dataset/none/IMG_1715267078.981602.jpg\n"
     ]
    },
    {
     "name": "stderr",
     "output_type": "stream",
     "text": [
      "INFO:tensorflow:Loading image /home/akash/Desktop/workspace/gesture-control/dataset/none/IMG_1715267078.981602.jpg\n"
     ]
    },
    {
     "name": "stdout",
     "output_type": "stream",
     "text": [
      "INFO:tensorflow:Loading image /home/akash/Desktop/workspace/gesture-control/dataset/OPEN_PALM/IMG_72.jpg\n"
     ]
    },
    {
     "name": "stderr",
     "output_type": "stream",
     "text": [
      "INFO:tensorflow:Loading image /home/akash/Desktop/workspace/gesture-control/dataset/OPEN_PALM/IMG_72.jpg\n"
     ]
    },
    {
     "name": "stdout",
     "output_type": "stream",
     "text": [
      "INFO:tensorflow:Loading image /home/akash/Desktop/workspace/gesture-control/dataset/none/IMG_1715268309.6743665.jpg\n"
     ]
    },
    {
     "name": "stderr",
     "output_type": "stream",
     "text": [
      "INFO:tensorflow:Loading image /home/akash/Desktop/workspace/gesture-control/dataset/none/IMG_1715268309.6743665.jpg\n"
     ]
    },
    {
     "name": "stdout",
     "output_type": "stream",
     "text": [
      "INFO:tensorflow:Loading image /home/akash/Desktop/workspace/gesture-control/dataset/OPEN_PALM/IMG_28.jpg\n"
     ]
    },
    {
     "name": "stderr",
     "output_type": "stream",
     "text": [
      "INFO:tensorflow:Loading image /home/akash/Desktop/workspace/gesture-control/dataset/OPEN_PALM/IMG_28.jpg\n"
     ]
    },
    {
     "name": "stdout",
     "output_type": "stream",
     "text": [
      "INFO:tensorflow:Loading image /home/akash/Desktop/workspace/gesture-control/dataset/none/60.jpg\n"
     ]
    },
    {
     "name": "stderr",
     "output_type": "stream",
     "text": [
      "INFO:tensorflow:Loading image /home/akash/Desktop/workspace/gesture-control/dataset/none/60.jpg\n"
     ]
    },
    {
     "name": "stdout",
     "output_type": "stream",
     "text": [
      "INFO:tensorflow:Loading image /home/akash/Desktop/workspace/gesture-control/dataset/THUMB_DOWN/IMG_99.jpg\n"
     ]
    },
    {
     "name": "stderr",
     "output_type": "stream",
     "text": [
      "INFO:tensorflow:Loading image /home/akash/Desktop/workspace/gesture-control/dataset/THUMB_DOWN/IMG_99.jpg\n"
     ]
    },
    {
     "name": "stdout",
     "output_type": "stream",
     "text": [
      "INFO:tensorflow:Loading image /home/akash/Desktop/workspace/gesture-control/dataset/THUMB_UP/IMG_71.jpg\n"
     ]
    },
    {
     "name": "stderr",
     "output_type": "stream",
     "text": [
      "INFO:tensorflow:Loading image /home/akash/Desktop/workspace/gesture-control/dataset/THUMB_UP/IMG_71.jpg\n"
     ]
    },
    {
     "name": "stdout",
     "output_type": "stream",
     "text": [
      "INFO:tensorflow:Loading image /home/akash/Desktop/workspace/gesture-control/dataset/none/424.jpg\n"
     ]
    },
    {
     "name": "stderr",
     "output_type": "stream",
     "text": [
      "INFO:tensorflow:Loading image /home/akash/Desktop/workspace/gesture-control/dataset/none/424.jpg\n"
     ]
    },
    {
     "name": "stdout",
     "output_type": "stream",
     "text": [
      "INFO:tensorflow:Loading image /home/akash/Desktop/workspace/gesture-control/dataset/OPEN_PALM/IMG_94.jpg\n"
     ]
    },
    {
     "name": "stderr",
     "output_type": "stream",
     "text": [
      "INFO:tensorflow:Loading image /home/akash/Desktop/workspace/gesture-control/dataset/OPEN_PALM/IMG_94.jpg\n"
     ]
    },
    {
     "name": "stdout",
     "output_type": "stream",
     "text": [
      "INFO:tensorflow:Loading image /home/akash/Desktop/workspace/gesture-control/dataset/THUMB_UP/IMG_20.jpg\n"
     ]
    },
    {
     "name": "stderr",
     "output_type": "stream",
     "text": [
      "INFO:tensorflow:Loading image /home/akash/Desktop/workspace/gesture-control/dataset/THUMB_UP/IMG_20.jpg\n"
     ]
    },
    {
     "name": "stdout",
     "output_type": "stream",
     "text": [
      "INFO:tensorflow:Loading image /home/akash/Desktop/workspace/gesture-control/dataset/THUMB_DOWN/IMG_91.jpg\n"
     ]
    },
    {
     "name": "stderr",
     "output_type": "stream",
     "text": [
      "INFO:tensorflow:Loading image /home/akash/Desktop/workspace/gesture-control/dataset/THUMB_DOWN/IMG_91.jpg\n"
     ]
    },
    {
     "name": "stdout",
     "output_type": "stream",
     "text": [
      "INFO:tensorflow:Loading image /home/akash/Desktop/workspace/gesture-control/dataset/CLOSED_FIST/54.jpg\n"
     ]
    },
    {
     "name": "stderr",
     "output_type": "stream",
     "text": [
      "INFO:tensorflow:Loading image /home/akash/Desktop/workspace/gesture-control/dataset/CLOSED_FIST/54.jpg\n"
     ]
    },
    {
     "name": "stdout",
     "output_type": "stream",
     "text": [
      "INFO:tensorflow:Loading image /home/akash/Desktop/workspace/gesture-control/dataset/CLOSED_FIST/931.jpg\n"
     ]
    },
    {
     "name": "stderr",
     "output_type": "stream",
     "text": [
      "INFO:tensorflow:Loading image /home/akash/Desktop/workspace/gesture-control/dataset/CLOSED_FIST/931.jpg\n"
     ]
    },
    {
     "name": "stdout",
     "output_type": "stream",
     "text": [
      "INFO:tensorflow:Loading image /home/akash/Desktop/workspace/gesture-control/dataset/THUMB_DOWN/IMG_33.jpg\n"
     ]
    },
    {
     "name": "stderr",
     "output_type": "stream",
     "text": [
      "INFO:tensorflow:Loading image /home/akash/Desktop/workspace/gesture-control/dataset/THUMB_DOWN/IMG_33.jpg\n"
     ]
    },
    {
     "name": "stdout",
     "output_type": "stream",
     "text": [
      "INFO:tensorflow:Loading image /home/akash/Desktop/workspace/gesture-control/dataset/none/IMG_1715267085.8409271.jpg\n"
     ]
    },
    {
     "name": "stderr",
     "output_type": "stream",
     "text": [
      "INFO:tensorflow:Loading image /home/akash/Desktop/workspace/gesture-control/dataset/none/IMG_1715267085.8409271.jpg\n"
     ]
    },
    {
     "name": "stdout",
     "output_type": "stream",
     "text": [
      "INFO:tensorflow:Loading image /home/akash/Desktop/workspace/gesture-control/dataset/CLOSED_FIST/441.jpg\n"
     ]
    },
    {
     "name": "stderr",
     "output_type": "stream",
     "text": [
      "INFO:tensorflow:Loading image /home/akash/Desktop/workspace/gesture-control/dataset/CLOSED_FIST/441.jpg\n"
     ]
    },
    {
     "name": "stdout",
     "output_type": "stream",
     "text": [
      "INFO:tensorflow:Loading image /home/akash/Desktop/workspace/gesture-control/dataset/none/1128.jpg\n"
     ]
    },
    {
     "name": "stderr",
     "output_type": "stream",
     "text": [
      "INFO:tensorflow:Loading image /home/akash/Desktop/workspace/gesture-control/dataset/none/1128.jpg\n"
     ]
    },
    {
     "name": "stdout",
     "output_type": "stream",
     "text": [
      "INFO:tensorflow:Loading image /home/akash/Desktop/workspace/gesture-control/dataset/CLOSED_FIST/851.jpg\n"
     ]
    },
    {
     "name": "stderr",
     "output_type": "stream",
     "text": [
      "INFO:tensorflow:Loading image /home/akash/Desktop/workspace/gesture-control/dataset/CLOSED_FIST/851.jpg\n"
     ]
    },
    {
     "name": "stdout",
     "output_type": "stream",
     "text": [
      "INFO:tensorflow:Loading image /home/akash/Desktop/workspace/gesture-control/dataset/THUMB_UP/IMG_57.jpg\n"
     ]
    },
    {
     "name": "stderr",
     "output_type": "stream",
     "text": [
      "INFO:tensorflow:Loading image /home/akash/Desktop/workspace/gesture-control/dataset/THUMB_UP/IMG_57.jpg\n"
     ]
    },
    {
     "name": "stdout",
     "output_type": "stream",
     "text": [
      "INFO:tensorflow:Loading image /home/akash/Desktop/workspace/gesture-control/dataset/CLOSED_FIST/IMG_1715191762.112364.jpg\n"
     ]
    },
    {
     "name": "stderr",
     "output_type": "stream",
     "text": [
      "INFO:tensorflow:Loading image /home/akash/Desktop/workspace/gesture-control/dataset/CLOSED_FIST/IMG_1715191762.112364.jpg\n"
     ]
    },
    {
     "name": "stdout",
     "output_type": "stream",
     "text": [
      "INFO:tensorflow:Loading image /home/akash/Desktop/workspace/gesture-control/dataset/none/IMG_1715159150.3762667.jpg\n"
     ]
    },
    {
     "name": "stderr",
     "output_type": "stream",
     "text": [
      "INFO:tensorflow:Loading image /home/akash/Desktop/workspace/gesture-control/dataset/none/IMG_1715159150.3762667.jpg\n"
     ]
    },
    {
     "name": "stdout",
     "output_type": "stream",
     "text": [
      "INFO:tensorflow:Loading image /home/akash/Desktop/workspace/gesture-control/dataset/THUMB_UP/IMG_54.jpg\n"
     ]
    },
    {
     "name": "stderr",
     "output_type": "stream",
     "text": [
      "INFO:tensorflow:Loading image /home/akash/Desktop/workspace/gesture-control/dataset/THUMB_UP/IMG_54.jpg\n"
     ]
    },
    {
     "name": "stdout",
     "output_type": "stream",
     "text": [
      "INFO:tensorflow:Loading image /home/akash/Desktop/workspace/gesture-control/dataset/OPEN_PALM/IMG_82.jpg\n"
     ]
    },
    {
     "name": "stderr",
     "output_type": "stream",
     "text": [
      "INFO:tensorflow:Loading image /home/akash/Desktop/workspace/gesture-control/dataset/OPEN_PALM/IMG_82.jpg\n"
     ]
    },
    {
     "name": "stdout",
     "output_type": "stream",
     "text": [
      "INFO:tensorflow:Loading image /home/akash/Desktop/workspace/gesture-control/dataset/THUMB_UP/IMG_8.jpg\n"
     ]
    },
    {
     "name": "stderr",
     "output_type": "stream",
     "text": [
      "INFO:tensorflow:Loading image /home/akash/Desktop/workspace/gesture-control/dataset/THUMB_UP/IMG_8.jpg\n"
     ]
    },
    {
     "name": "stdout",
     "output_type": "stream",
     "text": [
      "INFO:tensorflow:Loading image /home/akash/Desktop/workspace/gesture-control/dataset/none/613.jpg\n"
     ]
    },
    {
     "name": "stderr",
     "output_type": "stream",
     "text": [
      "INFO:tensorflow:Loading image /home/akash/Desktop/workspace/gesture-control/dataset/none/613.jpg\n"
     ]
    },
    {
     "name": "stdout",
     "output_type": "stream",
     "text": [
      "INFO:tensorflow:Loading image /home/akash/Desktop/workspace/gesture-control/dataset/CLOSED_FIST/922.jpg\n"
     ]
    },
    {
     "name": "stderr",
     "output_type": "stream",
     "text": [
      "INFO:tensorflow:Loading image /home/akash/Desktop/workspace/gesture-control/dataset/CLOSED_FIST/922.jpg\n"
     ]
    },
    {
     "name": "stdout",
     "output_type": "stream",
     "text": [
      "INFO:tensorflow:Loading image /home/akash/Desktop/workspace/gesture-control/dataset/CLOSED_FIST/771.jpg\n"
     ]
    },
    {
     "name": "stderr",
     "output_type": "stream",
     "text": [
      "INFO:tensorflow:Loading image /home/akash/Desktop/workspace/gesture-control/dataset/CLOSED_FIST/771.jpg\n"
     ]
    },
    {
     "name": "stdout",
     "output_type": "stream",
     "text": [
      "INFO:tensorflow:Loading image /home/akash/Desktop/workspace/gesture-control/dataset/none/IMG_1715158997.894152.jpg\n"
     ]
    },
    {
     "name": "stderr",
     "output_type": "stream",
     "text": [
      "INFO:tensorflow:Loading image /home/akash/Desktop/workspace/gesture-control/dataset/none/IMG_1715158997.894152.jpg\n"
     ]
    },
    {
     "name": "stdout",
     "output_type": "stream",
     "text": [
      "INFO:tensorflow:Loading image /home/akash/Desktop/workspace/gesture-control/dataset/CLOSED_FIST/929.jpg\n"
     ]
    },
    {
     "name": "stderr",
     "output_type": "stream",
     "text": [
      "INFO:tensorflow:Loading image /home/akash/Desktop/workspace/gesture-control/dataset/CLOSED_FIST/929.jpg\n"
     ]
    },
    {
     "name": "stdout",
     "output_type": "stream",
     "text": [
      "INFO:tensorflow:Loading image /home/akash/Desktop/workspace/gesture-control/dataset/none/1643.jpg\n"
     ]
    },
    {
     "name": "stderr",
     "output_type": "stream",
     "text": [
      "INFO:tensorflow:Loading image /home/akash/Desktop/workspace/gesture-control/dataset/none/1643.jpg\n"
     ]
    },
    {
     "name": "stdout",
     "output_type": "stream",
     "text": [
      "INFO:tensorflow:Loading image /home/akash/Desktop/workspace/gesture-control/dataset/CLOSED_FIST/672.jpg\n"
     ]
    },
    {
     "name": "stderr",
     "output_type": "stream",
     "text": [
      "INFO:tensorflow:Loading image /home/akash/Desktop/workspace/gesture-control/dataset/CLOSED_FIST/672.jpg\n"
     ]
    },
    {
     "name": "stdout",
     "output_type": "stream",
     "text": [
      "INFO:tensorflow:Loading image /home/akash/Desktop/workspace/gesture-control/dataset/CLOSED_FIST/945.jpg\n"
     ]
    },
    {
     "name": "stderr",
     "output_type": "stream",
     "text": [
      "INFO:tensorflow:Loading image /home/akash/Desktop/workspace/gesture-control/dataset/CLOSED_FIST/945.jpg\n"
     ]
    },
    {
     "name": "stdout",
     "output_type": "stream",
     "text": [
      "INFO:tensorflow:Loading image /home/akash/Desktop/workspace/gesture-control/dataset/none/1041.jpg\n"
     ]
    },
    {
     "name": "stderr",
     "output_type": "stream",
     "text": [
      "INFO:tensorflow:Loading image /home/akash/Desktop/workspace/gesture-control/dataset/none/1041.jpg\n"
     ]
    },
    {
     "name": "stdout",
     "output_type": "stream",
     "text": [
      "INFO:tensorflow:Loading image /home/akash/Desktop/workspace/gesture-control/dataset/OPEN_PALM/IMG_88.jpg\n"
     ]
    },
    {
     "name": "stderr",
     "output_type": "stream",
     "text": [
      "INFO:tensorflow:Loading image /home/akash/Desktop/workspace/gesture-control/dataset/OPEN_PALM/IMG_88.jpg\n"
     ]
    },
    {
     "name": "stdout",
     "output_type": "stream",
     "text": [
      "INFO:tensorflow:Loading image /home/akash/Desktop/workspace/gesture-control/dataset/none/33.jpg\n"
     ]
    },
    {
     "name": "stderr",
     "output_type": "stream",
     "text": [
      "INFO:tensorflow:Loading image /home/akash/Desktop/workspace/gesture-control/dataset/none/33.jpg\n"
     ]
    },
    {
     "name": "stdout",
     "output_type": "stream",
     "text": [
      "INFO:tensorflow:Loading image /home/akash/Desktop/workspace/gesture-control/dataset/CLOSED_FIST/320.jpg\n"
     ]
    },
    {
     "name": "stderr",
     "output_type": "stream",
     "text": [
      "INFO:tensorflow:Loading image /home/akash/Desktop/workspace/gesture-control/dataset/CLOSED_FIST/320.jpg\n"
     ]
    },
    {
     "name": "stdout",
     "output_type": "stream",
     "text": [
      "INFO:tensorflow:Loading image /home/akash/Desktop/workspace/gesture-control/dataset/none/1885.jpg\n"
     ]
    },
    {
     "name": "stderr",
     "output_type": "stream",
     "text": [
      "INFO:tensorflow:Loading image /home/akash/Desktop/workspace/gesture-control/dataset/none/1885.jpg\n"
     ]
    },
    {
     "name": "stdout",
     "output_type": "stream",
     "text": [
      "INFO:tensorflow:Loading image /home/akash/Desktop/workspace/gesture-control/dataset/THUMB_DOWN/IMG_41.jpg\n"
     ]
    },
    {
     "name": "stderr",
     "output_type": "stream",
     "text": [
      "INFO:tensorflow:Loading image /home/akash/Desktop/workspace/gesture-control/dataset/THUMB_DOWN/IMG_41.jpg\n"
     ]
    },
    {
     "name": "stdout",
     "output_type": "stream",
     "text": [
      "INFO:tensorflow:Loading image /home/akash/Desktop/workspace/gesture-control/dataset/none/IMG_1715189199.8158424.jpg\n"
     ]
    },
    {
     "name": "stderr",
     "output_type": "stream",
     "text": [
      "INFO:tensorflow:Loading image /home/akash/Desktop/workspace/gesture-control/dataset/none/IMG_1715189199.8158424.jpg\n"
     ]
    },
    {
     "name": "stdout",
     "output_type": "stream",
     "text": [
      "INFO:tensorflow:Loading image /home/akash/Desktop/workspace/gesture-control/dataset/CLOSED_FIST/872.jpg\n"
     ]
    },
    {
     "name": "stderr",
     "output_type": "stream",
     "text": [
      "INFO:tensorflow:Loading image /home/akash/Desktop/workspace/gesture-control/dataset/CLOSED_FIST/872.jpg\n"
     ]
    },
    {
     "name": "stdout",
     "output_type": "stream",
     "text": [
      "INFO:tensorflow:Loading image /home/akash/Desktop/workspace/gesture-control/dataset/THUMB_DOWN/IMG_45.jpg\n"
     ]
    },
    {
     "name": "stderr",
     "output_type": "stream",
     "text": [
      "INFO:tensorflow:Loading image /home/akash/Desktop/workspace/gesture-control/dataset/THUMB_DOWN/IMG_45.jpg\n"
     ]
    },
    {
     "name": "stdout",
     "output_type": "stream",
     "text": [
      "INFO:tensorflow:Loading image /home/akash/Desktop/workspace/gesture-control/dataset/none/1590.jpg\n"
     ]
    },
    {
     "name": "stderr",
     "output_type": "stream",
     "text": [
      "INFO:tensorflow:Loading image /home/akash/Desktop/workspace/gesture-control/dataset/none/1590.jpg\n"
     ]
    },
    {
     "name": "stdout",
     "output_type": "stream",
     "text": [
      "INFO:tensorflow:Loading image /home/akash/Desktop/workspace/gesture-control/dataset/OPEN_PALM/IMG_92.jpg\n"
     ]
    },
    {
     "name": "stderr",
     "output_type": "stream",
     "text": [
      "INFO:tensorflow:Loading image /home/akash/Desktop/workspace/gesture-control/dataset/OPEN_PALM/IMG_92.jpg\n"
     ]
    },
    {
     "name": "stdout",
     "output_type": "stream",
     "text": [
      "INFO:tensorflow:Loading image /home/akash/Desktop/workspace/gesture-control/dataset/CLOSED_FIST/254.jpg\n"
     ]
    },
    {
     "name": "stderr",
     "output_type": "stream",
     "text": [
      "INFO:tensorflow:Loading image /home/akash/Desktop/workspace/gesture-control/dataset/CLOSED_FIST/254.jpg\n"
     ]
    },
    {
     "name": "stdout",
     "output_type": "stream",
     "text": [
      "INFO:tensorflow:Loading image /home/akash/Desktop/workspace/gesture-control/dataset/THUMB_UP/IMG_17.jpg\n"
     ]
    },
    {
     "name": "stderr",
     "output_type": "stream",
     "text": [
      "INFO:tensorflow:Loading image /home/akash/Desktop/workspace/gesture-control/dataset/THUMB_UP/IMG_17.jpg\n"
     ]
    },
    {
     "name": "stdout",
     "output_type": "stream",
     "text": [
      "INFO:tensorflow:Loading image /home/akash/Desktop/workspace/gesture-control/dataset/CLOSED_FIST/30.jpg\n"
     ]
    },
    {
     "name": "stderr",
     "output_type": "stream",
     "text": [
      "INFO:tensorflow:Loading image /home/akash/Desktop/workspace/gesture-control/dataset/CLOSED_FIST/30.jpg\n"
     ]
    },
    {
     "name": "stdout",
     "output_type": "stream",
     "text": [
      "INFO:tensorflow:Loading image /home/akash/Desktop/workspace/gesture-control/dataset/CLOSED_FIST/218.jpg\n"
     ]
    },
    {
     "name": "stderr",
     "output_type": "stream",
     "text": [
      "INFO:tensorflow:Loading image /home/akash/Desktop/workspace/gesture-control/dataset/CLOSED_FIST/218.jpg\n"
     ]
    },
    {
     "name": "stdout",
     "output_type": "stream",
     "text": [
      "INFO:tensorflow:Loading image /home/akash/Desktop/workspace/gesture-control/dataset/none/IMG_1715266814.985196.jpg\n"
     ]
    },
    {
     "name": "stderr",
     "output_type": "stream",
     "text": [
      "INFO:tensorflow:Loading image /home/akash/Desktop/workspace/gesture-control/dataset/none/IMG_1715266814.985196.jpg\n"
     ]
    },
    {
     "name": "stdout",
     "output_type": "stream",
     "text": [
      "INFO:tensorflow:Loading image /home/akash/Desktop/workspace/gesture-control/dataset/OPEN_PALM/IMG_87.jpg\n"
     ]
    },
    {
     "name": "stderr",
     "output_type": "stream",
     "text": [
      "INFO:tensorflow:Loading image /home/akash/Desktop/workspace/gesture-control/dataset/OPEN_PALM/IMG_87.jpg\n"
     ]
    },
    {
     "name": "stdout",
     "output_type": "stream",
     "text": [
      "INFO:tensorflow:Loading image /home/akash/Desktop/workspace/gesture-control/dataset/CLOSED_FIST/537.jpg\n"
     ]
    },
    {
     "name": "stderr",
     "output_type": "stream",
     "text": [
      "INFO:tensorflow:Loading image /home/akash/Desktop/workspace/gesture-control/dataset/CLOSED_FIST/537.jpg\n"
     ]
    },
    {
     "name": "stdout",
     "output_type": "stream",
     "text": [
      "INFO:tensorflow:Loading image /home/akash/Desktop/workspace/gesture-control/dataset/CLOSED_FIST/286.jpg\n"
     ]
    },
    {
     "name": "stderr",
     "output_type": "stream",
     "text": [
      "INFO:tensorflow:Loading image /home/akash/Desktop/workspace/gesture-control/dataset/CLOSED_FIST/286.jpg\n"
     ]
    },
    {
     "name": "stdout",
     "output_type": "stream",
     "text": [
      "INFO:tensorflow:Loading image /home/akash/Desktop/workspace/gesture-control/dataset/OPEN_PALM/IMG_24.jpg\n"
     ]
    },
    {
     "name": "stderr",
     "output_type": "stream",
     "text": [
      "INFO:tensorflow:Loading image /home/akash/Desktop/workspace/gesture-control/dataset/OPEN_PALM/IMG_24.jpg\n"
     ]
    },
    {
     "name": "stdout",
     "output_type": "stream",
     "text": [
      "INFO:tensorflow:Loading image /home/akash/Desktop/workspace/gesture-control/dataset/THUMB_DOWN/IMG_2.jpg\n"
     ]
    },
    {
     "name": "stderr",
     "output_type": "stream",
     "text": [
      "INFO:tensorflow:Loading image /home/akash/Desktop/workspace/gesture-control/dataset/THUMB_DOWN/IMG_2.jpg\n"
     ]
    },
    {
     "name": "stdout",
     "output_type": "stream",
     "text": [
      "INFO:tensorflow:Loading image /home/akash/Desktop/workspace/gesture-control/dataset/THUMB_DOWN/IMG_48.jpg\n"
     ]
    },
    {
     "name": "stderr",
     "output_type": "stream",
     "text": [
      "INFO:tensorflow:Loading image /home/akash/Desktop/workspace/gesture-control/dataset/THUMB_DOWN/IMG_48.jpg\n"
     ]
    },
    {
     "name": "stdout",
     "output_type": "stream",
     "text": [
      "INFO:tensorflow:Loading image /home/akash/Desktop/workspace/gesture-control/dataset/THUMB_UP/IMG_31.jpg\n"
     ]
    },
    {
     "name": "stderr",
     "output_type": "stream",
     "text": [
      "INFO:tensorflow:Loading image /home/akash/Desktop/workspace/gesture-control/dataset/THUMB_UP/IMG_31.jpg\n"
     ]
    },
    {
     "name": "stdout",
     "output_type": "stream",
     "text": [
      "INFO:tensorflow:Loading image /home/akash/Desktop/workspace/gesture-control/dataset/THUMB_UP/IMG_12.jpg\n"
     ]
    },
    {
     "name": "stderr",
     "output_type": "stream",
     "text": [
      "INFO:tensorflow:Loading image /home/akash/Desktop/workspace/gesture-control/dataset/THUMB_UP/IMG_12.jpg\n"
     ]
    },
    {
     "name": "stdout",
     "output_type": "stream",
     "text": [
      "INFO:tensorflow:Loading image /home/akash/Desktop/workspace/gesture-control/dataset/THUMB_UP/IMG_7.jpg\n"
     ]
    },
    {
     "name": "stderr",
     "output_type": "stream",
     "text": [
      "INFO:tensorflow:Loading image /home/akash/Desktop/workspace/gesture-control/dataset/THUMB_UP/IMG_7.jpg\n"
     ]
    },
    {
     "name": "stdout",
     "output_type": "stream",
     "text": [
      "INFO:tensorflow:Loading image /home/akash/Desktop/workspace/gesture-control/dataset/CLOSED_FIST/416.jpg\n"
     ]
    },
    {
     "name": "stderr",
     "output_type": "stream",
     "text": [
      "INFO:tensorflow:Loading image /home/akash/Desktop/workspace/gesture-control/dataset/CLOSED_FIST/416.jpg\n"
     ]
    },
    {
     "name": "stdout",
     "output_type": "stream",
     "text": [
      "INFO:tensorflow:Loading image /home/akash/Desktop/workspace/gesture-control/dataset/THUMB_DOWN/IMG_66.jpg\n"
     ]
    },
    {
     "name": "stderr",
     "output_type": "stream",
     "text": [
      "INFO:tensorflow:Loading image /home/akash/Desktop/workspace/gesture-control/dataset/THUMB_DOWN/IMG_66.jpg\n"
     ]
    },
    {
     "name": "stdout",
     "output_type": "stream",
     "text": [
      "INFO:tensorflow:Loading image /home/akash/Desktop/workspace/gesture-control/dataset/none/779.jpg\n"
     ]
    },
    {
     "name": "stderr",
     "output_type": "stream",
     "text": [
      "INFO:tensorflow:Loading image /home/akash/Desktop/workspace/gesture-control/dataset/none/779.jpg\n"
     ]
    },
    {
     "name": "stdout",
     "output_type": "stream",
     "text": [
      "INFO:tensorflow:Loading image /home/akash/Desktop/workspace/gesture-control/dataset/THUMB_UP/IMG_9.jpg\n"
     ]
    },
    {
     "name": "stderr",
     "output_type": "stream",
     "text": [
      "INFO:tensorflow:Loading image /home/akash/Desktop/workspace/gesture-control/dataset/THUMB_UP/IMG_9.jpg\n"
     ]
    },
    {
     "name": "stdout",
     "output_type": "stream",
     "text": [
      "INFO:tensorflow:Loading image /home/akash/Desktop/workspace/gesture-control/dataset/none/57.jpg\n"
     ]
    },
    {
     "name": "stderr",
     "output_type": "stream",
     "text": [
      "INFO:tensorflow:Loading image /home/akash/Desktop/workspace/gesture-control/dataset/none/57.jpg\n"
     ]
    },
    {
     "name": "stdout",
     "output_type": "stream",
     "text": [
      "INFO:tensorflow:Loading image /home/akash/Desktop/workspace/gesture-control/dataset/THUMB_UP/IMG_85.jpg\n"
     ]
    },
    {
     "name": "stderr",
     "output_type": "stream",
     "text": [
      "INFO:tensorflow:Loading image /home/akash/Desktop/workspace/gesture-control/dataset/THUMB_UP/IMG_85.jpg\n"
     ]
    },
    {
     "name": "stdout",
     "output_type": "stream",
     "text": [
      "INFO:tensorflow:Loading image /home/akash/Desktop/workspace/gesture-control/dataset/none/IMG_1715268310.2138765.jpg\n"
     ]
    },
    {
     "name": "stderr",
     "output_type": "stream",
     "text": [
      "INFO:tensorflow:Loading image /home/akash/Desktop/workspace/gesture-control/dataset/none/IMG_1715268310.2138765.jpg\n"
     ]
    },
    {
     "name": "stdout",
     "output_type": "stream",
     "text": [
      "INFO:tensorflow:Loading image /home/akash/Desktop/workspace/gesture-control/dataset/THUMB_UP/IMG_40.jpg\n"
     ]
    },
    {
     "name": "stderr",
     "output_type": "stream",
     "text": [
      "INFO:tensorflow:Loading image /home/akash/Desktop/workspace/gesture-control/dataset/THUMB_UP/IMG_40.jpg\n"
     ]
    },
    {
     "name": "stdout",
     "output_type": "stream",
     "text": [
      "INFO:tensorflow:Loading image /home/akash/Desktop/workspace/gesture-control/dataset/THUMB_UP/IMG_22.jpg\n"
     ]
    },
    {
     "name": "stderr",
     "output_type": "stream",
     "text": [
      "INFO:tensorflow:Loading image /home/akash/Desktop/workspace/gesture-control/dataset/THUMB_UP/IMG_22.jpg\n"
     ]
    },
    {
     "name": "stdout",
     "output_type": "stream",
     "text": [
      "INFO:tensorflow:Loading image /home/akash/Desktop/workspace/gesture-control/dataset/none/898.jpg\n"
     ]
    },
    {
     "name": "stderr",
     "output_type": "stream",
     "text": [
      "INFO:tensorflow:Loading image /home/akash/Desktop/workspace/gesture-control/dataset/none/898.jpg\n"
     ]
    },
    {
     "name": "stdout",
     "output_type": "stream",
     "text": [
      "INFO:tensorflow:Loading image /home/akash/Desktop/workspace/gesture-control/dataset/none/IMG_1715266820.1013029.jpg\n"
     ]
    },
    {
     "name": "stderr",
     "output_type": "stream",
     "text": [
      "INFO:tensorflow:Loading image /home/akash/Desktop/workspace/gesture-control/dataset/none/IMG_1715266820.1013029.jpg\n"
     ]
    },
    {
     "name": "stdout",
     "output_type": "stream",
     "text": [
      "INFO:tensorflow:Loading image /home/akash/Desktop/workspace/gesture-control/dataset/none/1134.jpg\n"
     ]
    },
    {
     "name": "stderr",
     "output_type": "stream",
     "text": [
      "INFO:tensorflow:Loading image /home/akash/Desktop/workspace/gesture-control/dataset/none/1134.jpg\n"
     ]
    },
    {
     "name": "stdout",
     "output_type": "stream",
     "text": [
      "INFO:tensorflow:Loading image /home/akash/Desktop/workspace/gesture-control/dataset/none/IMG_1715189197.352035.jpg\n"
     ]
    },
    {
     "name": "stderr",
     "output_type": "stream",
     "text": [
      "INFO:tensorflow:Loading image /home/akash/Desktop/workspace/gesture-control/dataset/none/IMG_1715189197.352035.jpg\n"
     ]
    },
    {
     "name": "stdout",
     "output_type": "stream",
     "text": [
      "INFO:tensorflow:Loading image /home/akash/Desktop/workspace/gesture-control/dataset/THUMB_DOWN/IMG_92.jpg\n"
     ]
    },
    {
     "name": "stderr",
     "output_type": "stream",
     "text": [
      "INFO:tensorflow:Loading image /home/akash/Desktop/workspace/gesture-control/dataset/THUMB_DOWN/IMG_92.jpg\n"
     ]
    },
    {
     "name": "stdout",
     "output_type": "stream",
     "text": [
      "INFO:tensorflow:Loading image /home/akash/Desktop/workspace/gesture-control/dataset/none/1811.jpg\n"
     ]
    },
    {
     "name": "stderr",
     "output_type": "stream",
     "text": [
      "INFO:tensorflow:Loading image /home/akash/Desktop/workspace/gesture-control/dataset/none/1811.jpg\n"
     ]
    },
    {
     "name": "stdout",
     "output_type": "stream",
     "text": [
      "INFO:tensorflow:Loading image /home/akash/Desktop/workspace/gesture-control/dataset/THUMB_UP/IMG_73.jpg\n"
     ]
    },
    {
     "name": "stderr",
     "output_type": "stream",
     "text": [
      "INFO:tensorflow:Loading image /home/akash/Desktop/workspace/gesture-control/dataset/THUMB_UP/IMG_73.jpg\n"
     ]
    },
    {
     "name": "stdout",
     "output_type": "stream",
     "text": [
      "INFO:tensorflow:Loading image /home/akash/Desktop/workspace/gesture-control/dataset/THUMB_DOWN/IMG_96.jpg\n"
     ]
    },
    {
     "name": "stderr",
     "output_type": "stream",
     "text": [
      "INFO:tensorflow:Loading image /home/akash/Desktop/workspace/gesture-control/dataset/THUMB_DOWN/IMG_96.jpg\n"
     ]
    },
    {
     "name": "stdout",
     "output_type": "stream",
     "text": [
      "INFO:tensorflow:Loading image /home/akash/Desktop/workspace/gesture-control/dataset/OPEN_PALM/IMG_1.jpg\n"
     ]
    },
    {
     "name": "stderr",
     "output_type": "stream",
     "text": [
      "INFO:tensorflow:Loading image /home/akash/Desktop/workspace/gesture-control/dataset/OPEN_PALM/IMG_1.jpg\n"
     ]
    },
    {
     "name": "stdout",
     "output_type": "stream",
     "text": [
      "INFO:tensorflow:Loading image /home/akash/Desktop/workspace/gesture-control/dataset/none/IMG_1715268304.800703.jpg\n"
     ]
    },
    {
     "name": "stderr",
     "output_type": "stream",
     "text": [
      "INFO:tensorflow:Loading image /home/akash/Desktop/workspace/gesture-control/dataset/none/IMG_1715268304.800703.jpg\n"
     ]
    },
    {
     "name": "stdout",
     "output_type": "stream",
     "text": [
      "INFO:tensorflow:Loading image /home/akash/Desktop/workspace/gesture-control/dataset/none/1089.jpg\n"
     ]
    },
    {
     "name": "stderr",
     "output_type": "stream",
     "text": [
      "INFO:tensorflow:Loading image /home/akash/Desktop/workspace/gesture-control/dataset/none/1089.jpg\n"
     ]
    },
    {
     "name": "stdout",
     "output_type": "stream",
     "text": [
      "INFO:tensorflow:Loading image /home/akash/Desktop/workspace/gesture-control/dataset/none/IMG_1715267384.2977664.jpg\n"
     ]
    },
    {
     "name": "stderr",
     "output_type": "stream",
     "text": [
      "INFO:tensorflow:Loading image /home/akash/Desktop/workspace/gesture-control/dataset/none/IMG_1715267384.2977664.jpg\n"
     ]
    },
    {
     "name": "stdout",
     "output_type": "stream",
     "text": [
      "INFO:tensorflow:Loading image /home/akash/Desktop/workspace/gesture-control/dataset/OPEN_PALM/IMG_34.jpg\n"
     ]
    },
    {
     "name": "stderr",
     "output_type": "stream",
     "text": [
      "INFO:tensorflow:Loading image /home/akash/Desktop/workspace/gesture-control/dataset/OPEN_PALM/IMG_34.jpg\n"
     ]
    },
    {
     "name": "stdout",
     "output_type": "stream",
     "text": [
      "INFO:tensorflow:Loading image /home/akash/Desktop/workspace/gesture-control/dataset/CLOSED_FIST/891.jpg\n"
     ]
    },
    {
     "name": "stderr",
     "output_type": "stream",
     "text": [
      "INFO:tensorflow:Loading image /home/akash/Desktop/workspace/gesture-control/dataset/CLOSED_FIST/891.jpg\n"
     ]
    },
    {
     "name": "stdout",
     "output_type": "stream",
     "text": [
      "INFO:tensorflow:Loading image /home/akash/Desktop/workspace/gesture-control/dataset/none/122.jpg\n"
     ]
    },
    {
     "name": "stderr",
     "output_type": "stream",
     "text": [
      "INFO:tensorflow:Loading image /home/akash/Desktop/workspace/gesture-control/dataset/none/122.jpg\n"
     ]
    },
    {
     "name": "stdout",
     "output_type": "stream",
     "text": [
      "INFO:tensorflow:Loading image /home/akash/Desktop/workspace/gesture-control/dataset/OPEN_PALM/IMG_37.jpg\n"
     ]
    },
    {
     "name": "stderr",
     "output_type": "stream",
     "text": [
      "INFO:tensorflow:Loading image /home/akash/Desktop/workspace/gesture-control/dataset/OPEN_PALM/IMG_37.jpg\n"
     ]
    },
    {
     "name": "stdout",
     "output_type": "stream",
     "text": [
      "INFO:tensorflow:Loading image /home/akash/Desktop/workspace/gesture-control/dataset/THUMB_DOWN/IMG_37.jpg\n"
     ]
    },
    {
     "name": "stderr",
     "output_type": "stream",
     "text": [
      "INFO:tensorflow:Loading image /home/akash/Desktop/workspace/gesture-control/dataset/THUMB_DOWN/IMG_37.jpg\n"
     ]
    },
    {
     "name": "stdout",
     "output_type": "stream",
     "text": [
      "INFO:tensorflow:Loading image /home/akash/Desktop/workspace/gesture-control/dataset/none/IMG_1715159196.0361671.jpg\n"
     ]
    },
    {
     "name": "stderr",
     "output_type": "stream",
     "text": [
      "INFO:tensorflow:Loading image /home/akash/Desktop/workspace/gesture-control/dataset/none/IMG_1715159196.0361671.jpg\n"
     ]
    },
    {
     "name": "stdout",
     "output_type": "stream",
     "text": [
      "INFO:tensorflow:Loading image /home/akash/Desktop/workspace/gesture-control/dataset/OPEN_PALM/IMG_83.jpg\n"
     ]
    },
    {
     "name": "stderr",
     "output_type": "stream",
     "text": [
      "INFO:tensorflow:Loading image /home/akash/Desktop/workspace/gesture-control/dataset/OPEN_PALM/IMG_83.jpg\n"
     ]
    },
    {
     "name": "stdout",
     "output_type": "stream",
     "text": [
      "INFO:tensorflow:Loading image /home/akash/Desktop/workspace/gesture-control/dataset/THUMB_UP/IMG_13.jpg\n"
     ]
    },
    {
     "name": "stderr",
     "output_type": "stream",
     "text": [
      "INFO:tensorflow:Loading image /home/akash/Desktop/workspace/gesture-control/dataset/THUMB_UP/IMG_13.jpg\n"
     ]
    },
    {
     "name": "stdout",
     "output_type": "stream",
     "text": [
      "INFO:tensorflow:Loading image /home/akash/Desktop/workspace/gesture-control/dataset/THUMB_DOWN/IMG_31.jpg\n"
     ]
    },
    {
     "name": "stderr",
     "output_type": "stream",
     "text": [
      "INFO:tensorflow:Loading image /home/akash/Desktop/workspace/gesture-control/dataset/THUMB_DOWN/IMG_31.jpg\n"
     ]
    },
    {
     "name": "stdout",
     "output_type": "stream",
     "text": [
      "INFO:tensorflow:Loading image /home/akash/Desktop/workspace/gesture-control/dataset/THUMB_UP/IMG_87.jpg\n"
     ]
    },
    {
     "name": "stderr",
     "output_type": "stream",
     "text": [
      "INFO:tensorflow:Loading image /home/akash/Desktop/workspace/gesture-control/dataset/THUMB_UP/IMG_87.jpg\n"
     ]
    },
    {
     "name": "stdout",
     "output_type": "stream",
     "text": [
      "INFO:tensorflow:Loading image /home/akash/Desktop/workspace/gesture-control/dataset/CLOSED_FIST/524.jpg\n"
     ]
    },
    {
     "name": "stderr",
     "output_type": "stream",
     "text": [
      "INFO:tensorflow:Loading image /home/akash/Desktop/workspace/gesture-control/dataset/CLOSED_FIST/524.jpg\n"
     ]
    },
    {
     "name": "stdout",
     "output_type": "stream",
     "text": [
      "INFO:tensorflow:Loading image /home/akash/Desktop/workspace/gesture-control/dataset/OPEN_PALM/IMG_97.jpg\n"
     ]
    },
    {
     "name": "stderr",
     "output_type": "stream",
     "text": [
      "INFO:tensorflow:Loading image /home/akash/Desktop/workspace/gesture-control/dataset/OPEN_PALM/IMG_97.jpg\n"
     ]
    },
    {
     "name": "stdout",
     "output_type": "stream",
     "text": [
      "INFO:tensorflow:Loading image /home/akash/Desktop/workspace/gesture-control/dataset/none/1609.jpg\n"
     ]
    },
    {
     "name": "stderr",
     "output_type": "stream",
     "text": [
      "INFO:tensorflow:Loading image /home/akash/Desktop/workspace/gesture-control/dataset/none/1609.jpg\n"
     ]
    },
    {
     "name": "stdout",
     "output_type": "stream",
     "text": [
      "INFO:tensorflow:Loading image /home/akash/Desktop/workspace/gesture-control/dataset/CLOSED_FIST/904.jpg\n"
     ]
    },
    {
     "name": "stderr",
     "output_type": "stream",
     "text": [
      "INFO:tensorflow:Loading image /home/akash/Desktop/workspace/gesture-control/dataset/CLOSED_FIST/904.jpg\n"
     ]
    },
    {
     "name": "stdout",
     "output_type": "stream",
     "text": [
      "INFO:tensorflow:Loading image /home/akash/Desktop/workspace/gesture-control/dataset/THUMB_UP/IMG_38.jpg\n"
     ]
    },
    {
     "name": "stderr",
     "output_type": "stream",
     "text": [
      "INFO:tensorflow:Loading image /home/akash/Desktop/workspace/gesture-control/dataset/THUMB_UP/IMG_38.jpg\n"
     ]
    },
    {
     "name": "stdout",
     "output_type": "stream",
     "text": [
      "INFO:tensorflow:Loading image /home/akash/Desktop/workspace/gesture-control/dataset/OPEN_PALM/IMG_15.jpg\n"
     ]
    },
    {
     "name": "stderr",
     "output_type": "stream",
     "text": [
      "INFO:tensorflow:Loading image /home/akash/Desktop/workspace/gesture-control/dataset/OPEN_PALM/IMG_15.jpg\n"
     ]
    },
    {
     "name": "stdout",
     "output_type": "stream",
     "text": [
      "INFO:tensorflow:Loading image /home/akash/Desktop/workspace/gesture-control/dataset/CLOSED_FIST/769.jpg\n"
     ]
    },
    {
     "name": "stderr",
     "output_type": "stream",
     "text": [
      "INFO:tensorflow:Loading image /home/akash/Desktop/workspace/gesture-control/dataset/CLOSED_FIST/769.jpg\n"
     ]
    },
    {
     "name": "stdout",
     "output_type": "stream",
     "text": [
      "INFO:tensorflow:Loading image /home/akash/Desktop/workspace/gesture-control/dataset/OPEN_PALM/IMG_19.jpg\n"
     ]
    },
    {
     "name": "stderr",
     "output_type": "stream",
     "text": [
      "INFO:tensorflow:Loading image /home/akash/Desktop/workspace/gesture-control/dataset/OPEN_PALM/IMG_19.jpg\n"
     ]
    },
    {
     "name": "stdout",
     "output_type": "stream",
     "text": [
      "INFO:tensorflow:Loading image /home/akash/Desktop/workspace/gesture-control/dataset/CLOSED_FIST/548.jpg\n"
     ]
    },
    {
     "name": "stderr",
     "output_type": "stream",
     "text": [
      "INFO:tensorflow:Loading image /home/akash/Desktop/workspace/gesture-control/dataset/CLOSED_FIST/548.jpg\n"
     ]
    },
    {
     "name": "stdout",
     "output_type": "stream",
     "text": [
      "INFO:tensorflow:Loading image /home/akash/Desktop/workspace/gesture-control/dataset/OPEN_PALM/IMG_85.jpg\n"
     ]
    },
    {
     "name": "stderr",
     "output_type": "stream",
     "text": [
      "INFO:tensorflow:Loading image /home/akash/Desktop/workspace/gesture-control/dataset/OPEN_PALM/IMG_85.jpg\n"
     ]
    },
    {
     "name": "stdout",
     "output_type": "stream",
     "text": [
      "INFO:tensorflow:Loading image /home/akash/Desktop/workspace/gesture-control/dataset/THUMB_DOWN/IMG_61.jpg\n"
     ]
    },
    {
     "name": "stderr",
     "output_type": "stream",
     "text": [
      "INFO:tensorflow:Loading image /home/akash/Desktop/workspace/gesture-control/dataset/THUMB_DOWN/IMG_61.jpg\n"
     ]
    },
    {
     "name": "stdout",
     "output_type": "stream",
     "text": [
      "INFO:tensorflow:Loading image /home/akash/Desktop/workspace/gesture-control/dataset/OPEN_PALM/IMG_18.jpg\n"
     ]
    },
    {
     "name": "stderr",
     "output_type": "stream",
     "text": [
      "INFO:tensorflow:Loading image /home/akash/Desktop/workspace/gesture-control/dataset/OPEN_PALM/IMG_18.jpg\n"
     ]
    },
    {
     "name": "stdout",
     "output_type": "stream",
     "text": [
      "INFO:tensorflow:Loading image /home/akash/Desktop/workspace/gesture-control/dataset/CLOSED_FIST/351.jpg\n"
     ]
    },
    {
     "name": "stderr",
     "output_type": "stream",
     "text": [
      "INFO:tensorflow:Loading image /home/akash/Desktop/workspace/gesture-control/dataset/CLOSED_FIST/351.jpg\n"
     ]
    },
    {
     "name": "stdout",
     "output_type": "stream",
     "text": [
      "INFO:tensorflow:Loading image /home/akash/Desktop/workspace/gesture-control/dataset/THUMB_UP/IMG_16.jpg\n"
     ]
    },
    {
     "name": "stderr",
     "output_type": "stream",
     "text": [
      "INFO:tensorflow:Loading image /home/akash/Desktop/workspace/gesture-control/dataset/THUMB_UP/IMG_16.jpg\n"
     ]
    },
    {
     "name": "stdout",
     "output_type": "stream",
     "text": [
      "INFO:tensorflow:Loading image /home/akash/Desktop/workspace/gesture-control/dataset/OPEN_PALM/IMG_29.jpg\n"
     ]
    },
    {
     "name": "stderr",
     "output_type": "stream",
     "text": [
      "INFO:tensorflow:Loading image /home/akash/Desktop/workspace/gesture-control/dataset/OPEN_PALM/IMG_29.jpg\n"
     ]
    },
    {
     "name": "stdout",
     "output_type": "stream",
     "text": [
      "INFO:tensorflow:Loading image /home/akash/Desktop/workspace/gesture-control/dataset/CLOSED_FIST/318.jpg\n"
     ]
    },
    {
     "name": "stderr",
     "output_type": "stream",
     "text": [
      "INFO:tensorflow:Loading image /home/akash/Desktop/workspace/gesture-control/dataset/CLOSED_FIST/318.jpg\n"
     ]
    },
    {
     "name": "stdout",
     "output_type": "stream",
     "text": [
      "INFO:tensorflow:Loading image /home/akash/Desktop/workspace/gesture-control/dataset/OPEN_PALM/IMG_67.jpg\n"
     ]
    },
    {
     "name": "stderr",
     "output_type": "stream",
     "text": [
      "INFO:tensorflow:Loading image /home/akash/Desktop/workspace/gesture-control/dataset/OPEN_PALM/IMG_67.jpg\n"
     ]
    },
    {
     "name": "stdout",
     "output_type": "stream",
     "text": [
      "INFO:tensorflow:Loading image /home/akash/Desktop/workspace/gesture-control/dataset/THUMB_DOWN/IMG_10.jpg\n"
     ]
    },
    {
     "name": "stderr",
     "output_type": "stream",
     "text": [
      "INFO:tensorflow:Loading image /home/akash/Desktop/workspace/gesture-control/dataset/THUMB_DOWN/IMG_10.jpg\n"
     ]
    },
    {
     "name": "stdout",
     "output_type": "stream",
     "text": [
      "INFO:tensorflow:Loading image /home/akash/Desktop/workspace/gesture-control/dataset/CLOSED_FIST/193.jpg\n"
     ]
    },
    {
     "name": "stderr",
     "output_type": "stream",
     "text": [
      "INFO:tensorflow:Loading image /home/akash/Desktop/workspace/gesture-control/dataset/CLOSED_FIST/193.jpg\n"
     ]
    },
    {
     "name": "stdout",
     "output_type": "stream",
     "text": [
      "INFO:tensorflow:Loading image /home/akash/Desktop/workspace/gesture-control/dataset/THUMB_UP/IMG_11.jpg\n"
     ]
    },
    {
     "name": "stderr",
     "output_type": "stream",
     "text": [
      "INFO:tensorflow:Loading image /home/akash/Desktop/workspace/gesture-control/dataset/THUMB_UP/IMG_11.jpg\n"
     ]
    },
    {
     "name": "stdout",
     "output_type": "stream",
     "text": [
      "INFO:tensorflow:Loading image /home/akash/Desktop/workspace/gesture-control/dataset/none/1814.jpg\n"
     ]
    },
    {
     "name": "stderr",
     "output_type": "stream",
     "text": [
      "INFO:tensorflow:Loading image /home/akash/Desktop/workspace/gesture-control/dataset/none/1814.jpg\n"
     ]
    },
    {
     "name": "stdout",
     "output_type": "stream",
     "text": [
      "INFO:tensorflow:Loading image /home/akash/Desktop/workspace/gesture-control/dataset/none/1729.jpg\n"
     ]
    },
    {
     "name": "stderr",
     "output_type": "stream",
     "text": [
      "INFO:tensorflow:Loading image /home/akash/Desktop/workspace/gesture-control/dataset/none/1729.jpg\n"
     ]
    },
    {
     "name": "stdout",
     "output_type": "stream",
     "text": [
      "INFO:tensorflow:Loading image /home/akash/Desktop/workspace/gesture-control/dataset/CLOSED_FIST/45.jpg\n"
     ]
    },
    {
     "name": "stderr",
     "output_type": "stream",
     "text": [
      "INFO:tensorflow:Loading image /home/akash/Desktop/workspace/gesture-control/dataset/CLOSED_FIST/45.jpg\n"
     ]
    },
    {
     "name": "stdout",
     "output_type": "stream",
     "text": [
      "INFO:tensorflow:Loading image /home/akash/Desktop/workspace/gesture-control/dataset/OPEN_PALM/IMG_2.jpg\n"
     ]
    },
    {
     "name": "stderr",
     "output_type": "stream",
     "text": [
      "INFO:tensorflow:Loading image /home/akash/Desktop/workspace/gesture-control/dataset/OPEN_PALM/IMG_2.jpg\n"
     ]
    },
    {
     "name": "stdout",
     "output_type": "stream",
     "text": [
      "INFO:tensorflow:Loading image /home/akash/Desktop/workspace/gesture-control/dataset/CLOSED_FIST/760.jpg\n"
     ]
    },
    {
     "name": "stderr",
     "output_type": "stream",
     "text": [
      "INFO:tensorflow:Loading image /home/akash/Desktop/workspace/gesture-control/dataset/CLOSED_FIST/760.jpg\n"
     ]
    },
    {
     "name": "stdout",
     "output_type": "stream",
     "text": [
      "INFO:tensorflow:Loading image /home/akash/Desktop/workspace/gesture-control/dataset/THUMB_UP/IMG_55.jpg\n"
     ]
    },
    {
     "name": "stderr",
     "output_type": "stream",
     "text": [
      "INFO:tensorflow:Loading image /home/akash/Desktop/workspace/gesture-control/dataset/THUMB_UP/IMG_55.jpg\n"
     ]
    },
    {
     "name": "stdout",
     "output_type": "stream",
     "text": [
      "INFO:tensorflow:Loading image /home/akash/Desktop/workspace/gesture-control/dataset/THUMB_DOWN/IMG_11.jpg\n"
     ]
    },
    {
     "name": "stderr",
     "output_type": "stream",
     "text": [
      "INFO:tensorflow:Loading image /home/akash/Desktop/workspace/gesture-control/dataset/THUMB_DOWN/IMG_11.jpg\n"
     ]
    },
    {
     "name": "stdout",
     "output_type": "stream",
     "text": [
      "INFO:tensorflow:Loading image /home/akash/Desktop/workspace/gesture-control/dataset/OPEN_PALM/IMG_8.jpg\n"
     ]
    },
    {
     "name": "stderr",
     "output_type": "stream",
     "text": [
      "INFO:tensorflow:Loading image /home/akash/Desktop/workspace/gesture-control/dataset/OPEN_PALM/IMG_8.jpg\n"
     ]
    },
    {
     "name": "stdout",
     "output_type": "stream",
     "text": [
      "INFO:tensorflow:Loading image /home/akash/Desktop/workspace/gesture-control/dataset/THUMB_DOWN/IMG_79.jpg\n"
     ]
    },
    {
     "name": "stderr",
     "output_type": "stream",
     "text": [
      "INFO:tensorflow:Loading image /home/akash/Desktop/workspace/gesture-control/dataset/THUMB_DOWN/IMG_79.jpg\n"
     ]
    },
    {
     "name": "stdout",
     "output_type": "stream",
     "text": [
      "INFO:tensorflow:Loading image /home/akash/Desktop/workspace/gesture-control/dataset/none/1224.jpg\n"
     ]
    },
    {
     "name": "stderr",
     "output_type": "stream",
     "text": [
      "INFO:tensorflow:Loading image /home/akash/Desktop/workspace/gesture-control/dataset/none/1224.jpg\n"
     ]
    },
    {
     "name": "stdout",
     "output_type": "stream",
     "text": [
      "INFO:tensorflow:Loading image /home/akash/Desktop/workspace/gesture-control/dataset/THUMB_DOWN/IMG_54.jpg\n"
     ]
    },
    {
     "name": "stderr",
     "output_type": "stream",
     "text": [
      "INFO:tensorflow:Loading image /home/akash/Desktop/workspace/gesture-control/dataset/THUMB_DOWN/IMG_54.jpg\n"
     ]
    },
    {
     "name": "stdout",
     "output_type": "stream",
     "text": [
      "INFO:tensorflow:Loading image /home/akash/Desktop/workspace/gesture-control/dataset/CLOSED_FIST/818.jpg\n"
     ]
    },
    {
     "name": "stderr",
     "output_type": "stream",
     "text": [
      "INFO:tensorflow:Loading image /home/akash/Desktop/workspace/gesture-control/dataset/CLOSED_FIST/818.jpg\n"
     ]
    },
    {
     "name": "stdout",
     "output_type": "stream",
     "text": [
      "INFO:tensorflow:Loading image /home/akash/Desktop/workspace/gesture-control/dataset/THUMB_UP/IMG_30.jpg\n"
     ]
    },
    {
     "name": "stderr",
     "output_type": "stream",
     "text": [
      "INFO:tensorflow:Loading image /home/akash/Desktop/workspace/gesture-control/dataset/THUMB_UP/IMG_30.jpg\n"
     ]
    },
    {
     "name": "stdout",
     "output_type": "stream",
     "text": [
      "INFO:tensorflow:Loading image /home/akash/Desktop/workspace/gesture-control/dataset/OPEN_PALM/IMG_52.jpg\n"
     ]
    },
    {
     "name": "stderr",
     "output_type": "stream",
     "text": [
      "INFO:tensorflow:Loading image /home/akash/Desktop/workspace/gesture-control/dataset/OPEN_PALM/IMG_52.jpg\n"
     ]
    },
    {
     "name": "stdout",
     "output_type": "stream",
     "text": [
      "INFO:tensorflow:Loading image /home/akash/Desktop/workspace/gesture-control/dataset/none/IMG_1715267666.532892.jpg\n"
     ]
    },
    {
     "name": "stderr",
     "output_type": "stream",
     "text": [
      "INFO:tensorflow:Loading image /home/akash/Desktop/workspace/gesture-control/dataset/none/IMG_1715267666.532892.jpg\n"
     ]
    },
    {
     "name": "stdout",
     "output_type": "stream",
     "text": [
      "INFO:tensorflow:Loading image /home/akash/Desktop/workspace/gesture-control/dataset/none/349.jpg\n"
     ]
    },
    {
     "name": "stderr",
     "output_type": "stream",
     "text": [
      "INFO:tensorflow:Loading image /home/akash/Desktop/workspace/gesture-control/dataset/none/349.jpg\n"
     ]
    },
    {
     "name": "stdout",
     "output_type": "stream",
     "text": [
      "INFO:tensorflow:Loading image /home/akash/Desktop/workspace/gesture-control/dataset/OPEN_PALM/IMG_30.jpg\n"
     ]
    },
    {
     "name": "stderr",
     "output_type": "stream",
     "text": [
      "INFO:tensorflow:Loading image /home/akash/Desktop/workspace/gesture-control/dataset/OPEN_PALM/IMG_30.jpg\n"
     ]
    },
    {
     "name": "stdout",
     "output_type": "stream",
     "text": [
      "INFO:tensorflow:Loading image /home/akash/Desktop/workspace/gesture-control/dataset/THUMB_UP/IMG_72.jpg\n"
     ]
    },
    {
     "name": "stderr",
     "output_type": "stream",
     "text": [
      "INFO:tensorflow:Loading image /home/akash/Desktop/workspace/gesture-control/dataset/THUMB_UP/IMG_72.jpg\n"
     ]
    },
    {
     "name": "stdout",
     "output_type": "stream",
     "text": [
      "INFO:tensorflow:Loading image /home/akash/Desktop/workspace/gesture-control/dataset/THUMB_DOWN/IMG_12.jpg\n"
     ]
    },
    {
     "name": "stderr",
     "output_type": "stream",
     "text": [
      "INFO:tensorflow:Loading image /home/akash/Desktop/workspace/gesture-control/dataset/THUMB_DOWN/IMG_12.jpg\n"
     ]
    },
    {
     "name": "stdout",
     "output_type": "stream",
     "text": [
      "INFO:tensorflow:Loading image /home/akash/Desktop/workspace/gesture-control/dataset/none/IMG_1715268304.44089.jpg\n"
     ]
    },
    {
     "name": "stderr",
     "output_type": "stream",
     "text": [
      "INFO:tensorflow:Loading image /home/akash/Desktop/workspace/gesture-control/dataset/none/IMG_1715268304.44089.jpg\n"
     ]
    },
    {
     "name": "stdout",
     "output_type": "stream",
     "text": [
      "INFO:tensorflow:Loading image /home/akash/Desktop/workspace/gesture-control/dataset/THUMB_DOWN/IMG_81.jpg\n"
     ]
    },
    {
     "name": "stderr",
     "output_type": "stream",
     "text": [
      "INFO:tensorflow:Loading image /home/akash/Desktop/workspace/gesture-control/dataset/THUMB_DOWN/IMG_81.jpg\n"
     ]
    },
    {
     "name": "stdout",
     "output_type": "stream",
     "text": [
      "INFO:tensorflow:Loading image /home/akash/Desktop/workspace/gesture-control/dataset/OPEN_PALM/IMG_35.jpg\n"
     ]
    },
    {
     "name": "stderr",
     "output_type": "stream",
     "text": [
      "INFO:tensorflow:Loading image /home/akash/Desktop/workspace/gesture-control/dataset/OPEN_PALM/IMG_35.jpg\n"
     ]
    },
    {
     "name": "stdout",
     "output_type": "stream",
     "text": [
      "INFO:tensorflow:Loading image /home/akash/Desktop/workspace/gesture-control/dataset/none/IMG_1715267639.6489046.jpg\n"
     ]
    },
    {
     "name": "stderr",
     "output_type": "stream",
     "text": [
      "INFO:tensorflow:Loading image /home/akash/Desktop/workspace/gesture-control/dataset/none/IMG_1715267639.6489046.jpg\n"
     ]
    },
    {
     "name": "stdout",
     "output_type": "stream",
     "text": [
      "INFO:tensorflow:Loading image /home/akash/Desktop/workspace/gesture-control/dataset/CLOSED_FIST/285.jpg\n"
     ]
    },
    {
     "name": "stderr",
     "output_type": "stream",
     "text": [
      "INFO:tensorflow:Loading image /home/akash/Desktop/workspace/gesture-control/dataset/CLOSED_FIST/285.jpg\n"
     ]
    },
    {
     "name": "stdout",
     "output_type": "stream",
     "text": [
      "INFO:tensorflow:Loading image /home/akash/Desktop/workspace/gesture-control/dataset/none/327.jpg\n"
     ]
    },
    {
     "name": "stderr",
     "output_type": "stream",
     "text": [
      "INFO:tensorflow:Loading image /home/akash/Desktop/workspace/gesture-control/dataset/none/327.jpg\n"
     ]
    },
    {
     "name": "stdout",
     "output_type": "stream",
     "text": [
      "INFO:tensorflow:Loading image /home/akash/Desktop/workspace/gesture-control/dataset/CLOSED_FIST/565.jpg\n"
     ]
    },
    {
     "name": "stderr",
     "output_type": "stream",
     "text": [
      "INFO:tensorflow:Loading image /home/akash/Desktop/workspace/gesture-control/dataset/CLOSED_FIST/565.jpg\n"
     ]
    },
    {
     "name": "stdout",
     "output_type": "stream",
     "text": [
      "INFO:tensorflow:Loading image /home/akash/Desktop/workspace/gesture-control/dataset/THUMB_DOWN/IMG_16.jpg\n"
     ]
    },
    {
     "name": "stderr",
     "output_type": "stream",
     "text": [
      "INFO:tensorflow:Loading image /home/akash/Desktop/workspace/gesture-control/dataset/THUMB_DOWN/IMG_16.jpg\n"
     ]
    },
    {
     "name": "stdout",
     "output_type": "stream",
     "text": [
      "INFO:tensorflow:Loading image /home/akash/Desktop/workspace/gesture-control/dataset/none/65.jpg\n"
     ]
    },
    {
     "name": "stderr",
     "output_type": "stream",
     "text": [
      "INFO:tensorflow:Loading image /home/akash/Desktop/workspace/gesture-control/dataset/none/65.jpg\n"
     ]
    },
    {
     "name": "stdout",
     "output_type": "stream",
     "text": [
      "INFO:tensorflow:Loading image /home/akash/Desktop/workspace/gesture-control/dataset/none/IMG_1715267099.552381.jpg\n"
     ]
    },
    {
     "name": "stderr",
     "output_type": "stream",
     "text": [
      "INFO:tensorflow:Loading image /home/akash/Desktop/workspace/gesture-control/dataset/none/IMG_1715267099.552381.jpg\n"
     ]
    },
    {
     "name": "stdout",
     "output_type": "stream",
     "text": [
      "INFO:tensorflow:Loading image /home/akash/Desktop/workspace/gesture-control/dataset/CLOSED_FIST/328.jpg\n"
     ]
    },
    {
     "name": "stderr",
     "output_type": "stream",
     "text": [
      "INFO:tensorflow:Loading image /home/akash/Desktop/workspace/gesture-control/dataset/CLOSED_FIST/328.jpg\n"
     ]
    },
    {
     "name": "stdout",
     "output_type": "stream",
     "text": [
      "INFO:tensorflow:Loading image /home/akash/Desktop/workspace/gesture-control/dataset/none/598.jpg\n"
     ]
    },
    {
     "name": "stderr",
     "output_type": "stream",
     "text": [
      "INFO:tensorflow:Loading image /home/akash/Desktop/workspace/gesture-control/dataset/none/598.jpg\n"
     ]
    },
    {
     "name": "stdout",
     "output_type": "stream",
     "text": [
      "INFO:tensorflow:Loading image /home/akash/Desktop/workspace/gesture-control/dataset/THUMB_UP/IMG_21.jpg\n"
     ]
    },
    {
     "name": "stderr",
     "output_type": "stream",
     "text": [
      "INFO:tensorflow:Loading image /home/akash/Desktop/workspace/gesture-control/dataset/THUMB_UP/IMG_21.jpg\n"
     ]
    },
    {
     "name": "stdout",
     "output_type": "stream",
     "text": [
      "INFO:tensorflow:Loading image /home/akash/Desktop/workspace/gesture-control/dataset/OPEN_PALM/IMG_38.jpg\n"
     ]
    },
    {
     "name": "stderr",
     "output_type": "stream",
     "text": [
      "INFO:tensorflow:Loading image /home/akash/Desktop/workspace/gesture-control/dataset/OPEN_PALM/IMG_38.jpg\n"
     ]
    },
    {
     "name": "stdout",
     "output_type": "stream",
     "text": [
      "INFO:tensorflow:Loading image /home/akash/Desktop/workspace/gesture-control/dataset/THUMB_UP/IMG_51.jpg\n"
     ]
    },
    {
     "name": "stderr",
     "output_type": "stream",
     "text": [
      "INFO:tensorflow:Loading image /home/akash/Desktop/workspace/gesture-control/dataset/THUMB_UP/IMG_51.jpg\n"
     ]
    },
    {
     "name": "stdout",
     "output_type": "stream",
     "text": [
      "INFO:tensorflow:Loading image /home/akash/Desktop/workspace/gesture-control/dataset/OPEN_PALM/IMG_80.jpg\n"
     ]
    },
    {
     "name": "stderr",
     "output_type": "stream",
     "text": [
      "INFO:tensorflow:Loading image /home/akash/Desktop/workspace/gesture-control/dataset/OPEN_PALM/IMG_80.jpg\n"
     ]
    },
    {
     "name": "stdout",
     "output_type": "stream",
     "text": [
      "INFO:tensorflow:Loading image /home/akash/Desktop/workspace/gesture-control/dataset/CLOSED_FIST/329.jpg\n"
     ]
    },
    {
     "name": "stderr",
     "output_type": "stream",
     "text": [
      "INFO:tensorflow:Loading image /home/akash/Desktop/workspace/gesture-control/dataset/CLOSED_FIST/329.jpg\n"
     ]
    },
    {
     "name": "stdout",
     "output_type": "stream",
     "text": [
      "INFO:tensorflow:Loading image /home/akash/Desktop/workspace/gesture-control/dataset/none/IMG_1715267382.553536.jpg\n"
     ]
    },
    {
     "name": "stderr",
     "output_type": "stream",
     "text": [
      "INFO:tensorflow:Loading image /home/akash/Desktop/workspace/gesture-control/dataset/none/IMG_1715267382.553536.jpg\n"
     ]
    },
    {
     "name": "stdout",
     "output_type": "stream",
     "text": [
      "INFO:tensorflow:Loading image /home/akash/Desktop/workspace/gesture-control/dataset/THUMB_DOWN/IMG_1.jpg\n"
     ]
    },
    {
     "name": "stderr",
     "output_type": "stream",
     "text": [
      "INFO:tensorflow:Loading image /home/akash/Desktop/workspace/gesture-control/dataset/THUMB_DOWN/IMG_1.jpg\n"
     ]
    },
    {
     "name": "stdout",
     "output_type": "stream",
     "text": [
      "INFO:tensorflow:Loading image /home/akash/Desktop/workspace/gesture-control/dataset/none/IMG_1715267640.6096153.jpg\n"
     ]
    },
    {
     "name": "stderr",
     "output_type": "stream",
     "text": [
      "INFO:tensorflow:Loading image /home/akash/Desktop/workspace/gesture-control/dataset/none/IMG_1715267640.6096153.jpg\n"
     ]
    },
    {
     "name": "stdout",
     "output_type": "stream",
     "text": [
      "INFO:tensorflow:Loading image /home/akash/Desktop/workspace/gesture-control/dataset/OPEN_PALM/IMG_57.jpg\n"
     ]
    },
    {
     "name": "stderr",
     "output_type": "stream",
     "text": [
      "INFO:tensorflow:Loading image /home/akash/Desktop/workspace/gesture-control/dataset/OPEN_PALM/IMG_57.jpg\n"
     ]
    },
    {
     "name": "stdout",
     "output_type": "stream",
     "text": [
      "INFO:tensorflow:Loading image /home/akash/Desktop/workspace/gesture-control/dataset/none/1878.jpg\n"
     ]
    },
    {
     "name": "stderr",
     "output_type": "stream",
     "text": [
      "INFO:tensorflow:Loading image /home/akash/Desktop/workspace/gesture-control/dataset/none/1878.jpg\n"
     ]
    },
    {
     "name": "stdout",
     "output_type": "stream",
     "text": [
      "INFO:tensorflow:Loading image /home/akash/Desktop/workspace/gesture-control/dataset/THUMB_DOWN/IMG_83.jpg\n"
     ]
    },
    {
     "name": "stderr",
     "output_type": "stream",
     "text": [
      "INFO:tensorflow:Loading image /home/akash/Desktop/workspace/gesture-control/dataset/THUMB_DOWN/IMG_83.jpg\n"
     ]
    },
    {
     "name": "stdout",
     "output_type": "stream",
     "text": [
      "INFO:tensorflow:Loading image /home/akash/Desktop/workspace/gesture-control/dataset/THUMB_UP/IMG_53.jpg\n"
     ]
    },
    {
     "name": "stderr",
     "output_type": "stream",
     "text": [
      "INFO:tensorflow:Loading image /home/akash/Desktop/workspace/gesture-control/dataset/THUMB_UP/IMG_53.jpg\n"
     ]
    },
    {
     "name": "stdout",
     "output_type": "stream",
     "text": [
      "INFO:tensorflow:Loading image /home/akash/Desktop/workspace/gesture-control/dataset/THUMB_DOWN/IMG_98.jpg\n"
     ]
    },
    {
     "name": "stderr",
     "output_type": "stream",
     "text": [
      "INFO:tensorflow:Loading image /home/akash/Desktop/workspace/gesture-control/dataset/THUMB_DOWN/IMG_98.jpg\n"
     ]
    },
    {
     "name": "stdout",
     "output_type": "stream",
     "text": [
      "INFO:tensorflow:Loading image /home/akash/Desktop/workspace/gesture-control/dataset/THUMB_UP/IMG_19.jpg\n"
     ]
    },
    {
     "name": "stderr",
     "output_type": "stream",
     "text": [
      "INFO:tensorflow:Loading image /home/akash/Desktop/workspace/gesture-control/dataset/THUMB_UP/IMG_19.jpg\n"
     ]
    },
    {
     "name": "stdout",
     "output_type": "stream",
     "text": [
      "INFO:tensorflow:Loading image /home/akash/Desktop/workspace/gesture-control/dataset/OPEN_PALM/IMG_45.jpg\n"
     ]
    },
    {
     "name": "stderr",
     "output_type": "stream",
     "text": [
      "INFO:tensorflow:Loading image /home/akash/Desktop/workspace/gesture-control/dataset/OPEN_PALM/IMG_45.jpg\n"
     ]
    },
    {
     "name": "stdout",
     "output_type": "stream",
     "text": [
      "INFO:tensorflow:Loading image /home/akash/Desktop/workspace/gesture-control/dataset/THUMB_DOWN/IMG_32.jpg\n"
     ]
    },
    {
     "name": "stderr",
     "output_type": "stream",
     "text": [
      "INFO:tensorflow:Loading image /home/akash/Desktop/workspace/gesture-control/dataset/THUMB_DOWN/IMG_32.jpg\n"
     ]
    },
    {
     "name": "stdout",
     "output_type": "stream",
     "text": [
      "INFO:tensorflow:Loading image /home/akash/Desktop/workspace/gesture-control/dataset/THUMB_DOWN/IMG_6.jpg\n"
     ]
    },
    {
     "name": "stderr",
     "output_type": "stream",
     "text": [
      "INFO:tensorflow:Loading image /home/akash/Desktop/workspace/gesture-control/dataset/THUMB_DOWN/IMG_6.jpg\n"
     ]
    },
    {
     "name": "stdout",
     "output_type": "stream",
     "text": [
      "INFO:tensorflow:Loading image /home/akash/Desktop/workspace/gesture-control/dataset/CLOSED_FIST/1.jpg\n"
     ]
    },
    {
     "name": "stderr",
     "output_type": "stream",
     "text": [
      "INFO:tensorflow:Loading image /home/akash/Desktop/workspace/gesture-control/dataset/CLOSED_FIST/1.jpg\n"
     ]
    },
    {
     "name": "stdout",
     "output_type": "stream",
     "text": [
      "INFO:tensorflow:Loading image /home/akash/Desktop/workspace/gesture-control/dataset/CLOSED_FIST/567.jpg\n"
     ]
    },
    {
     "name": "stderr",
     "output_type": "stream",
     "text": [
      "INFO:tensorflow:Loading image /home/akash/Desktop/workspace/gesture-control/dataset/CLOSED_FIST/567.jpg\n"
     ]
    },
    {
     "name": "stdout",
     "output_type": "stream",
     "text": [
      "INFO:tensorflow:Loading image /home/akash/Desktop/workspace/gesture-control/dataset/CLOSED_FIST/216.jpg\n"
     ]
    },
    {
     "name": "stderr",
     "output_type": "stream",
     "text": [
      "INFO:tensorflow:Loading image /home/akash/Desktop/workspace/gesture-control/dataset/CLOSED_FIST/216.jpg\n"
     ]
    },
    {
     "name": "stdout",
     "output_type": "stream",
     "text": [
      "INFO:tensorflow:Loading image /home/akash/Desktop/workspace/gesture-control/dataset/CLOSED_FIST/309.jpg\n"
     ]
    },
    {
     "name": "stderr",
     "output_type": "stream",
     "text": [
      "INFO:tensorflow:Loading image /home/akash/Desktop/workspace/gesture-control/dataset/CLOSED_FIST/309.jpg\n"
     ]
    },
    {
     "name": "stdout",
     "output_type": "stream",
     "text": [
      "INFO:tensorflow:Loading image /home/akash/Desktop/workspace/gesture-control/dataset/none/1381.jpg\n"
     ]
    },
    {
     "name": "stderr",
     "output_type": "stream",
     "text": [
      "INFO:tensorflow:Loading image /home/akash/Desktop/workspace/gesture-control/dataset/none/1381.jpg\n"
     ]
    },
    {
     "name": "stdout",
     "output_type": "stream",
     "text": [
      "INFO:tensorflow:Loading image /home/akash/Desktop/workspace/gesture-control/dataset/CLOSED_FIST/549.jpg\n"
     ]
    },
    {
     "name": "stderr",
     "output_type": "stream",
     "text": [
      "INFO:tensorflow:Loading image /home/akash/Desktop/workspace/gesture-control/dataset/CLOSED_FIST/549.jpg\n"
     ]
    },
    {
     "name": "stdout",
     "output_type": "stream",
     "text": [
      "INFO:tensorflow:Loading image /home/akash/Desktop/workspace/gesture-control/dataset/OPEN_PALM/IMG_55.jpg\n"
     ]
    },
    {
     "name": "stderr",
     "output_type": "stream",
     "text": [
      "INFO:tensorflow:Loading image /home/akash/Desktop/workspace/gesture-control/dataset/OPEN_PALM/IMG_55.jpg\n"
     ]
    },
    {
     "name": "stdout",
     "output_type": "stream",
     "text": [
      "INFO:tensorflow:Loading image /home/akash/Desktop/workspace/gesture-control/dataset/none/IMG_1715267384.7216232.jpg\n"
     ]
    },
    {
     "name": "stderr",
     "output_type": "stream",
     "text": [
      "INFO:tensorflow:Loading image /home/akash/Desktop/workspace/gesture-control/dataset/none/IMG_1715267384.7216232.jpg\n"
     ]
    },
    {
     "name": "stdout",
     "output_type": "stream",
     "text": [
      "INFO:tensorflow:Loading image /home/akash/Desktop/workspace/gesture-control/dataset/THUMB_DOWN/IMG_8.jpg\n"
     ]
    },
    {
     "name": "stderr",
     "output_type": "stream",
     "text": [
      "INFO:tensorflow:Loading image /home/akash/Desktop/workspace/gesture-control/dataset/THUMB_DOWN/IMG_8.jpg\n"
     ]
    },
    {
     "name": "stdout",
     "output_type": "stream",
     "text": [
      "INFO:tensorflow:Loading image /home/akash/Desktop/workspace/gesture-control/dataset/none/1501.jpg\n"
     ]
    },
    {
     "name": "stderr",
     "output_type": "stream",
     "text": [
      "INFO:tensorflow:Loading image /home/akash/Desktop/workspace/gesture-control/dataset/none/1501.jpg\n"
     ]
    },
    {
     "name": "stdout",
     "output_type": "stream",
     "text": [
      "INFO:tensorflow:Loading image /home/akash/Desktop/workspace/gesture-control/dataset/none/213.jpg\n"
     ]
    },
    {
     "name": "stderr",
     "output_type": "stream",
     "text": [
      "INFO:tensorflow:Loading image /home/akash/Desktop/workspace/gesture-control/dataset/none/213.jpg\n"
     ]
    },
    {
     "name": "stdout",
     "output_type": "stream",
     "text": [
      "INFO:tensorflow:Loading image /home/akash/Desktop/workspace/gesture-control/dataset/CLOSED_FIST/778.jpg\n"
     ]
    },
    {
     "name": "stderr",
     "output_type": "stream",
     "text": [
      "INFO:tensorflow:Loading image /home/akash/Desktop/workspace/gesture-control/dataset/CLOSED_FIST/778.jpg\n"
     ]
    },
    {
     "name": "stdout",
     "output_type": "stream",
     "text": [
      "INFO:tensorflow:Loading image /home/akash/Desktop/workspace/gesture-control/dataset/THUMB_DOWN/IMG_3.jpg\n"
     ]
    },
    {
     "name": "stderr",
     "output_type": "stream",
     "text": [
      "INFO:tensorflow:Loading image /home/akash/Desktop/workspace/gesture-control/dataset/THUMB_DOWN/IMG_3.jpg\n"
     ]
    },
    {
     "name": "stdout",
     "output_type": "stream",
     "text": [
      "INFO:tensorflow:Loading image /home/akash/Desktop/workspace/gesture-control/dataset/CLOSED_FIST/850.jpg\n"
     ]
    },
    {
     "name": "stderr",
     "output_type": "stream",
     "text": [
      "INFO:tensorflow:Loading image /home/akash/Desktop/workspace/gesture-control/dataset/CLOSED_FIST/850.jpg\n"
     ]
    },
    {
     "name": "stdout",
     "output_type": "stream",
     "text": [
      "INFO:tensorflow:Loading image /home/akash/Desktop/workspace/gesture-control/dataset/THUMB_DOWN/IMG_57.jpg\n"
     ]
    },
    {
     "name": "stderr",
     "output_type": "stream",
     "text": [
      "INFO:tensorflow:Loading image /home/akash/Desktop/workspace/gesture-control/dataset/THUMB_DOWN/IMG_57.jpg\n"
     ]
    },
    {
     "name": "stdout",
     "output_type": "stream",
     "text": [
      "INFO:tensorflow:Loading image /home/akash/Desktop/workspace/gesture-control/dataset/none/744.jpg\n"
     ]
    },
    {
     "name": "stderr",
     "output_type": "stream",
     "text": [
      "INFO:tensorflow:Loading image /home/akash/Desktop/workspace/gesture-control/dataset/none/744.jpg\n"
     ]
    },
    {
     "name": "stdout",
     "output_type": "stream",
     "text": [
      "INFO:tensorflow:Loading image /home/akash/Desktop/workspace/gesture-control/dataset/CLOSED_FIST/868.jpg\n"
     ]
    },
    {
     "name": "stderr",
     "output_type": "stream",
     "text": [
      "INFO:tensorflow:Loading image /home/akash/Desktop/workspace/gesture-control/dataset/CLOSED_FIST/868.jpg\n"
     ]
    },
    {
     "name": "stdout",
     "output_type": "stream",
     "text": [
      "INFO:tensorflow:Loading image /home/akash/Desktop/workspace/gesture-control/dataset/THUMB_UP/IMG_41.jpg\n"
     ]
    },
    {
     "name": "stderr",
     "output_type": "stream",
     "text": [
      "INFO:tensorflow:Loading image /home/akash/Desktop/workspace/gesture-control/dataset/THUMB_UP/IMG_41.jpg\n"
     ]
    },
    {
     "name": "stdout",
     "output_type": "stream",
     "text": [
      "INFO:tensorflow:Loading image /home/akash/Desktop/workspace/gesture-control/dataset/THUMB_UP/IMG_95.jpg\n"
     ]
    },
    {
     "name": "stderr",
     "output_type": "stream",
     "text": [
      "INFO:tensorflow:Loading image /home/akash/Desktop/workspace/gesture-control/dataset/THUMB_UP/IMG_95.jpg\n"
     ]
    },
    {
     "name": "stdout",
     "output_type": "stream",
     "text": [
      "INFO:tensorflow:Loading image /home/akash/Desktop/workspace/gesture-control/dataset/THUMB_DOWN/IMG_4.jpg\n"
     ]
    },
    {
     "name": "stderr",
     "output_type": "stream",
     "text": [
      "INFO:tensorflow:Loading image /home/akash/Desktop/workspace/gesture-control/dataset/THUMB_DOWN/IMG_4.jpg\n"
     ]
    },
    {
     "name": "stdout",
     "output_type": "stream",
     "text": [
      "INFO:tensorflow:Loading image /home/akash/Desktop/workspace/gesture-control/dataset/THUMB_DOWN/IMG_67.jpg\n"
     ]
    },
    {
     "name": "stderr",
     "output_type": "stream",
     "text": [
      "INFO:tensorflow:Loading image /home/akash/Desktop/workspace/gesture-control/dataset/THUMB_DOWN/IMG_67.jpg\n"
     ]
    },
    {
     "name": "stdout",
     "output_type": "stream",
     "text": [
      "INFO:tensorflow:Loading image /home/akash/Desktop/workspace/gesture-control/dataset/THUMB_DOWN/IMG_34.jpg\n"
     ]
    },
    {
     "name": "stderr",
     "output_type": "stream",
     "text": [
      "INFO:tensorflow:Loading image /home/akash/Desktop/workspace/gesture-control/dataset/THUMB_DOWN/IMG_34.jpg\n"
     ]
    },
    {
     "name": "stdout",
     "output_type": "stream",
     "text": [
      "INFO:tensorflow:Loading image /home/akash/Desktop/workspace/gesture-control/dataset/THUMB_DOWN/IMG_97.jpg\n"
     ]
    },
    {
     "name": "stderr",
     "output_type": "stream",
     "text": [
      "INFO:tensorflow:Loading image /home/akash/Desktop/workspace/gesture-control/dataset/THUMB_DOWN/IMG_97.jpg\n"
     ]
    },
    {
     "name": "stdout",
     "output_type": "stream",
     "text": [
      "INFO:tensorflow:Loading image /home/akash/Desktop/workspace/gesture-control/dataset/CLOSED_FIST/409.jpg\n"
     ]
    },
    {
     "name": "stderr",
     "output_type": "stream",
     "text": [
      "INFO:tensorflow:Loading image /home/akash/Desktop/workspace/gesture-control/dataset/CLOSED_FIST/409.jpg\n"
     ]
    },
    {
     "name": "stdout",
     "output_type": "stream",
     "text": [
      "INFO:tensorflow:Loading image /home/akash/Desktop/workspace/gesture-control/dataset/none/IMG_1715268305.0406861.jpg\n"
     ]
    },
    {
     "name": "stderr",
     "output_type": "stream",
     "text": [
      "INFO:tensorflow:Loading image /home/akash/Desktop/workspace/gesture-control/dataset/none/IMG_1715268305.0406861.jpg\n"
     ]
    },
    {
     "name": "stdout",
     "output_type": "stream",
     "text": [
      "INFO:tensorflow:Loading image /home/akash/Desktop/workspace/gesture-control/dataset/OPEN_PALM/IMG_21.jpg\n"
     ]
    },
    {
     "name": "stderr",
     "output_type": "stream",
     "text": [
      "INFO:tensorflow:Loading image /home/akash/Desktop/workspace/gesture-control/dataset/OPEN_PALM/IMG_21.jpg\n"
     ]
    },
    {
     "name": "stdout",
     "output_type": "stream",
     "text": [
      "INFO:tensorflow:Loading image /home/akash/Desktop/workspace/gesture-control/dataset/none/1663.jpg\n"
     ]
    },
    {
     "name": "stderr",
     "output_type": "stream",
     "text": [
      "INFO:tensorflow:Loading image /home/akash/Desktop/workspace/gesture-control/dataset/none/1663.jpg\n"
     ]
    },
    {
     "name": "stdout",
     "output_type": "stream",
     "text": [
      "INFO:tensorflow:Loading image /home/akash/Desktop/workspace/gesture-control/dataset/OPEN_PALM/IMG_84.jpg\n"
     ]
    },
    {
     "name": "stderr",
     "output_type": "stream",
     "text": [
      "INFO:tensorflow:Loading image /home/akash/Desktop/workspace/gesture-control/dataset/OPEN_PALM/IMG_84.jpg\n"
     ]
    },
    {
     "name": "stdout",
     "output_type": "stream",
     "text": [
      "INFO:tensorflow:Loading image /home/akash/Desktop/workspace/gesture-control/dataset/THUMB_UP/IMG_81.jpg\n"
     ]
    },
    {
     "name": "stderr",
     "output_type": "stream",
     "text": [
      "INFO:tensorflow:Loading image /home/akash/Desktop/workspace/gesture-control/dataset/THUMB_UP/IMG_81.jpg\n"
     ]
    },
    {
     "name": "stdout",
     "output_type": "stream",
     "text": [
      "INFO:tensorflow:Loading image /home/akash/Desktop/workspace/gesture-control/dataset/none/756.jpg\n"
     ]
    },
    {
     "name": "stderr",
     "output_type": "stream",
     "text": [
      "INFO:tensorflow:Loading image /home/akash/Desktop/workspace/gesture-control/dataset/none/756.jpg\n"
     ]
    },
    {
     "name": "stdout",
     "output_type": "stream",
     "text": [
      "INFO:tensorflow:Loading image /home/akash/Desktop/workspace/gesture-control/dataset/none/1650.jpg\n"
     ]
    },
    {
     "name": "stderr",
     "output_type": "stream",
     "text": [
      "INFO:tensorflow:Loading image /home/akash/Desktop/workspace/gesture-control/dataset/none/1650.jpg\n"
     ]
    },
    {
     "name": "stdout",
     "output_type": "stream",
     "text": [
      "INFO:tensorflow:Loading image /home/akash/Desktop/workspace/gesture-control/dataset/none/1362.jpg\n"
     ]
    },
    {
     "name": "stderr",
     "output_type": "stream",
     "text": [
      "INFO:tensorflow:Loading image /home/akash/Desktop/workspace/gesture-control/dataset/none/1362.jpg\n"
     ]
    },
    {
     "name": "stdout",
     "output_type": "stream",
     "text": [
      "INFO:tensorflow:Loading image /home/akash/Desktop/workspace/gesture-control/dataset/none/275.jpg\n"
     ]
    },
    {
     "name": "stderr",
     "output_type": "stream",
     "text": [
      "INFO:tensorflow:Loading image /home/akash/Desktop/workspace/gesture-control/dataset/none/275.jpg\n"
     ]
    },
    {
     "name": "stdout",
     "output_type": "stream",
     "text": [
      "INFO:tensorflow:Loading image /home/akash/Desktop/workspace/gesture-control/dataset/THUMB_DOWN/IMG_80.jpg\n"
     ]
    },
    {
     "name": "stderr",
     "output_type": "stream",
     "text": [
      "INFO:tensorflow:Loading image /home/akash/Desktop/workspace/gesture-control/dataset/THUMB_DOWN/IMG_80.jpg\n"
     ]
    },
    {
     "name": "stdout",
     "output_type": "stream",
     "text": [
      "INFO:tensorflow:Loading image /home/akash/Desktop/workspace/gesture-control/dataset/THUMB_DOWN/IMG_94.jpg\n"
     ]
    },
    {
     "name": "stderr",
     "output_type": "stream",
     "text": [
      "INFO:tensorflow:Loading image /home/akash/Desktop/workspace/gesture-control/dataset/THUMB_DOWN/IMG_94.jpg\n"
     ]
    },
    {
     "name": "stdout",
     "output_type": "stream",
     "text": [
      "INFO:tensorflow:Loading image /home/akash/Desktop/workspace/gesture-control/dataset/CLOSED_FIST/733.jpg\n"
     ]
    },
    {
     "name": "stderr",
     "output_type": "stream",
     "text": [
      "INFO:tensorflow:Loading image /home/akash/Desktop/workspace/gesture-control/dataset/CLOSED_FIST/733.jpg\n"
     ]
    },
    {
     "name": "stdout",
     "output_type": "stream",
     "text": [
      "INFO:tensorflow:Loading image /home/akash/Desktop/workspace/gesture-control/dataset/none/800.jpg\n"
     ]
    },
    {
     "name": "stderr",
     "output_type": "stream",
     "text": [
      "INFO:tensorflow:Loading image /home/akash/Desktop/workspace/gesture-control/dataset/none/800.jpg\n"
     ]
    },
    {
     "name": "stdout",
     "output_type": "stream",
     "text": [
      "INFO:tensorflow:Loading image /home/akash/Desktop/workspace/gesture-control/dataset/THUMB_DOWN/IMG_19.jpg\n"
     ]
    },
    {
     "name": "stderr",
     "output_type": "stream",
     "text": [
      "INFO:tensorflow:Loading image /home/akash/Desktop/workspace/gesture-control/dataset/THUMB_DOWN/IMG_19.jpg\n"
     ]
    },
    {
     "name": "stdout",
     "output_type": "stream",
     "text": [
      "INFO:tensorflow:Loading image /home/akash/Desktop/workspace/gesture-control/dataset/none/791.jpg\n"
     ]
    },
    {
     "name": "stderr",
     "output_type": "stream",
     "text": [
      "INFO:tensorflow:Loading image /home/akash/Desktop/workspace/gesture-control/dataset/none/791.jpg\n"
     ]
    },
    {
     "name": "stdout",
     "output_type": "stream",
     "text": [
      "INFO:tensorflow:Loading image /home/akash/Desktop/workspace/gesture-control/dataset/THUMB_UP/IMG_52.jpg\n"
     ]
    },
    {
     "name": "stderr",
     "output_type": "stream",
     "text": [
      "INFO:tensorflow:Loading image /home/akash/Desktop/workspace/gesture-control/dataset/THUMB_UP/IMG_52.jpg\n"
     ]
    },
    {
     "name": "stdout",
     "output_type": "stream",
     "text": [
      "INFO:tensorflow:Loading image /home/akash/Desktop/workspace/gesture-control/dataset/THUMB_UP/IMG_29.jpg\n"
     ]
    },
    {
     "name": "stderr",
     "output_type": "stream",
     "text": [
      "INFO:tensorflow:Loading image /home/akash/Desktop/workspace/gesture-control/dataset/THUMB_UP/IMG_29.jpg\n"
     ]
    },
    {
     "name": "stdout",
     "output_type": "stream",
     "text": [
      "INFO:tensorflow:Loading image /home/akash/Desktop/workspace/gesture-control/dataset/OPEN_PALM/IMG_78.jpg\n"
     ]
    },
    {
     "name": "stderr",
     "output_type": "stream",
     "text": [
      "INFO:tensorflow:Loading image /home/akash/Desktop/workspace/gesture-control/dataset/OPEN_PALM/IMG_78.jpg\n"
     ]
    },
    {
     "name": "stdout",
     "output_type": "stream",
     "text": [
      "INFO:tensorflow:Loading image /home/akash/Desktop/workspace/gesture-control/dataset/CLOSED_FIST/956.jpg\n"
     ]
    },
    {
     "name": "stderr",
     "output_type": "stream",
     "text": [
      "INFO:tensorflow:Loading image /home/akash/Desktop/workspace/gesture-control/dataset/CLOSED_FIST/956.jpg\n"
     ]
    },
    {
     "name": "stdout",
     "output_type": "stream",
     "text": [
      "INFO:tensorflow:Loading image /home/akash/Desktop/workspace/gesture-control/dataset/OPEN_PALM/IMG_86.jpg\n"
     ]
    },
    {
     "name": "stderr",
     "output_type": "stream",
     "text": [
      "INFO:tensorflow:Loading image /home/akash/Desktop/workspace/gesture-control/dataset/OPEN_PALM/IMG_86.jpg\n"
     ]
    },
    {
     "name": "stdout",
     "output_type": "stream",
     "text": [
      "INFO:tensorflow:Loading image /home/akash/Desktop/workspace/gesture-control/dataset/CLOSED_FIST/238.jpg\n"
     ]
    },
    {
     "name": "stderr",
     "output_type": "stream",
     "text": [
      "INFO:tensorflow:Loading image /home/akash/Desktop/workspace/gesture-control/dataset/CLOSED_FIST/238.jpg\n"
     ]
    },
    {
     "name": "stdout",
     "output_type": "stream",
     "text": [
      "INFO:tensorflow:Loading image /home/akash/Desktop/workspace/gesture-control/dataset/THUMB_UP/IMG_43.jpg\n"
     ]
    },
    {
     "name": "stderr",
     "output_type": "stream",
     "text": [
      "INFO:tensorflow:Loading image /home/akash/Desktop/workspace/gesture-control/dataset/THUMB_UP/IMG_43.jpg\n"
     ]
    },
    {
     "name": "stdout",
     "output_type": "stream",
     "text": [
      "INFO:tensorflow:Loading image /home/akash/Desktop/workspace/gesture-control/dataset/CLOSED_FIST/648.jpg\n"
     ]
    },
    {
     "name": "stderr",
     "output_type": "stream",
     "text": [
      "INFO:tensorflow:Loading image /home/akash/Desktop/workspace/gesture-control/dataset/CLOSED_FIST/648.jpg\n"
     ]
    },
    {
     "name": "stdout",
     "output_type": "stream",
     "text": [
      "INFO:tensorflow:Loading image /home/akash/Desktop/workspace/gesture-control/dataset/none/142.jpg\n"
     ]
    },
    {
     "name": "stderr",
     "output_type": "stream",
     "text": [
      "INFO:tensorflow:Loading image /home/akash/Desktop/workspace/gesture-control/dataset/none/142.jpg\n"
     ]
    },
    {
     "name": "stdout",
     "output_type": "stream",
     "text": [
      "INFO:tensorflow:Loading image /home/akash/Desktop/workspace/gesture-control/dataset/THUMB_DOWN/IMG_77.jpg\n"
     ]
    },
    {
     "name": "stderr",
     "output_type": "stream",
     "text": [
      "INFO:tensorflow:Loading image /home/akash/Desktop/workspace/gesture-control/dataset/THUMB_DOWN/IMG_77.jpg\n"
     ]
    },
    {
     "name": "stdout",
     "output_type": "stream",
     "text": [
      "INFO:tensorflow:Loading image /home/akash/Desktop/workspace/gesture-control/dataset/OPEN_PALM/IMG_17.jpg\n"
     ]
    },
    {
     "name": "stderr",
     "output_type": "stream",
     "text": [
      "INFO:tensorflow:Loading image /home/akash/Desktop/workspace/gesture-control/dataset/OPEN_PALM/IMG_17.jpg\n"
     ]
    },
    {
     "name": "stdout",
     "output_type": "stream",
     "text": [
      "INFO:tensorflow:Loading image /home/akash/Desktop/workspace/gesture-control/dataset/CLOSED_FIST/536.jpg\n"
     ]
    },
    {
     "name": "stderr",
     "output_type": "stream",
     "text": [
      "INFO:tensorflow:Loading image /home/akash/Desktop/workspace/gesture-control/dataset/CLOSED_FIST/536.jpg\n"
     ]
    },
    {
     "name": "stdout",
     "output_type": "stream",
     "text": [
      "INFO:tensorflow:Loading image /home/akash/Desktop/workspace/gesture-control/dataset/THUMB_DOWN/IMG_15.jpg\n"
     ]
    },
    {
     "name": "stderr",
     "output_type": "stream",
     "text": [
      "INFO:tensorflow:Loading image /home/akash/Desktop/workspace/gesture-control/dataset/THUMB_DOWN/IMG_15.jpg\n"
     ]
    },
    {
     "name": "stdout",
     "output_type": "stream",
     "text": [
      "INFO:tensorflow:Loading image /home/akash/Desktop/workspace/gesture-control/dataset/THUMB_DOWN/IMG_36.jpg\n"
     ]
    },
    {
     "name": "stderr",
     "output_type": "stream",
     "text": [
      "INFO:tensorflow:Loading image /home/akash/Desktop/workspace/gesture-control/dataset/THUMB_DOWN/IMG_36.jpg\n"
     ]
    },
    {
     "name": "stdout",
     "output_type": "stream",
     "text": [
      "INFO:tensorflow:Loading image /home/akash/Desktop/workspace/gesture-control/dataset/OPEN_PALM/IMG_32.jpg\n"
     ]
    },
    {
     "name": "stderr",
     "output_type": "stream",
     "text": [
      "INFO:tensorflow:Loading image /home/akash/Desktop/workspace/gesture-control/dataset/OPEN_PALM/IMG_32.jpg\n"
     ]
    },
    {
     "name": "stdout",
     "output_type": "stream",
     "text": [
      "INFO:tensorflow:Loading image /home/akash/Desktop/workspace/gesture-control/dataset/none/203.jpg\n"
     ]
    },
    {
     "name": "stderr",
     "output_type": "stream",
     "text": [
      "INFO:tensorflow:Loading image /home/akash/Desktop/workspace/gesture-control/dataset/none/203.jpg\n"
     ]
    },
    {
     "name": "stdout",
     "output_type": "stream",
     "text": [
      "INFO:tensorflow:Loading image /home/akash/Desktop/workspace/gesture-control/dataset/THUMB_UP/IMG_82.jpg\n"
     ]
    },
    {
     "name": "stderr",
     "output_type": "stream",
     "text": [
      "INFO:tensorflow:Loading image /home/akash/Desktop/workspace/gesture-control/dataset/THUMB_UP/IMG_82.jpg\n"
     ]
    },
    {
     "name": "stdout",
     "output_type": "stream",
     "text": [
      "INFO:tensorflow:Loading image /home/akash/Desktop/workspace/gesture-control/dataset/none/165.jpg\n"
     ]
    },
    {
     "name": "stderr",
     "output_type": "stream",
     "text": [
      "INFO:tensorflow:Loading image /home/akash/Desktop/workspace/gesture-control/dataset/none/165.jpg\n"
     ]
    },
    {
     "name": "stdout",
     "output_type": "stream",
     "text": [
      "INFO:tensorflow:Loading image /home/akash/Desktop/workspace/gesture-control/dataset/CLOSED_FIST/82.jpg\n"
     ]
    },
    {
     "name": "stderr",
     "output_type": "stream",
     "text": [
      "INFO:tensorflow:Loading image /home/akash/Desktop/workspace/gesture-control/dataset/CLOSED_FIST/82.jpg\n"
     ]
    },
    {
     "name": "stdout",
     "output_type": "stream",
     "text": [
      "INFO:tensorflow:Loading image /home/akash/Desktop/workspace/gesture-control/dataset/THUMB_UP/IMG_14.jpg\n"
     ]
    },
    {
     "name": "stderr",
     "output_type": "stream",
     "text": [
      "INFO:tensorflow:Loading image /home/akash/Desktop/workspace/gesture-control/dataset/THUMB_UP/IMG_14.jpg\n"
     ]
    },
    {
     "name": "stdout",
     "output_type": "stream",
     "text": [
      "INFO:tensorflow:Loading image /home/akash/Desktop/workspace/gesture-control/dataset/THUMB_DOWN/IMG_35.jpg\n"
     ]
    },
    {
     "name": "stderr",
     "output_type": "stream",
     "text": [
      "INFO:tensorflow:Loading image /home/akash/Desktop/workspace/gesture-control/dataset/THUMB_DOWN/IMG_35.jpg\n"
     ]
    },
    {
     "name": "stdout",
     "output_type": "stream",
     "text": [
      "INFO:tensorflow:Loading image /home/akash/Desktop/workspace/gesture-control/dataset/none/1890.jpg\n"
     ]
    },
    {
     "name": "stderr",
     "output_type": "stream",
     "text": [
      "INFO:tensorflow:Loading image /home/akash/Desktop/workspace/gesture-control/dataset/none/1890.jpg\n"
     ]
    },
    {
     "name": "stdout",
     "output_type": "stream",
     "text": [
      "INFO:tensorflow:Loading image /home/akash/Desktop/workspace/gesture-control/dataset/CLOSED_FIST/186.jpg\n"
     ]
    },
    {
     "name": "stderr",
     "output_type": "stream",
     "text": [
      "INFO:tensorflow:Loading image /home/akash/Desktop/workspace/gesture-control/dataset/CLOSED_FIST/186.jpg\n"
     ]
    },
    {
     "name": "stdout",
     "output_type": "stream",
     "text": [
      "INFO:tensorflow:Loading image /home/akash/Desktop/workspace/gesture-control/dataset/THUMB_UP/IMG_70.jpg\n"
     ]
    },
    {
     "name": "stderr",
     "output_type": "stream",
     "text": [
      "INFO:tensorflow:Loading image /home/akash/Desktop/workspace/gesture-control/dataset/THUMB_UP/IMG_70.jpg\n"
     ]
    },
    {
     "name": "stdout",
     "output_type": "stream",
     "text": [
      "INFO:tensorflow:Loading image /home/akash/Desktop/workspace/gesture-control/dataset/OPEN_PALM/IMG_76.jpg\n"
     ]
    },
    {
     "name": "stderr",
     "output_type": "stream",
     "text": [
      "INFO:tensorflow:Loading image /home/akash/Desktop/workspace/gesture-control/dataset/OPEN_PALM/IMG_76.jpg\n"
     ]
    },
    {
     "name": "stdout",
     "output_type": "stream",
     "text": [
      "INFO:tensorflow:Loading image /home/akash/Desktop/workspace/gesture-control/dataset/THUMB_DOWN/IMG_85.jpg\n"
     ]
    },
    {
     "name": "stderr",
     "output_type": "stream",
     "text": [
      "INFO:tensorflow:Loading image /home/akash/Desktop/workspace/gesture-control/dataset/THUMB_DOWN/IMG_85.jpg\n"
     ]
    },
    {
     "name": "stdout",
     "output_type": "stream",
     "text": [
      "INFO:tensorflow:Loading image /home/akash/Desktop/workspace/gesture-control/dataset/OPEN_PALM/IMG_74.jpg\n"
     ]
    },
    {
     "name": "stderr",
     "output_type": "stream",
     "text": [
      "INFO:tensorflow:Loading image /home/akash/Desktop/workspace/gesture-control/dataset/OPEN_PALM/IMG_74.jpg\n"
     ]
    },
    {
     "name": "stdout",
     "output_type": "stream",
     "text": [
      "INFO:tensorflow:Loading image /home/akash/Desktop/workspace/gesture-control/dataset/THUMB_UP/IMG_75.jpg\n"
     ]
    },
    {
     "name": "stderr",
     "output_type": "stream",
     "text": [
      "INFO:tensorflow:Loading image /home/akash/Desktop/workspace/gesture-control/dataset/THUMB_UP/IMG_75.jpg\n"
     ]
    },
    {
     "name": "stdout",
     "output_type": "stream",
     "text": [
      "INFO:tensorflow:Loading image /home/akash/Desktop/workspace/gesture-control/dataset/THUMB_UP/IMG_47.jpg\n"
     ]
    },
    {
     "name": "stderr",
     "output_type": "stream",
     "text": [
      "INFO:tensorflow:Loading image /home/akash/Desktop/workspace/gesture-control/dataset/THUMB_UP/IMG_47.jpg\n"
     ]
    },
    {
     "name": "stdout",
     "output_type": "stream",
     "text": [
      "INFO:tensorflow:Loading image /home/akash/Desktop/workspace/gesture-control/dataset/none/136.jpg\n"
     ]
    },
    {
     "name": "stderr",
     "output_type": "stream",
     "text": [
      "INFO:tensorflow:Loading image /home/akash/Desktop/workspace/gesture-control/dataset/none/136.jpg\n"
     ]
    },
    {
     "name": "stdout",
     "output_type": "stream",
     "text": [
      "INFO:tensorflow:Loading image /home/akash/Desktop/workspace/gesture-control/dataset/CLOSED_FIST/905.jpg\n"
     ]
    },
    {
     "name": "stderr",
     "output_type": "stream",
     "text": [
      "INFO:tensorflow:Loading image /home/akash/Desktop/workspace/gesture-control/dataset/CLOSED_FIST/905.jpg\n"
     ]
    },
    {
     "name": "stdout",
     "output_type": "stream",
     "text": [
      "INFO:tensorflow:Loading image /home/akash/Desktop/workspace/gesture-control/dataset/OPEN_PALM/IMG_27.jpg\n"
     ]
    },
    {
     "name": "stderr",
     "output_type": "stream",
     "text": [
      "INFO:tensorflow:Loading image /home/akash/Desktop/workspace/gesture-control/dataset/OPEN_PALM/IMG_27.jpg\n"
     ]
    },
    {
     "name": "stdout",
     "output_type": "stream",
     "text": [
      "INFO:tensorflow:Loading image /home/akash/Desktop/workspace/gesture-control/dataset/none/957.jpg\n"
     ]
    },
    {
     "name": "stderr",
     "output_type": "stream",
     "text": [
      "INFO:tensorflow:Loading image /home/akash/Desktop/workspace/gesture-control/dataset/none/957.jpg\n"
     ]
    },
    {
     "name": "stdout",
     "output_type": "stream",
     "text": [
      "INFO:tensorflow:Loading image /home/akash/Desktop/workspace/gesture-control/dataset/none/IMG_1715267077.781066.jpg\n"
     ]
    },
    {
     "name": "stderr",
     "output_type": "stream",
     "text": [
      "INFO:tensorflow:Loading image /home/akash/Desktop/workspace/gesture-control/dataset/none/IMG_1715267077.781066.jpg\n"
     ]
    },
    {
     "name": "stdout",
     "output_type": "stream",
     "text": [
      "INFO:tensorflow:Loading image /home/akash/Desktop/workspace/gesture-control/dataset/none/820.jpg\n"
     ]
    },
    {
     "name": "stderr",
     "output_type": "stream",
     "text": [
      "INFO:tensorflow:Loading image /home/akash/Desktop/workspace/gesture-control/dataset/none/820.jpg\n"
     ]
    },
    {
     "name": "stdout",
     "output_type": "stream",
     "text": [
      "INFO:tensorflow:Loading image /home/akash/Desktop/workspace/gesture-control/dataset/none/IMG_1715267656.4871106.jpg\n"
     ]
    },
    {
     "name": "stderr",
     "output_type": "stream",
     "text": [
      "INFO:tensorflow:Loading image /home/akash/Desktop/workspace/gesture-control/dataset/none/IMG_1715267656.4871106.jpg\n"
     ]
    },
    {
     "name": "stdout",
     "output_type": "stream",
     "text": [
      "INFO:tensorflow:Loading image /home/akash/Desktop/workspace/gesture-control/dataset/CLOSED_FIST/722.jpg\n"
     ]
    },
    {
     "name": "stderr",
     "output_type": "stream",
     "text": [
      "INFO:tensorflow:Loading image /home/akash/Desktop/workspace/gesture-control/dataset/CLOSED_FIST/722.jpg\n"
     ]
    },
    {
     "name": "stdout",
     "output_type": "stream",
     "text": [
      "INFO:tensorflow:Loading image /home/akash/Desktop/workspace/gesture-control/dataset/none/IMG_1715159200.7447178.jpg\n"
     ]
    },
    {
     "name": "stderr",
     "output_type": "stream",
     "text": [
      "INFO:tensorflow:Loading image /home/akash/Desktop/workspace/gesture-control/dataset/none/IMG_1715159200.7447178.jpg\n"
     ]
    },
    {
     "name": "stdout",
     "output_type": "stream",
     "text": [
      "INFO:tensorflow:Loading image /home/akash/Desktop/workspace/gesture-control/dataset/none/1424.jpg\n"
     ]
    },
    {
     "name": "stderr",
     "output_type": "stream",
     "text": [
      "INFO:tensorflow:Loading image /home/akash/Desktop/workspace/gesture-control/dataset/none/1424.jpg\n"
     ]
    },
    {
     "name": "stdout",
     "output_type": "stream",
     "text": [
      "INFO:tensorflow:Loading image /home/akash/Desktop/workspace/gesture-control/dataset/OPEN_PALM/IMG_25.jpg\n"
     ]
    },
    {
     "name": "stderr",
     "output_type": "stream",
     "text": [
      "INFO:tensorflow:Loading image /home/akash/Desktop/workspace/gesture-control/dataset/OPEN_PALM/IMG_25.jpg\n"
     ]
    },
    {
     "name": "stdout",
     "output_type": "stream",
     "text": [
      "INFO:tensorflow:Loading image /home/akash/Desktop/workspace/gesture-control/dataset/CLOSED_FIST/376.jpg\n"
     ]
    },
    {
     "name": "stderr",
     "output_type": "stream",
     "text": [
      "INFO:tensorflow:Loading image /home/akash/Desktop/workspace/gesture-control/dataset/CLOSED_FIST/376.jpg\n"
     ]
    },
    {
     "name": "stdout",
     "output_type": "stream",
     "text": [
      "INFO:tensorflow:Loading image /home/akash/Desktop/workspace/gesture-control/dataset/CLOSED_FIST/28.jpg\n"
     ]
    },
    {
     "name": "stderr",
     "output_type": "stream",
     "text": [
      "INFO:tensorflow:Loading image /home/akash/Desktop/workspace/gesture-control/dataset/CLOSED_FIST/28.jpg\n"
     ]
    },
    {
     "name": "stdout",
     "output_type": "stream",
     "text": [
      "INFO:tensorflow:Loading image /home/akash/Desktop/workspace/gesture-control/dataset/THUMB_UP/IMG_50.jpg\n"
     ]
    },
    {
     "name": "stderr",
     "output_type": "stream",
     "text": [
      "INFO:tensorflow:Loading image /home/akash/Desktop/workspace/gesture-control/dataset/THUMB_UP/IMG_50.jpg\n"
     ]
    },
    {
     "name": "stdout",
     "output_type": "stream",
     "text": [
      "INFO:tensorflow:Loading image /home/akash/Desktop/workspace/gesture-control/dataset/CLOSED_FIST/750.jpg\n"
     ]
    },
    {
     "name": "stderr",
     "output_type": "stream",
     "text": [
      "INFO:tensorflow:Loading image /home/akash/Desktop/workspace/gesture-control/dataset/CLOSED_FIST/750.jpg\n"
     ]
    },
    {
     "name": "stdout",
     "output_type": "stream",
     "text": [
      "INFO:tensorflow:Loading image /home/akash/Desktop/workspace/gesture-control/dataset/CLOSED_FIST/234.jpg\n"
     ]
    },
    {
     "name": "stderr",
     "output_type": "stream",
     "text": [
      "INFO:tensorflow:Loading image /home/akash/Desktop/workspace/gesture-control/dataset/CLOSED_FIST/234.jpg\n"
     ]
    },
    {
     "name": "stdout",
     "output_type": "stream",
     "text": [
      "INFO:tensorflow:Loading image /home/akash/Desktop/workspace/gesture-control/dataset/none/292.jpg\n"
     ]
    },
    {
     "name": "stderr",
     "output_type": "stream",
     "text": [
      "INFO:tensorflow:Loading image /home/akash/Desktop/workspace/gesture-control/dataset/none/292.jpg\n"
     ]
    },
    {
     "name": "stdout",
     "output_type": "stream",
     "text": [
      "INFO:tensorflow:Loading image /home/akash/Desktop/workspace/gesture-control/dataset/none/1107.jpg\n"
     ]
    },
    {
     "name": "stderr",
     "output_type": "stream",
     "text": [
      "INFO:tensorflow:Loading image /home/akash/Desktop/workspace/gesture-control/dataset/none/1107.jpg\n"
     ]
    },
    {
     "name": "stdout",
     "output_type": "stream",
     "text": [
      "INFO:tensorflow:Loading image /home/akash/Desktop/workspace/gesture-control/dataset/none/IMG_1715189216.778764.jpg\n"
     ]
    },
    {
     "name": "stderr",
     "output_type": "stream",
     "text": [
      "INFO:tensorflow:Loading image /home/akash/Desktop/workspace/gesture-control/dataset/none/IMG_1715189216.778764.jpg\n"
     ]
    },
    {
     "name": "stdout",
     "output_type": "stream",
     "text": [
      "INFO:tensorflow:Loading image /home/akash/Desktop/workspace/gesture-control/dataset/OPEN_PALM/IMG_14.jpg\n"
     ]
    },
    {
     "name": "stderr",
     "output_type": "stream",
     "text": [
      "INFO:tensorflow:Loading image /home/akash/Desktop/workspace/gesture-control/dataset/OPEN_PALM/IMG_14.jpg\n"
     ]
    },
    {
     "name": "stdout",
     "output_type": "stream",
     "text": [
      "INFO:tensorflow:Loading image /home/akash/Desktop/workspace/gesture-control/dataset/none/1784.jpg\n"
     ]
    },
    {
     "name": "stderr",
     "output_type": "stream",
     "text": [
      "INFO:tensorflow:Loading image /home/akash/Desktop/workspace/gesture-control/dataset/none/1784.jpg\n"
     ]
    },
    {
     "name": "stdout",
     "output_type": "stream",
     "text": [
      "INFO:tensorflow:Loading image /home/akash/Desktop/workspace/gesture-control/dataset/THUMB_UP/IMG_27.jpg\n"
     ]
    },
    {
     "name": "stderr",
     "output_type": "stream",
     "text": [
      "INFO:tensorflow:Loading image /home/akash/Desktop/workspace/gesture-control/dataset/THUMB_UP/IMG_27.jpg\n"
     ]
    },
    {
     "name": "stdout",
     "output_type": "stream",
     "text": [
      "INFO:tensorflow:Loading image /home/akash/Desktop/workspace/gesture-control/dataset/none/IMG_1715267653.5393326.jpg\n"
     ]
    },
    {
     "name": "stderr",
     "output_type": "stream",
     "text": [
      "INFO:tensorflow:Loading image /home/akash/Desktop/workspace/gesture-control/dataset/none/IMG_1715267653.5393326.jpg\n"
     ]
    },
    {
     "name": "stdout",
     "output_type": "stream",
     "text": [
      "INFO:tensorflow:Loading image /home/akash/Desktop/workspace/gesture-control/dataset/CLOSED_FIST/784.jpg\n"
     ]
    },
    {
     "name": "stderr",
     "output_type": "stream",
     "text": [
      "INFO:tensorflow:Loading image /home/akash/Desktop/workspace/gesture-control/dataset/CLOSED_FIST/784.jpg\n"
     ]
    },
    {
     "name": "stdout",
     "output_type": "stream",
     "text": [
      "INFO:tensorflow:Loading image /home/akash/Desktop/workspace/gesture-control/dataset/none/IMG_1715268310.0338655.jpg\n"
     ]
    },
    {
     "name": "stderr",
     "output_type": "stream",
     "text": [
      "INFO:tensorflow:Loading image /home/akash/Desktop/workspace/gesture-control/dataset/none/IMG_1715268310.0338655.jpg\n"
     ]
    },
    {
     "name": "stdout",
     "output_type": "stream",
     "text": [
      "INFO:tensorflow:Loading image /home/akash/Desktop/workspace/gesture-control/dataset/THUMB_DOWN/IMG_44.jpg\n"
     ]
    },
    {
     "name": "stderr",
     "output_type": "stream",
     "text": [
      "INFO:tensorflow:Loading image /home/akash/Desktop/workspace/gesture-control/dataset/THUMB_DOWN/IMG_44.jpg\n"
     ]
    },
    {
     "name": "stdout",
     "output_type": "stream",
     "text": [
      "INFO:tensorflow:Loading image /home/akash/Desktop/workspace/gesture-control/dataset/none/IMG_1715267375.277306.jpg\n"
     ]
    },
    {
     "name": "stderr",
     "output_type": "stream",
     "text": [
      "INFO:tensorflow:Loading image /home/akash/Desktop/workspace/gesture-control/dataset/none/IMG_1715267375.277306.jpg\n"
     ]
    },
    {
     "name": "stdout",
     "output_type": "stream",
     "text": [
      "INFO:tensorflow:Loading image /home/akash/Desktop/workspace/gesture-control/dataset/none/1005.jpg\n"
     ]
    },
    {
     "name": "stderr",
     "output_type": "stream",
     "text": [
      "INFO:tensorflow:Loading image /home/akash/Desktop/workspace/gesture-control/dataset/none/1005.jpg\n"
     ]
    },
    {
     "name": "stdout",
     "output_type": "stream",
     "text": [
      "INFO:tensorflow:Loading image /home/akash/Desktop/workspace/gesture-control/dataset/THUMB_DOWN/IMG_75.jpg\n"
     ]
    },
    {
     "name": "stderr",
     "output_type": "stream",
     "text": [
      "INFO:tensorflow:Loading image /home/akash/Desktop/workspace/gesture-control/dataset/THUMB_DOWN/IMG_75.jpg\n"
     ]
    },
    {
     "name": "stdout",
     "output_type": "stream",
     "text": [
      "INFO:tensorflow:Loading image /home/akash/Desktop/workspace/gesture-control/dataset/CLOSED_FIST/625.jpg\n"
     ]
    },
    {
     "name": "stderr",
     "output_type": "stream",
     "text": [
      "INFO:tensorflow:Loading image /home/akash/Desktop/workspace/gesture-control/dataset/CLOSED_FIST/625.jpg\n"
     ]
    },
    {
     "name": "stdout",
     "output_type": "stream",
     "text": [
      "INFO:tensorflow:Loading image /home/akash/Desktop/workspace/gesture-control/dataset/CLOSED_FIST/305.jpg\n"
     ]
    },
    {
     "name": "stderr",
     "output_type": "stream",
     "text": [
      "INFO:tensorflow:Loading image /home/akash/Desktop/workspace/gesture-control/dataset/CLOSED_FIST/305.jpg\n"
     ]
    },
    {
     "name": "stdout",
     "output_type": "stream",
     "text": [
      "INFO:tensorflow:Loading image /home/akash/Desktop/workspace/gesture-control/dataset/THUMB_DOWN/IMG_88.jpg\n"
     ]
    },
    {
     "name": "stderr",
     "output_type": "stream",
     "text": [
      "INFO:tensorflow:Loading image /home/akash/Desktop/workspace/gesture-control/dataset/THUMB_DOWN/IMG_88.jpg\n"
     ]
    },
    {
     "name": "stdout",
     "output_type": "stream",
     "text": [
      "INFO:tensorflow:Loading image /home/akash/Desktop/workspace/gesture-control/dataset/THUMB_DOWN/IMG_76.jpg\n"
     ]
    },
    {
     "name": "stderr",
     "output_type": "stream",
     "text": [
      "INFO:tensorflow:Loading image /home/akash/Desktop/workspace/gesture-control/dataset/THUMB_DOWN/IMG_76.jpg\n"
     ]
    },
    {
     "name": "stdout",
     "output_type": "stream",
     "text": [
      "INFO:tensorflow:Loading image /home/akash/Desktop/workspace/gesture-control/dataset/none/IMG_1715268305.4017124.jpg\n"
     ]
    },
    {
     "name": "stderr",
     "output_type": "stream",
     "text": [
      "INFO:tensorflow:Loading image /home/akash/Desktop/workspace/gesture-control/dataset/none/IMG_1715268305.4017124.jpg\n"
     ]
    },
    {
     "name": "stdout",
     "output_type": "stream",
     "text": [
      "INFO:tensorflow:Loading image /home/akash/Desktop/workspace/gesture-control/dataset/none/823.jpg\n"
     ]
    },
    {
     "name": "stderr",
     "output_type": "stream",
     "text": [
      "INFO:tensorflow:Loading image /home/akash/Desktop/workspace/gesture-control/dataset/none/823.jpg\n"
     ]
    },
    {
     "name": "stdout",
     "output_type": "stream",
     "text": [
      "INFO:tensorflow:Loading image /home/akash/Desktop/workspace/gesture-control/dataset/none/1206.jpg\n"
     ]
    },
    {
     "name": "stderr",
     "output_type": "stream",
     "text": [
      "INFO:tensorflow:Loading image /home/akash/Desktop/workspace/gesture-control/dataset/none/1206.jpg\n"
     ]
    },
    {
     "name": "stdout",
     "output_type": "stream",
     "text": [
      "INFO:tensorflow:Loading image /home/akash/Desktop/workspace/gesture-control/dataset/none/1214.jpg\n"
     ]
    },
    {
     "name": "stderr",
     "output_type": "stream",
     "text": [
      "INFO:tensorflow:Loading image /home/akash/Desktop/workspace/gesture-control/dataset/none/1214.jpg\n"
     ]
    },
    {
     "name": "stdout",
     "output_type": "stream",
     "text": [
      "INFO:tensorflow:Loading image /home/akash/Desktop/workspace/gesture-control/dataset/CLOSED_FIST/764.jpg\n"
     ]
    },
    {
     "name": "stderr",
     "output_type": "stream",
     "text": [
      "INFO:tensorflow:Loading image /home/akash/Desktop/workspace/gesture-control/dataset/CLOSED_FIST/764.jpg\n"
     ]
    },
    {
     "name": "stdout",
     "output_type": "stream",
     "text": [
      "INFO:tensorflow:Loading image /home/akash/Desktop/workspace/gesture-control/dataset/OPEN_PALM/IMG_68.jpg\n"
     ]
    },
    {
     "name": "stderr",
     "output_type": "stream",
     "text": [
      "INFO:tensorflow:Loading image /home/akash/Desktop/workspace/gesture-control/dataset/OPEN_PALM/IMG_68.jpg\n"
     ]
    },
    {
     "name": "stdout",
     "output_type": "stream",
     "text": [
      "INFO:tensorflow:Loading image /home/akash/Desktop/workspace/gesture-control/dataset/THUMB_DOWN/IMG_7.jpg\n"
     ]
    },
    {
     "name": "stderr",
     "output_type": "stream",
     "text": [
      "INFO:tensorflow:Loading image /home/akash/Desktop/workspace/gesture-control/dataset/THUMB_DOWN/IMG_7.jpg\n"
     ]
    },
    {
     "name": "stdout",
     "output_type": "stream",
     "text": [
      "INFO:tensorflow:Loading image /home/akash/Desktop/workspace/gesture-control/dataset/THUMB_UP/IMG_25.jpg\n"
     ]
    },
    {
     "name": "stderr",
     "output_type": "stream",
     "text": [
      "INFO:tensorflow:Loading image /home/akash/Desktop/workspace/gesture-control/dataset/THUMB_UP/IMG_25.jpg\n"
     ]
    },
    {
     "name": "stdout",
     "output_type": "stream",
     "text": [
      "INFO:tensorflow:Loading image /home/akash/Desktop/workspace/gesture-control/dataset/CLOSED_FIST/165.jpg\n"
     ]
    },
    {
     "name": "stderr",
     "output_type": "stream",
     "text": [
      "INFO:tensorflow:Loading image /home/akash/Desktop/workspace/gesture-control/dataset/CLOSED_FIST/165.jpg\n"
     ]
    },
    {
     "name": "stdout",
     "output_type": "stream",
     "text": [
      "INFO:tensorflow:Loading image /home/akash/Desktop/workspace/gesture-control/dataset/none/39.jpg\n"
     ]
    },
    {
     "name": "stderr",
     "output_type": "stream",
     "text": [
      "INFO:tensorflow:Loading image /home/akash/Desktop/workspace/gesture-control/dataset/none/39.jpg\n"
     ]
    },
    {
     "name": "stdout",
     "output_type": "stream",
     "text": [
      "INFO:tensorflow:Loading image /home/akash/Desktop/workspace/gesture-control/dataset/none/735.jpg\n"
     ]
    },
    {
     "name": "stderr",
     "output_type": "stream",
     "text": [
      "INFO:tensorflow:Loading image /home/akash/Desktop/workspace/gesture-control/dataset/none/735.jpg\n"
     ]
    },
    {
     "name": "stdout",
     "output_type": "stream",
     "text": [
      "INFO:tensorflow:Loading image /home/akash/Desktop/workspace/gesture-control/dataset/OPEN_PALM/IMG_26.jpg\n"
     ]
    },
    {
     "name": "stderr",
     "output_type": "stream",
     "text": [
      "INFO:tensorflow:Loading image /home/akash/Desktop/workspace/gesture-control/dataset/OPEN_PALM/IMG_26.jpg\n"
     ]
    },
    {
     "name": "stdout",
     "output_type": "stream",
     "text": [
      "INFO:tensorflow:Loading image /home/akash/Desktop/workspace/gesture-control/dataset/THUMB_DOWN/IMG_52.jpg\n"
     ]
    },
    {
     "name": "stderr",
     "output_type": "stream",
     "text": [
      "INFO:tensorflow:Loading image /home/akash/Desktop/workspace/gesture-control/dataset/THUMB_DOWN/IMG_52.jpg\n"
     ]
    },
    {
     "name": "stdout",
     "output_type": "stream",
     "text": [
      "INFO:tensorflow:Loading image /home/akash/Desktop/workspace/gesture-control/dataset/THUMB_DOWN/IMG_70.jpg\n"
     ]
    },
    {
     "name": "stderr",
     "output_type": "stream",
     "text": [
      "INFO:tensorflow:Loading image /home/akash/Desktop/workspace/gesture-control/dataset/THUMB_DOWN/IMG_70.jpg\n"
     ]
    },
    {
     "name": "stdout",
     "output_type": "stream",
     "text": [
      "INFO:tensorflow:Loading image /home/akash/Desktop/workspace/gesture-control/dataset/THUMB_UP/IMG_93.jpg\n"
     ]
    },
    {
     "name": "stderr",
     "output_type": "stream",
     "text": [
      "INFO:tensorflow:Loading image /home/akash/Desktop/workspace/gesture-control/dataset/THUMB_UP/IMG_93.jpg\n"
     ]
    },
    {
     "name": "stdout",
     "output_type": "stream",
     "text": [
      "INFO:tensorflow:Loading image /home/akash/Desktop/workspace/gesture-control/dataset/CLOSED_FIST/560.jpg\n"
     ]
    },
    {
     "name": "stderr",
     "output_type": "stream",
     "text": [
      "INFO:tensorflow:Loading image /home/akash/Desktop/workspace/gesture-control/dataset/CLOSED_FIST/560.jpg\n"
     ]
    },
    {
     "name": "stdout",
     "output_type": "stream",
     "text": [
      "INFO:tensorflow:Loading image /home/akash/Desktop/workspace/gesture-control/dataset/none/1851.jpg\n"
     ]
    },
    {
     "name": "stderr",
     "output_type": "stream",
     "text": [
      "INFO:tensorflow:Loading image /home/akash/Desktop/workspace/gesture-control/dataset/none/1851.jpg\n"
     ]
    },
    {
     "name": "stdout",
     "output_type": "stream",
     "text": [
      "INFO:tensorflow:Loading image /home/akash/Desktop/workspace/gesture-control/dataset/none/IMG_1715268309.4939153.jpg\n"
     ]
    },
    {
     "name": "stderr",
     "output_type": "stream",
     "text": [
      "INFO:tensorflow:Loading image /home/akash/Desktop/workspace/gesture-control/dataset/none/IMG_1715268309.4939153.jpg\n"
     ]
    },
    {
     "name": "stdout",
     "output_type": "stream",
     "text": [
      "INFO:tensorflow:Loading image /home/akash/Desktop/workspace/gesture-control/dataset/THUMB_UP/IMG_78.jpg\n"
     ]
    },
    {
     "name": "stderr",
     "output_type": "stream",
     "text": [
      "INFO:tensorflow:Loading image /home/akash/Desktop/workspace/gesture-control/dataset/THUMB_UP/IMG_78.jpg\n"
     ]
    },
    {
     "name": "stdout",
     "output_type": "stream",
     "text": [
      "INFO:tensorflow:Loading image /home/akash/Desktop/workspace/gesture-control/dataset/THUMB_UP/IMG_42.jpg\n"
     ]
    },
    {
     "name": "stderr",
     "output_type": "stream",
     "text": [
      "INFO:tensorflow:Loading image /home/akash/Desktop/workspace/gesture-control/dataset/THUMB_UP/IMG_42.jpg\n"
     ]
    },
    {
     "name": "stdout",
     "output_type": "stream",
     "text": [
      "INFO:tensorflow:Loading image /home/akash/Desktop/workspace/gesture-control/dataset/none/1048.jpg\n"
     ]
    },
    {
     "name": "stderr",
     "output_type": "stream",
     "text": [
      "INFO:tensorflow:Loading image /home/akash/Desktop/workspace/gesture-control/dataset/none/1048.jpg\n"
     ]
    },
    {
     "name": "stdout",
     "output_type": "stream",
     "text": [
      "INFO:tensorflow:Loading image /home/akash/Desktop/workspace/gesture-control/dataset/none/IMG_1715267080.244839.jpg\n"
     ]
    },
    {
     "name": "stderr",
     "output_type": "stream",
     "text": [
      "INFO:tensorflow:Loading image /home/akash/Desktop/workspace/gesture-control/dataset/none/IMG_1715267080.244839.jpg\n"
     ]
    },
    {
     "name": "stdout",
     "output_type": "stream",
     "text": [
      "INFO:tensorflow:Loading image /home/akash/Desktop/workspace/gesture-control/dataset/none/IMG_1715268343.05902.jpg\n"
     ]
    },
    {
     "name": "stderr",
     "output_type": "stream",
     "text": [
      "INFO:tensorflow:Loading image /home/akash/Desktop/workspace/gesture-control/dataset/none/IMG_1715268343.05902.jpg\n"
     ]
    },
    {
     "name": "stdout",
     "output_type": "stream",
     "text": [
      "INFO:tensorflow:Loading image /home/akash/Desktop/workspace/gesture-control/dataset/CLOSED_FIST/875.jpg\n"
     ]
    },
    {
     "name": "stderr",
     "output_type": "stream",
     "text": [
      "INFO:tensorflow:Loading image /home/akash/Desktop/workspace/gesture-control/dataset/CLOSED_FIST/875.jpg\n"
     ]
    },
    {
     "name": "stdout",
     "output_type": "stream",
     "text": [
      "INFO:tensorflow:Loading image /home/akash/Desktop/workspace/gesture-control/dataset/none/190.jpg\n"
     ]
    },
    {
     "name": "stderr",
     "output_type": "stream",
     "text": [
      "INFO:tensorflow:Loading image /home/akash/Desktop/workspace/gesture-control/dataset/none/190.jpg\n"
     ]
    },
    {
     "name": "stdout",
     "output_type": "stream",
     "text": [
      "INFO:tensorflow:Loading image /home/akash/Desktop/workspace/gesture-control/dataset/none/1823.jpg\n"
     ]
    },
    {
     "name": "stderr",
     "output_type": "stream",
     "text": [
      "INFO:tensorflow:Loading image /home/akash/Desktop/workspace/gesture-control/dataset/none/1823.jpg\n"
     ]
    },
    {
     "name": "stdout",
     "output_type": "stream",
     "text": [
      "INFO:tensorflow:Loading image /home/akash/Desktop/workspace/gesture-control/dataset/OPEN_PALM/IMG_44.jpg\n"
     ]
    },
    {
     "name": "stderr",
     "output_type": "stream",
     "text": [
      "INFO:tensorflow:Loading image /home/akash/Desktop/workspace/gesture-control/dataset/OPEN_PALM/IMG_44.jpg\n"
     ]
    },
    {
     "name": "stdout",
     "output_type": "stream",
     "text": [
      "INFO:tensorflow:Loading image /home/akash/Desktop/workspace/gesture-control/dataset/THUMB_UP/IMG_15.jpg\n"
     ]
    },
    {
     "name": "stderr",
     "output_type": "stream",
     "text": [
      "INFO:tensorflow:Loading image /home/akash/Desktop/workspace/gesture-control/dataset/THUMB_UP/IMG_15.jpg\n"
     ]
    },
    {
     "name": "stdout",
     "output_type": "stream",
     "text": [
      "INFO:tensorflow:Loading image /home/akash/Desktop/workspace/gesture-control/dataset/CLOSED_FIST/239.jpg\n"
     ]
    },
    {
     "name": "stderr",
     "output_type": "stream",
     "text": [
      "INFO:tensorflow:Loading image /home/akash/Desktop/workspace/gesture-control/dataset/CLOSED_FIST/239.jpg\n"
     ]
    },
    {
     "name": "stdout",
     "output_type": "stream",
     "text": [
      "INFO:tensorflow:Loading image /home/akash/Desktop/workspace/gesture-control/dataset/THUMB_DOWN/IMG_64.jpg\n"
     ]
    },
    {
     "name": "stderr",
     "output_type": "stream",
     "text": [
      "INFO:tensorflow:Loading image /home/akash/Desktop/workspace/gesture-control/dataset/THUMB_DOWN/IMG_64.jpg\n"
     ]
    },
    {
     "name": "stdout",
     "output_type": "stream",
     "text": [
      "INFO:tensorflow:Loading image /home/akash/Desktop/workspace/gesture-control/dataset/none/386.jpg\n"
     ]
    },
    {
     "name": "stderr",
     "output_type": "stream",
     "text": [
      "INFO:tensorflow:Loading image /home/akash/Desktop/workspace/gesture-control/dataset/none/386.jpg\n"
     ]
    },
    {
     "name": "stdout",
     "output_type": "stream",
     "text": [
      "INFO:tensorflow:Loading image /home/akash/Desktop/workspace/gesture-control/dataset/CLOSED_FIST/211.jpg\n"
     ]
    },
    {
     "name": "stderr",
     "output_type": "stream",
     "text": [
      "INFO:tensorflow:Loading image /home/akash/Desktop/workspace/gesture-control/dataset/CLOSED_FIST/211.jpg\n"
     ]
    },
    {
     "name": "stdout",
     "output_type": "stream",
     "text": [
      "INFO:tensorflow:Loading image /home/akash/Desktop/workspace/gesture-control/dataset/OPEN_PALM/IMG_16.jpg\n"
     ]
    },
    {
     "name": "stderr",
     "output_type": "stream",
     "text": [
      "INFO:tensorflow:Loading image /home/akash/Desktop/workspace/gesture-control/dataset/OPEN_PALM/IMG_16.jpg\n"
     ]
    },
    {
     "name": "stdout",
     "output_type": "stream",
     "text": [
      "INFO:tensorflow:Loading image /home/akash/Desktop/workspace/gesture-control/dataset/OPEN_PALM/IMG_62.jpg\n"
     ]
    },
    {
     "name": "stderr",
     "output_type": "stream",
     "text": [
      "INFO:tensorflow:Loading image /home/akash/Desktop/workspace/gesture-control/dataset/OPEN_PALM/IMG_62.jpg\n"
     ]
    },
    {
     "name": "stdout",
     "output_type": "stream",
     "text": [
      "INFO:tensorflow:Loading image /home/akash/Desktop/workspace/gesture-control/dataset/none/955.jpg\n"
     ]
    },
    {
     "name": "stderr",
     "output_type": "stream",
     "text": [
      "INFO:tensorflow:Loading image /home/akash/Desktop/workspace/gesture-control/dataset/none/955.jpg\n"
     ]
    },
    {
     "name": "stdout",
     "output_type": "stream",
     "text": [
      "INFO:tensorflow:Loading image /home/akash/Desktop/workspace/gesture-control/dataset/CLOSED_FIST/915.jpg\n"
     ]
    },
    {
     "name": "stderr",
     "output_type": "stream",
     "text": [
      "INFO:tensorflow:Loading image /home/akash/Desktop/workspace/gesture-control/dataset/CLOSED_FIST/915.jpg\n"
     ]
    },
    {
     "name": "stdout",
     "output_type": "stream",
     "text": [
      "INFO:tensorflow:Loading image /home/akash/Desktop/workspace/gesture-control/dataset/THUMB_DOWN/IMG_39.jpg\n"
     ]
    },
    {
     "name": "stderr",
     "output_type": "stream",
     "text": [
      "INFO:tensorflow:Loading image /home/akash/Desktop/workspace/gesture-control/dataset/THUMB_DOWN/IMG_39.jpg\n"
     ]
    },
    {
     "name": "stdout",
     "output_type": "stream",
     "text": [
      "INFO:tensorflow:Loading image /home/akash/Desktop/workspace/gesture-control/dataset/THUMB_DOWN/IMG_90.jpg\n"
     ]
    },
    {
     "name": "stderr",
     "output_type": "stream",
     "text": [
      "INFO:tensorflow:Loading image /home/akash/Desktop/workspace/gesture-control/dataset/THUMB_DOWN/IMG_90.jpg\n"
     ]
    },
    {
     "name": "stdout",
     "output_type": "stream",
     "text": [
      "INFO:tensorflow:Loading image /home/akash/Desktop/workspace/gesture-control/dataset/CLOSED_FIST/592.jpg\n"
     ]
    },
    {
     "name": "stderr",
     "output_type": "stream",
     "text": [
      "INFO:tensorflow:Loading image /home/akash/Desktop/workspace/gesture-control/dataset/CLOSED_FIST/592.jpg\n"
     ]
    },
    {
     "name": "stdout",
     "output_type": "stream",
     "text": [
      "INFO:tensorflow:Loading image /home/akash/Desktop/workspace/gesture-control/dataset/THUMB_UP/IMG_10.jpg\n"
     ]
    },
    {
     "name": "stderr",
     "output_type": "stream",
     "text": [
      "INFO:tensorflow:Loading image /home/akash/Desktop/workspace/gesture-control/dataset/THUMB_UP/IMG_10.jpg\n"
     ]
    },
    {
     "name": "stdout",
     "output_type": "stream",
     "text": [
      "INFO:tensorflow:Loading image /home/akash/Desktop/workspace/gesture-control/dataset/CLOSED_FIST/407.jpg\n"
     ]
    },
    {
     "name": "stderr",
     "output_type": "stream",
     "text": [
      "INFO:tensorflow:Loading image /home/akash/Desktop/workspace/gesture-control/dataset/CLOSED_FIST/407.jpg\n"
     ]
    },
    {
     "name": "stdout",
     "output_type": "stream",
     "text": [
      "INFO:tensorflow:Loading image /home/akash/Desktop/workspace/gesture-control/dataset/none/IMG_1715267095.6445222.jpg\n"
     ]
    },
    {
     "name": "stderr",
     "output_type": "stream",
     "text": [
      "INFO:tensorflow:Loading image /home/akash/Desktop/workspace/gesture-control/dataset/none/IMG_1715267095.6445222.jpg\n"
     ]
    },
    {
     "name": "stdout",
     "output_type": "stream",
     "text": [
      "INFO:tensorflow:Loading image /home/akash/Desktop/workspace/gesture-control/dataset/THUMB_DOWN/IMG_30.jpg\n"
     ]
    },
    {
     "name": "stderr",
     "output_type": "stream",
     "text": [
      "INFO:tensorflow:Loading image /home/akash/Desktop/workspace/gesture-control/dataset/THUMB_DOWN/IMG_30.jpg\n"
     ]
    },
    {
     "name": "stdout",
     "output_type": "stream",
     "text": [
      "INFO:tensorflow:Loading image /home/akash/Desktop/workspace/gesture-control/dataset/THUMB_DOWN/IMG_87.jpg\n"
     ]
    },
    {
     "name": "stderr",
     "output_type": "stream",
     "text": [
      "INFO:tensorflow:Loading image /home/akash/Desktop/workspace/gesture-control/dataset/THUMB_DOWN/IMG_87.jpg\n"
     ]
    },
    {
     "name": "stdout",
     "output_type": "stream",
     "text": [
      "INFO:tensorflow:Loading image /home/akash/Desktop/workspace/gesture-control/dataset/none/520.jpg\n"
     ]
    },
    {
     "name": "stderr",
     "output_type": "stream",
     "text": [
      "INFO:tensorflow:Loading image /home/akash/Desktop/workspace/gesture-control/dataset/none/520.jpg\n"
     ]
    },
    {
     "name": "stdout",
     "output_type": "stream",
     "text": [
      "INFO:tensorflow:Loading image /home/akash/Desktop/workspace/gesture-control/dataset/CLOSED_FIST/545.jpg\n"
     ]
    },
    {
     "name": "stderr",
     "output_type": "stream",
     "text": [
      "INFO:tensorflow:Loading image /home/akash/Desktop/workspace/gesture-control/dataset/CLOSED_FIST/545.jpg\n"
     ]
    },
    {
     "name": "stdout",
     "output_type": "stream",
     "text": [
      "INFO:tensorflow:Loading image /home/akash/Desktop/workspace/gesture-control/dataset/none/363.jpg\n"
     ]
    },
    {
     "name": "stderr",
     "output_type": "stream",
     "text": [
      "INFO:tensorflow:Loading image /home/akash/Desktop/workspace/gesture-control/dataset/none/363.jpg\n"
     ]
    },
    {
     "name": "stdout",
     "output_type": "stream",
     "text": [
      "INFO:tensorflow:Loading image /home/akash/Desktop/workspace/gesture-control/dataset/none/1469.jpg\n"
     ]
    },
    {
     "name": "stderr",
     "output_type": "stream",
     "text": [
      "INFO:tensorflow:Loading image /home/akash/Desktop/workspace/gesture-control/dataset/none/1469.jpg\n"
     ]
    },
    {
     "name": "stdout",
     "output_type": "stream",
     "text": [
      "INFO:tensorflow:Loading image /home/akash/Desktop/workspace/gesture-control/dataset/none/32.jpg\n"
     ]
    },
    {
     "name": "stderr",
     "output_type": "stream",
     "text": [
      "INFO:tensorflow:Loading image /home/akash/Desktop/workspace/gesture-control/dataset/none/32.jpg\n"
     ]
    },
    {
     "name": "stdout",
     "output_type": "stream",
     "text": [
      "INFO:tensorflow:Loading image /home/akash/Desktop/workspace/gesture-control/dataset/CLOSED_FIST/635.jpg\n"
     ]
    },
    {
     "name": "stderr",
     "output_type": "stream",
     "text": [
      "INFO:tensorflow:Loading image /home/akash/Desktop/workspace/gesture-control/dataset/CLOSED_FIST/635.jpg\n"
     ]
    },
    {
     "name": "stdout",
     "output_type": "stream",
     "text": [
      "INFO:tensorflow:Loading image /home/akash/Desktop/workspace/gesture-control/dataset/THUMB_UP/IMG_1.jpg\n"
     ]
    },
    {
     "name": "stderr",
     "output_type": "stream",
     "text": [
      "INFO:tensorflow:Loading image /home/akash/Desktop/workspace/gesture-control/dataset/THUMB_UP/IMG_1.jpg\n"
     ]
    },
    {
     "name": "stdout",
     "output_type": "stream",
     "text": [
      "INFO:tensorflow:Loading image /home/akash/Desktop/workspace/gesture-control/dataset/THUMB_DOWN/IMG_47.jpg\n"
     ]
    },
    {
     "name": "stderr",
     "output_type": "stream",
     "text": [
      "INFO:tensorflow:Loading image /home/akash/Desktop/workspace/gesture-control/dataset/THUMB_DOWN/IMG_47.jpg\n"
     ]
    },
    {
     "name": "stdout",
     "output_type": "stream",
     "text": [
      "INFO:tensorflow:Loading image /home/akash/Desktop/workspace/gesture-control/dataset/OPEN_PALM/IMG_4.jpg\n"
     ]
    },
    {
     "name": "stderr",
     "output_type": "stream",
     "text": [
      "INFO:tensorflow:Loading image /home/akash/Desktop/workspace/gesture-control/dataset/OPEN_PALM/IMG_4.jpg\n"
     ]
    },
    {
     "name": "stdout",
     "output_type": "stream",
     "text": [
      "INFO:tensorflow:Loading image /home/akash/Desktop/workspace/gesture-control/dataset/THUMB_UP/IMG_66.jpg\n"
     ]
    },
    {
     "name": "stderr",
     "output_type": "stream",
     "text": [
      "INFO:tensorflow:Loading image /home/akash/Desktop/workspace/gesture-control/dataset/THUMB_UP/IMG_66.jpg\n"
     ]
    },
    {
     "name": "stdout",
     "output_type": "stream",
     "text": [
      "INFO:tensorflow:Loading image /home/akash/Desktop/workspace/gesture-control/dataset/OPEN_PALM/IMG_20.jpg\n"
     ]
    },
    {
     "name": "stderr",
     "output_type": "stream",
     "text": [
      "INFO:tensorflow:Loading image /home/akash/Desktop/workspace/gesture-control/dataset/OPEN_PALM/IMG_20.jpg\n"
     ]
    },
    {
     "name": "stdout",
     "output_type": "stream",
     "text": [
      "INFO:tensorflow:Loading image /home/akash/Desktop/workspace/gesture-control/dataset/none/939.jpg\n"
     ]
    },
    {
     "name": "stderr",
     "output_type": "stream",
     "text": [
      "INFO:tensorflow:Loading image /home/akash/Desktop/workspace/gesture-control/dataset/none/939.jpg\n"
     ]
    },
    {
     "name": "stdout",
     "output_type": "stream",
     "text": [
      "INFO:tensorflow:Loading image /home/akash/Desktop/workspace/gesture-control/dataset/none/IMG_1715268343.4180598.jpg\n"
     ]
    },
    {
     "name": "stderr",
     "output_type": "stream",
     "text": [
      "INFO:tensorflow:Loading image /home/akash/Desktop/workspace/gesture-control/dataset/none/IMG_1715268343.4180598.jpg\n"
     ]
    },
    {
     "name": "stdout",
     "output_type": "stream",
     "text": [
      "INFO:tensorflow:Loading image /home/akash/Desktop/workspace/gesture-control/dataset/THUMB_UP/IMG_59.jpg\n"
     ]
    },
    {
     "name": "stderr",
     "output_type": "stream",
     "text": [
      "INFO:tensorflow:Loading image /home/akash/Desktop/workspace/gesture-control/dataset/THUMB_UP/IMG_59.jpg\n"
     ]
    },
    {
     "name": "stdout",
     "output_type": "stream",
     "text": [
      "INFO:tensorflow:Loading image /home/akash/Desktop/workspace/gesture-control/dataset/none/993.jpg\n"
     ]
    },
    {
     "name": "stderr",
     "output_type": "stream",
     "text": [
      "INFO:tensorflow:Loading image /home/akash/Desktop/workspace/gesture-control/dataset/none/993.jpg\n"
     ]
    },
    {
     "name": "stdout",
     "output_type": "stream",
     "text": [
      "INFO:tensorflow:Loading image /home/akash/Desktop/workspace/gesture-control/dataset/THUMB_UP/IMG_86.jpg\n"
     ]
    },
    {
     "name": "stderr",
     "output_type": "stream",
     "text": [
      "INFO:tensorflow:Loading image /home/akash/Desktop/workspace/gesture-control/dataset/THUMB_UP/IMG_86.jpg\n"
     ]
    },
    {
     "name": "stdout",
     "output_type": "stream",
     "text": [
      "INFO:tensorflow:Loading image /home/akash/Desktop/workspace/gesture-control/dataset/none/IMG_1715267642.9569776.jpg\n"
     ]
    },
    {
     "name": "stderr",
     "output_type": "stream",
     "text": [
      "INFO:tensorflow:Loading image /home/akash/Desktop/workspace/gesture-control/dataset/none/IMG_1715267642.9569776.jpg\n"
     ]
    },
    {
     "name": "stdout",
     "output_type": "stream",
     "text": [
      "INFO:tensorflow:Loading image /home/akash/Desktop/workspace/gesture-control/dataset/CLOSED_FIST/399.jpg\n"
     ]
    },
    {
     "name": "stderr",
     "output_type": "stream",
     "text": [
      "INFO:tensorflow:Loading image /home/akash/Desktop/workspace/gesture-control/dataset/CLOSED_FIST/399.jpg\n"
     ]
    },
    {
     "name": "stdout",
     "output_type": "stream",
     "text": [
      "INFO:tensorflow:Loading image /home/akash/Desktop/workspace/gesture-control/dataset/THUMB_UP/IMG_97.jpg\n"
     ]
    },
    {
     "name": "stderr",
     "output_type": "stream",
     "text": [
      "INFO:tensorflow:Loading image /home/akash/Desktop/workspace/gesture-control/dataset/THUMB_UP/IMG_97.jpg\n"
     ]
    },
    {
     "name": "stdout",
     "output_type": "stream",
     "text": [
      "INFO:tensorflow:Loading image /home/akash/Desktop/workspace/gesture-control/dataset/none/IMG_1715267650.651377.jpg\n"
     ]
    },
    {
     "name": "stderr",
     "output_type": "stream",
     "text": [
      "INFO:tensorflow:Loading image /home/akash/Desktop/workspace/gesture-control/dataset/none/IMG_1715267650.651377.jpg\n"
     ]
    },
    {
     "name": "stdout",
     "output_type": "stream",
     "text": [
      "INFO:tensorflow:Loading image /home/akash/Desktop/workspace/gesture-control/dataset/THUMB_UP/IMG_65.jpg\n"
     ]
    },
    {
     "name": "stderr",
     "output_type": "stream",
     "text": [
      "INFO:tensorflow:Loading image /home/akash/Desktop/workspace/gesture-control/dataset/THUMB_UP/IMG_65.jpg\n"
     ]
    },
    {
     "name": "stdout",
     "output_type": "stream",
     "text": [
      "INFO:tensorflow:Loading image /home/akash/Desktop/workspace/gesture-control/dataset/OPEN_PALM/IMG_48.jpg\n"
     ]
    },
    {
     "name": "stderr",
     "output_type": "stream",
     "text": [
      "INFO:tensorflow:Loading image /home/akash/Desktop/workspace/gesture-control/dataset/OPEN_PALM/IMG_48.jpg\n"
     ]
    },
    {
     "name": "stdout",
     "output_type": "stream",
     "text": [
      "INFO:tensorflow:Loading image /home/akash/Desktop/workspace/gesture-control/dataset/OPEN_PALM/IMG_90.jpg\n"
     ]
    },
    {
     "name": "stderr",
     "output_type": "stream",
     "text": [
      "INFO:tensorflow:Loading image /home/akash/Desktop/workspace/gesture-control/dataset/OPEN_PALM/IMG_90.jpg\n"
     ]
    },
    {
     "name": "stdout",
     "output_type": "stream",
     "text": [
      "INFO:tensorflow:Loading image /home/akash/Desktop/workspace/gesture-control/dataset/THUMB_DOWN/IMG_5.jpg\n"
     ]
    },
    {
     "name": "stderr",
     "output_type": "stream",
     "text": [
      "INFO:tensorflow:Loading image /home/akash/Desktop/workspace/gesture-control/dataset/THUMB_DOWN/IMG_5.jpg\n"
     ]
    },
    {
     "name": "stdout",
     "output_type": "stream",
     "text": [
      "INFO:tensorflow:Loading image /home/akash/Desktop/workspace/gesture-control/dataset/OPEN_PALM/IMG_10.jpg\n"
     ]
    },
    {
     "name": "stderr",
     "output_type": "stream",
     "text": [
      "INFO:tensorflow:Loading image /home/akash/Desktop/workspace/gesture-control/dataset/OPEN_PALM/IMG_10.jpg\n"
     ]
    },
    {
     "name": "stdout",
     "output_type": "stream",
     "text": [
      "Using existing files at /tmp/model_maker/gesture_recognizer/gesture_embedder\n",
      "INFO:tensorflow:Load valid hands with size: 534, num_label: 5, labels: none,CLOSED_FIST,OPEN_PALM,THUMB_DOWN,THUMB_UP.\n"
     ]
    },
    {
     "name": "stderr",
     "output_type": "stream",
     "text": [
      "INFO:tensorflow:Load valid hands with size: 534, num_label: 5, labels: none,CLOSED_FIST,OPEN_PALM,THUMB_DOWN,THUMB_UP.\n"
     ]
    }
   ],
   "source": [
    "data = gesture_recognizer.Dataset.from_folder(\n",
    "    dirname=dataset_path,\n",
    "    hparams=gesture_recognizer.HandDataPreprocessingParams()\n",
    ")\n",
    "train_data, rest_data = data.split(0.9)\n",
    "validation_data, test_data = rest_data.split(0.5)"
   ]
  },
  {
   "cell_type": "code",
   "execution_count": 39,
   "metadata": {},
   "outputs": [
    {
     "name": "stdout",
     "output_type": "stream",
     "text": [
      "Model: \"model_9\"\n",
      "_________________________________________________________________\n",
      " Layer (type)                Output Shape              Param #   \n",
      "=================================================================\n",
      " hand_embedding (InputLayer  [(None, 128)]             0         \n",
      " )                                                               \n",
      "                                                                 \n",
      " batch_normalization_9 (Bat  (None, 128)               512       \n",
      " chNormalization)                                                \n",
      "                                                                 \n",
      " re_lu_9 (ReLU)              (None, 128)               0         \n",
      "                                                                 \n",
      " dropout_9 (Dropout)         (None, 128)               0         \n",
      "                                                                 \n",
      " custom_gesture_recognizer_  (None, 5)                 645       \n",
      " out (Dense)                                                     \n",
      "                                                                 \n",
      "=================================================================\n",
      "Total params: 1157 (4.52 KB)\n",
      "Trainable params: 901 (3.52 KB)\n",
      "Non-trainable params: 256 (1.00 KB)\n",
      "_________________________________________________________________\n",
      "None\n",
      "INFO:tensorflow:Training the models...\n"
     ]
    },
    {
     "name": "stderr",
     "output_type": "stream",
     "text": [
      "INFO:tensorflow:Training the models...\n"
     ]
    },
    {
     "name": "stdout",
     "output_type": "stream",
     "text": [
      "Epoch 1/20\n",
      "    235/Unknown - 2s 4ms/step - loss: 0.8410 - categorical_accuracy: 0.4043"
     ]
    },
    {
     "name": "stderr",
     "output_type": "stream",
     "text": [
      "2024-05-09 20:58:55.617409: I tensorflow/core/framework/local_rendezvous.cc:421] Local rendezvous recv item cancelled. Key hash: 3879351186861488497\n",
      "2024-05-09 20:58:55.617444: I tensorflow/core/framework/local_rendezvous.cc:421] Local rendezvous recv item cancelled. Key hash: 11208044690183513024\n"
     ]
    },
    {
     "name": "stdout",
     "output_type": "stream",
     "text": [
      "240/240 [==============================] - 3s 8ms/step - loss: 0.8401 - categorical_accuracy: 0.4042 - val_loss: 0.3675 - val_categorical_accuracy: 0.5926 - lr: 0.0010\n",
      "Epoch 2/20\n",
      "  1/240 [..............................] - ETA: 4s - loss: 1.1029 - categorical_accuracy: 0.0000e+00"
     ]
    },
    {
     "name": "stderr",
     "output_type": "stream",
     "text": [
      "2024-05-09 20:58:56.545393: I tensorflow/core/framework/local_rendezvous.cc:421] Local rendezvous recv item cancelled. Key hash: 7317996525992135479\n",
      "2024-05-09 20:58:56.545427: I tensorflow/core/framework/local_rendezvous.cc:421] Local rendezvous recv item cancelled. Key hash: 141352963707592438\n"
     ]
    },
    {
     "name": "stdout",
     "output_type": "stream",
     "text": [
      "240/240 [==============================] - 2s 7ms/step - loss: 0.6277 - categorical_accuracy: 0.6000 - val_loss: 0.2398 - val_categorical_accuracy: 0.7407 - lr: 9.9000e-04\n",
      "Epoch 3/20\n",
      "240/240 [==============================] - 2s 7ms/step - loss: 0.5699 - categorical_accuracy: 0.6604 - val_loss: 0.1853 - val_categorical_accuracy: 0.8148 - lr: 9.8010e-04\n",
      "Epoch 4/20\n",
      "240/240 [==============================] - 2s 8ms/step - loss: 0.5154 - categorical_accuracy: 0.6958 - val_loss: 0.1622 - val_categorical_accuracy: 0.8519 - lr: 9.7030e-04\n",
      "Epoch 5/20\n",
      "240/240 [==============================] - 2s 7ms/step - loss: 0.4920 - categorical_accuracy: 0.7021 - val_loss: 0.1504 - val_categorical_accuracy: 0.8889 - lr: 9.6060e-04\n",
      "Epoch 6/20\n",
      "240/240 [==============================] - 2s 8ms/step - loss: 0.4668 - categorical_accuracy: 0.7188 - val_loss: 0.1411 - val_categorical_accuracy: 0.8889 - lr: 9.5099e-04\n",
      "Epoch 7/20\n",
      "240/240 [==============================] - 2s 8ms/step - loss: 0.4530 - categorical_accuracy: 0.7229 - val_loss: 0.1373 - val_categorical_accuracy: 0.8889 - lr: 9.4148e-04\n",
      "Epoch 8/20\n",
      "240/240 [==============================] - 2s 8ms/step - loss: 0.4462 - categorical_accuracy: 0.7250 - val_loss: 0.1315 - val_categorical_accuracy: 0.9259 - lr: 9.3207e-04\n",
      "Epoch 9/20\n",
      "240/240 [==============================] - 2s 8ms/step - loss: 0.4443 - categorical_accuracy: 0.7437 - val_loss: 0.1310 - val_categorical_accuracy: 0.9259 - lr: 9.2274e-04\n",
      "Epoch 10/20\n",
      "240/240 [==============================] - 2s 7ms/step - loss: 0.4374 - categorical_accuracy: 0.7583 - val_loss: 0.1285 - val_categorical_accuracy: 0.9259 - lr: 9.1352e-04\n",
      "Epoch 11/20\n",
      "240/240 [==============================] - 2s 8ms/step - loss: 0.4282 - categorical_accuracy: 0.7521 - val_loss: 0.1333 - val_categorical_accuracy: 0.9259 - lr: 9.0438e-04\n",
      "Epoch 12/20\n",
      "240/240 [==============================] - 2s 8ms/step - loss: 0.4321 - categorical_accuracy: 0.7437 - val_loss: 0.1169 - val_categorical_accuracy: 0.9259 - lr: 8.9534e-04\n",
      "Epoch 13/20\n",
      "240/240 [==============================] - 2s 8ms/step - loss: 0.4171 - categorical_accuracy: 0.7437 - val_loss: 0.1108 - val_categorical_accuracy: 0.9259 - lr: 8.8638e-04\n",
      "Epoch 14/20\n",
      "240/240 [==============================] - 2s 9ms/step - loss: 0.4053 - categorical_accuracy: 0.7688 - val_loss: 0.1288 - val_categorical_accuracy: 0.9259 - lr: 8.7752e-04\n",
      "Epoch 15/20\n",
      "240/240 [==============================] - 2s 8ms/step - loss: 0.3924 - categorical_accuracy: 0.7667 - val_loss: 0.1148 - val_categorical_accuracy: 0.9259 - lr: 8.6875e-04\n",
      "Epoch 16/20\n",
      "240/240 [==============================] - 2s 8ms/step - loss: 0.4049 - categorical_accuracy: 0.7521 - val_loss: 0.1120 - val_categorical_accuracy: 0.9259 - lr: 8.6006e-04\n",
      "Epoch 17/20\n",
      "240/240 [==============================] - 2s 8ms/step - loss: 0.3871 - categorical_accuracy: 0.7708 - val_loss: 0.1089 - val_categorical_accuracy: 0.9259 - lr: 8.5146e-04\n",
      "Epoch 18/20\n",
      "240/240 [==============================] - 2s 8ms/step - loss: 0.3928 - categorical_accuracy: 0.7646 - val_loss: 0.1162 - val_categorical_accuracy: 0.9259 - lr: 8.4294e-04\n",
      "Epoch 19/20\n",
      "240/240 [==============================] - 2s 8ms/step - loss: 0.3842 - categorical_accuracy: 0.7750 - val_loss: 0.1066 - val_categorical_accuracy: 0.9259 - lr: 8.3451e-04\n",
      "Epoch 20/20\n",
      "240/240 [==============================] - 2s 9ms/step - loss: 0.3782 - categorical_accuracy: 0.7812 - val_loss: 0.1151 - val_categorical_accuracy: 0.9259 - lr: 8.2617e-04\n"
     ]
    }
   ],
   "source": [
    "hparams = gesture_recognizer.HParams(epochs=20, export_dir=\"exported_model\")\n",
    "model_options = gesture_recognizer.ModelOptions(layer_widths=[])\n",
    "options = gesture_recognizer.GestureRecognizerOptions(model_options=model_options, hparams=hparams)\n",
    "model = gesture_recognizer.GestureRecognizer.create(\n",
    "    train_data=train_data,\n",
    "    validation_data=validation_data,\n",
    "    options=options\n",
    ")"
   ]
  },
  {
   "cell_type": "code",
   "execution_count": 40,
   "metadata": {},
   "outputs": [
    {
     "name": "stdout",
     "output_type": "stream",
     "text": [
      "27/27 [==============================] - 1s 3ms/step - loss: 0.1946 - categorical_accuracy: 0.8519\n",
      "Test loss:0.1945643275976181, Test accuracy:0.8518518805503845\n"
     ]
    },
    {
     "name": "stderr",
     "output_type": "stream",
     "text": [
      "2024-05-09 20:59:39.802858: I tensorflow/core/framework/local_rendezvous.cc:421] Local rendezvous recv item cancelled. Key hash: 7317996525992135479\n",
      "2024-05-09 20:59:39.802928: I tensorflow/core/framework/local_rendezvous.cc:421] Local rendezvous recv item cancelled. Key hash: 141352963707592438\n"
     ]
    }
   ],
   "source": [
    "loss, acc = model.evaluate(test_data, batch_size=1)\n",
    "print(f\"Test loss:{loss}, Test accuracy:{acc}\")"
   ]
  },
  {
   "cell_type": "code",
   "execution_count": 41,
   "metadata": {},
   "outputs": [
    {
     "name": "stdout",
     "output_type": "stream",
     "text": [
      "Using existing files at /tmp/model_maker/gesture_recognizer/gesture_embedder.tflite\n",
      "Using existing files at /tmp/model_maker/gesture_recognizer/palm_detection_full.tflite\n",
      "Using existing files at /tmp/model_maker/gesture_recognizer/hand_landmark_full.tflite\n",
      "Using existing files at /tmp/model_maker/gesture_recognizer/canned_gesture_classifier.tflite\n",
      "INFO:tensorflow:Assets written to: /tmp/tmphksctu8x/saved_model/assets\n"
     ]
    },
    {
     "name": "stderr",
     "output_type": "stream",
     "text": [
      "INFO:tensorflow:Assets written to: /tmp/tmphksctu8x/saved_model/assets\n"
     ]
    },
    {
     "name": "stdout",
     "output_type": "stream",
     "text": [
      "best_model_weights.data-00000-of-00001\tepoch_models\t\t metadata.json\n",
      "best_model_weights.index\t\tgesture_recognizer.task\n",
      "checkpoint\t\t\t\tlogs\n"
     ]
    },
    {
     "name": "stderr",
     "output_type": "stream",
     "text": [
      "2024-05-09 20:59:42.937861: W tensorflow/compiler/mlir/lite/python/tf_tfl_flatbuffer_helpers.cc:378] Ignored output_format.\n",
      "2024-05-09 20:59:42.937894: W tensorflow/compiler/mlir/lite/python/tf_tfl_flatbuffer_helpers.cc:381] Ignored drop_control_dependency.\n",
      "2024-05-09 20:59:42.938062: I tensorflow/cc/saved_model/reader.cc:83] Reading SavedModel from: /tmp/tmphksctu8x/saved_model\n",
      "2024-05-09 20:59:42.938714: I tensorflow/cc/saved_model/reader.cc:51] Reading meta graph with tags { serve }\n",
      "2024-05-09 20:59:42.938726: I tensorflow/cc/saved_model/reader.cc:146] Reading SavedModel debug info (if present) from: /tmp/tmphksctu8x/saved_model\n",
      "2024-05-09 20:59:42.940177: I tensorflow/cc/saved_model/loader.cc:233] Restoring SavedModel bundle.\n",
      "2024-05-09 20:59:42.961292: I tensorflow/cc/saved_model/loader.cc:217] Running initialization op on SavedModel bundle at path: /tmp/tmphksctu8x/saved_model\n",
      "2024-05-09 20:59:42.968050: I tensorflow/cc/saved_model/loader.cc:316] SavedModel load for tags { serve }; Status: success: OK. Took 29986 microseconds.\n",
      "Summary on the non-converted ops:\n",
      "---------------------------------\n",
      " * Accepted dialects: tfl, builtin, func\n",
      " * Non-Converted Ops: 4, Total Ops 11, % non-converted = 36.36 %\n",
      " * 4 ARITH ops\n",
      "\n",
      "- arith.constant:    4 occurrences  (f32: 4)\n",
      "\n",
      "\n",
      "\n",
      "  (f32: 1)\n",
      "  (f32: 1)\n",
      "  (f32: 1)\n",
      "  (f32: 1)\n",
      "/home/akash/.pyenv/versions/3.11.9/lib/python3.11/pty.py:89: RuntimeWarning: os.fork() was called. os.fork() is incompatible with multithreaded code, and JAX is multithreaded, so this will likely lead to a deadlock.\n",
      "  pid, fd = os.forkpty()\n"
     ]
    }
   ],
   "source": [
    "model.export_model()\n",
    "!ls exported_model"
   ]
  }
 ],
 "metadata": {
  "kernelspec": {
   "display_name": "venv",
   "language": "python",
   "name": "python3"
  },
  "language_info": {
   "codemirror_mode": {
    "name": "ipython",
    "version": 3
   },
   "file_extension": ".py",
   "mimetype": "text/x-python",
   "name": "python",
   "nbconvert_exporter": "python",
   "pygments_lexer": "ipython3",
   "version": "3.11.9"
  }
 },
 "nbformat": 4,
 "nbformat_minor": 2
}
